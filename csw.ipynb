{
 "cells": [
  {
   "cell_type": "code",
   "execution_count": null,
   "metadata": {},
   "outputs": [],
   "source": [
    "import pandas as pd\n",
    "import numpy as np\n",
    "import seaborn as sns\n",
    "import re\n",
    "from plotly.offline import init_notebook_mode,iplot\n",
    "import matplotlib as mpl\n",
    "import matplotlib.pyplot as plt\n",
    "from subprocess import check_output\n",
    "from wordcloud import WordCloud, STOPWORDS\n",
    "init_notebook_mode(connected=True)\n",
    "pd.set_option('display.max_columns', None)\n",
    "pd.options.mode.chained_assignment = None\n",
    "\n",
    "movies_df = pd.read_csv('../input/rotten-tomatoes-movies-and-critic-reviews-dataset/rotten_tomatoes_movies.csv')\n",
    "reviews_df = pd.read_csv('../input/rotten-tomatoes-movies-and-critic-reviews-dataset/rotten_tomatoes_critic_reviews.csv')"
   ]
  },
  {
   "cell_type": "code",
   "execution_count": null,
   "metadata": {},
   "outputs": [],
   "source": [
    "movies_df.head(5)"
   ]
  },
  {
   "cell_type": "code",
   "execution_count": null,
   "metadata": {},
   "outputs": [],
   "source": [
    "reviews_df.head(5)"
   ]
  },
  {
   "cell_type": "code",
   "execution_count": null,
   "metadata": {},
   "outputs": [],
   "source": [
    "movies_df = movies_df[movies_df.original_release_date.notnull()]\n",
    "movies_df['original_release_date'] = pd.to_datetime(movies_df['original_release_date'])\n",
    "movies_df['movie_year'] = movies_df['original_release_date'].apply(lambda x: x.year)\n",
    "\n",
    "sns.set(style=\"white\")\n",
    "\n",
    "plt.figure(figsize=(15,10))\n",
    "plt.title('Movies by the year', size=20)\n",
    "sns.distplot(movies_df.movie_year, kde=False)\n",
    "plt.ylabel('Number of movies', size=15)\n",
    "plt.xlabel('Year of release',size=15)\n",
    "plt.axis([1920, 2019, 0, 1750])\n",
    "plt.xticks(np.arange(1920, 2018, step=5),rotation=45, ha='right')\n",
    "plt.show()"
   ]
  },
  {
   "cell_type": "code",
   "execution_count": null,
   "metadata": {},
   "outputs": [],
   "source": [
    "reviews_df = reviews_df[reviews_df.review_date.notnull()]\n",
    "reviews_df['review_date'] = pd.to_datetime(reviews_df['review_date'])\n",
    "reviews_df['review_year'] = reviews_df['review_date'].apply(lambda x: x.year)\n",
    "reviews_df = reviews_df[reviews_df.review_year.astype(int) >= 2000]\n",
    "\n",
    "plt.figure(figsize=(15,10))\n",
    "plt.title('Reviews by the year', size=20)\n",
    "sns.distplot(reviews_df.review_year, bins=20, kde=False)\n",
    "plt.ylabel('Number of critic reviews', size=15)\n",
    "plt.xlabel('Year of review posted',size=15)\n",
    "plt.axis([2000, 2019, 0, 75000])\n",
    "plt.xticks(np.arange(2000, 2019, step=1),rotation=45, ha='right')\n",
    "plt.show()"
   ]
  },
  {
   "cell_type": "code",
   "execution_count": null,
   "metadata": {},
   "outputs": [],
   "source": [
    "movies_df = movies_df[(movies_df.tomatometer_rating.notnull()) &\n",
    "                      (movies_df.audience_rating.notnull())]\n",
    "sns.jointplot(x=movies_df['movie_year'], y=movies_df['tomatometer_rating'],\n",
    "              kind=\"kde\").fig.set_size_inches(15,15)"
   ]
  },
  {
   "cell_type": "code",
   "execution_count": null,
   "metadata": {},
   "outputs": [],
   "source": [
    "sns.jointplot(x=movies_df['movie_year'], y=movies_df['audience_rating'],\n",
    "              kind=\"kde\").fig.set_size_inches(15,15)"
   ]
  },
  {
   "cell_type": "code",
   "execution_count": null,
   "metadata": {},
   "outputs": [],
   "source": [
    "a = plt.cm.cool\n",
    "\n",
    "plt.figure(figsize=(15,10))\n",
    "count = movies_df['production_company'].value_counts()[:10]\n",
    "sns.barplot(count.values, count.index, palette=[a(0.1),a(0.2),a(0.3),a(0.4),a(0.5),a(0.6),a(0.7),a(0.8),a(0.9),a(0.99)])\n",
    "for i, v in enumerate(count.values):\n",
    "    plt.text(0.8,i,v,color='k',fontsize=14)\n",
    "plt.xlabel('Count', fontsize=12)\n",
    "plt.ylabel('Studio name', fontsize=12)\n",
    "plt.title(\"Distribution of Studio names\", fontsize=16)"
   ]
  },
  {
   "cell_type": "code",
   "execution_count": null,
   "metadata": {},
   "outputs": [],
   "source": [
    "movies_df['first_genre'] = movies_df['genres'].str.split(',').str[0]\n",
    "\n",
    "a = plt.cm.cool\n",
    "\n",
    "plt.figure(figsize=(15,10))\n",
    "count = movies_df['first_genre'].value_counts()[:7]\n",
    "sns.barplot(count.values, count.index, palette=[a(0.1),a(0.2),a(0.3),a(0.4),a(0.5),a(0.6),a(0.7)])\n",
    "for i, v in enumerate(count.values):\n",
    "    plt.text(0.8,i,v,color='k',fontsize=14)\n",
    "plt.xlabel('Count', fontsize=12)\n",
    "plt.ylabel('Genre name', fontsize=12)\n",
    "plt.title(\"Distribution of Genres\", fontsize=16)"
   ]
  },
  {
   "cell_type": "code",
   "execution_count": null,
   "metadata": {},
   "outputs": [],
   "source": [
    "top_genres = list(count.index)\n",
    "movie_genres_df = movies_df[movies_df['first_genre'].isin(top_genres)]\n",
    "movie_genres_df = movie_genres_df[pd.notnull(movie_genres_df[['first_genre', 'tomatometer_rating', 'tomatometer_status', 'tomatometer_count',\n",
    "                                                              'audience_rating', 'audience_status', 'audience_count']])]\n",
    "\n",
    "plt.figure(figsize=(15, 10))\n",
    "sns.boxplot(x='first_genre', y='tomatometer_rating', data=movie_genres_df)\n",
    "plt.xlabel(\"Genre Name\",fontsize=12)\n",
    "plt.ylabel(\"TomatoMeter Rating\",fontsize=12)\n",
    "plt.title(\"Boxplot of TomatoMeter rating per Genre\", fontsize=16)\n",
    "plt.show()\n"
   ]
  },
  {
   "cell_type": "code",
   "execution_count": null,
   "metadata": {},
   "outputs": [],
   "source": [
    "plt.figure(figsize=(15, 10))\n",
    "sns.boxplot(x='first_genre', y='audience_rating', data=movie_genres_df)\n",
    "plt.xlabel(\"Genre Name\",fontsize=12)\n",
    "plt.ylabel(\"Audience Rating\",fontsize=12)\n",
    "plt.title(\"Boxplot of Audience rating per Genre\", fontsize=16)\n",
    "plt.show()"
   ]
  },
  {
   "cell_type": "code",
   "execution_count": null,
   "metadata": {},
   "outputs": [],
   "source": [
    "genre_rating_tomatometer = pd.crosstab(movie_genres_df.first_genre, movie_genres_df.tomatometer_status, margins=True)\n",
    "genre_rating_tomatometer.style.background_gradient(cmap='summer_r')"
   ]
  },
  {
   "cell_type": "code",
   "execution_count": null,
   "metadata": {},
   "outputs": [],
   "source": [
    "genre_rating_audience = pd.crosstab(movie_genres_df.first_genre, movie_genres_df.audience_status, margins=True)\n",
    "genre_rating_audience.style.background_gradient(cmap='summer_r')"
   ]
  },
  {
   "cell_type": "code",
   "execution_count": null,
   "metadata": {},
   "outputs": [],
   "source": [
    "# avoiding the \"factorplot\" error message\n",
    "import warnings\n",
    "warnings.filterwarnings(\"ignore\")\n",
    "\n",
    "sns.factorplot('first_genre', 'tomatometer_count', hue='tomatometer_status', data=movie_genres_df)\n",
    "fig = plt.gcf()\n",
    "fig.set_size_inches(20, 8)\n",
    "plt.xlabel(\"Genre Name\",fontsize=12)\n",
    "plt.ylabel(\"TomatoMeter Count\",fontsize=12)\n",
    "plt.title(\"Factorplots of Genres and TomatoMeter data\", fontsize=16)\n",
    "plt.show()"
   ]
  },
  {
   "cell_type": "code",
   "execution_count": null,
   "metadata": {},
   "outputs": [],
   "source": [
    "sns.factorplot('first_genre', 'audience_count', hue='audience_status', data=movie_genres_df)\n",
    "fig = plt.gcf()\n",
    "fig.set_size_inches(20, 8)\n",
    "plt.xlabel(\"Genre Name\",fontsize=12)\n",
    "plt.ylabel(\"Audience Count\",fontsize=12)\n",
    "plt.title(\"Factorplots of Genres and Audience data\", fontsize=16)\n",
    "plt.show()"
   ]
  },
  {
   "cell_type": "code",
   "execution_count": null,
   "metadata": {},
   "outputs": [],
   "source": [
    "f,ax = plt.subplots(3,1, figsize=(15, 30))\n",
    "sns.distplot(movie_genres_df[(movie_genres_df['tomatometer_status'] == 'Certified-Fresh') &\n",
    "                             (movie_genres_df['tomatometer_count'] <= 400)].tomatometer_count, ax=ax[0], bins=30)\n",
    "ax[0].set_title('TomatoMeter count in Certified Fresh', fontsize=16)\n",
    "ax[0].set_xlabel(\"TomatoMeter Count\",fontsize=12)\n",
    "ax[0].set_xlim([0,400])\n",
    "sns.distplot(movie_genres_df[(movie_genres_df['tomatometer_status'] == 'Fresh') &\n",
    "                             (movie_genres_df['tomatometer_count'] <= 400)].tomatometer_count, ax=ax[1], bins=30)\n",
    "ax[1].set_title('TomatoMeter count in Fresh', fontsize=16)\n",
    "ax[1].set_xlabel(\"TomatoMeter Count\",fontsize=12)\n",
    "ax[1].set_xlim([0,400])\n",
    "sns.distplot(movie_genres_df[(movie_genres_df['tomatometer_status'] == 'Rotten') &\n",
    "                             (movie_genres_df['tomatometer_count'] <= 400)].tomatometer_count, ax=ax[2], bins=30)\n",
    "ax[2].set_title('TomatoMeter count in Rotten', fontsize=16)\n",
    "ax[2].set_xlabel(\"TomatoMeter Count\",fontsize=12)\n",
    "ax[2].set_xlim([0,400])\n",
    "plt.show()"
   ]
  },
  {
   "cell_type": "code",
   "execution_count": null,
   "metadata": {},
   "outputs": [],
   "source": [
    "f,ax = plt.subplots(2,1, figsize=(15, 20))\n",
    "sns.distplot(movie_genres_df[(movie_genres_df['audience_status'] == 'Upright') &\n",
    "                             (movie_genres_df['audience_count'] <= 10000)].audience_count, ax=ax[0], bins=30)\n",
    "ax[0].set_title('Audience count in Upright', fontsize=16)\n",
    "ax[0].set_xlabel(\"Audience Count\",fontsize=12)\n",
    "ax[0].set_xlim([0,10000])\n",
    "sns.distplot(movie_genres_df[(movie_genres_df['audience_status'] == 'Spilled') &\n",
    "                             (movie_genres_df['audience_count'] <= 10000)].audience_count, ax=ax[1], bins=30)\n",
    "ax[1].set_title('Audience count in Spilled', fontsize=16)\n",
    "ax[1].set_xlabel(\"Audience Count\",fontsize=12)\n",
    "ax[1].set_xlim([0,10000])\n",
    "plt.show()"
   ]
  },
  {
   "cell_type": "code",
   "execution_count": null,
   "metadata": {},
   "outputs": [],
   "source": [
    "group_names = movie_genres_df.first_genre.value_counts().head(7).index\n",
    "group_size = movie_genres_df.first_genre.value_counts().head(7)\n",
    "subgroup_names = ['CertFresh','Fresh','Rotten', 'CertFresh','Fresh','Rotten', 'CertFresh','Fresh','Rotten', 'CertFresh', 'Fresh', 'Rotten',\n",
    "                  'CertFresh','Fresh','Rotten', 'CertFresh','Fresh','Rotten', 'CertFresh','Fresh','Rotten']\n",
    "size_list = []\n",
    "for element in group_names:\n",
    "    size_list.append(genre_rating_tomatometer.loc[element]['Certified-Fresh'])\n",
    "    size_list.append(genre_rating_tomatometer.loc[element]['Fresh'])\n",
    "    size_list.append(genre_rating_tomatometer.loc[element]['Rotten'])\n",
    "subgroup_size = size_list\n",
    "\n",
    "fig, ax = plt.subplots()\n",
    "ax.axis('equal')\n",
    "outter_pie, _ = ax.pie(group_size, radius=4, labels=group_names,\n",
    "                       colors=[a(0.1),a(0.2),a(0.3),a(0.4),a(0.5),a(0.6),a(0.7)])\n",
    "plt.setp(outter_pie, width=1, edgecolor='white') \n",
    "inner_pie, _ = ax.pie(subgroup_size, radius=3, labels=subgroup_names, labeldistance=0.83,\n",
    "                      colors=['green','gold','red', 'green','gold','red', 'green','gold','red', 'green','gol d','red',\n",
    "                              'green','gold','red', 'green','gold','red', 'green','gold','red'])\n",
    "plt.setp(inner_pie, width=0.4, edgecolor='white')\n",
    "plt.margins(0,0)\n",
    "plt.show()"
   ]
  },
  {
   "cell_type": "code",
   "execution_count": null,
   "metadata": {},
   "outputs": [],
   "source": [
    "group_names = movie_genres_df.first_genre.value_counts().head(7).index\n",
    "group_size = movie_genres_df.first_genre.value_counts().head(7)\n",
    "subgroup_names = ['Upright','Spilled', 'Upright','Spilled', 'Upright','Spilled', 'Upright','Spilled',\n",
    "                  'Upright','Spilled', 'Upright','Spilled', 'Upright','Spilled']\n",
    "size_list = []\n",
    "for element in group_names:\n",
    "    size_list.append(genre_rating_audience.loc[element]['Upright'])\n",
    "    size_list.append(genre_rating_audience.loc[element]['Spilled'])\n",
    "subgroup_size = size_list\n",
    "\n",
    "fig, ax = plt.subplots()\n",
    "ax.axis('equal')\n",
    "outter_pie, _ = ax.pie(group_size, radius=4, labels=group_names,\n",
    "                       colors=[a(0.1),a(0.2),a(0.3),a(0.4),a(0.5),a(0.6),a(0.7)])\n",
    "plt.setp(outter_pie, width=1, edgecolor='white') \n",
    "inner_pie, _ = ax.pie(subgroup_size, radius=3, labels=subgroup_names, labeldistance=0.83,\n",
    "                      colors=['green','red', 'green','red', 'green','red', 'green','red',\n",
    "                              'green','red', 'green','red', 'green','red'])\n",
    "plt.setp(inner_pie, width=0.4, edgecolor='white')\n",
    "plt.margins(0,0)\n",
    "plt.show()"
   ]
  },
  {
   "cell_type": "code",
   "execution_count": null,
   "metadata": {},
   "outputs": [],
   "source": [
    "a = plt.cm.cool\n",
    "\n",
    "plt.figure(figsize=(15,10))\n",
    "count = reviews_df['publisher_name'].value_counts()[:10]\n",
    "sns.barplot(count.values, count.index, palette=[a(0.1),a(0.2),a(0.3),a(0.4),a(0.5),a(0.6),a(0.7),a(0.8),a(0.9),a(0.99)])\n",
    "for i, v in enumerate(count.values):\n",
    "    plt.text(0.8,i,v,color='k',fontsize=14)\n",
    "plt.xlabel('Count', fontsize=12)\n",
    "plt.ylabel('Studio name', fontsize=12)\n",
    "plt.title(\"Distribution of Publisher names in critic reviews\", fontsize=16)"
   ]
  },
  {
   "cell_type": "code",
   "execution_count": null,
   "metadata": {},
   "outputs": [],
   "source": [
    "def cleaning_review_scores(x):\n",
    "    x = re.sub(' +', '', x)\n",
    "    if '/' in x: # rating is numeric, but need to transform it in score out of 10\n",
    "        numer = float(x[:x.index('/')])\n",
    "        denom = float(x[x.index('/')+1:])\n",
    "        if (denom >= numer) and (denom > 0):\n",
    "            return round(numer * (10 / denom), 2)\n",
    "        else:\n",
    "            return np.nan\n",
    "    else: # rating is non-numeric\n",
    "        if x == 'A':\n",
    "            return 10\n",
    "        elif x == 'A-':\n",
    "            return 9.25\n",
    "        elif x == 'B+':\n",
    "            return 8.25\n",
    "        elif x == 'B':\n",
    "            return 7.5\n",
    "        elif x == 'B-':\n",
    "            return 6.75\n",
    "        elif x == 'C+':\n",
    "            return 5.75\n",
    "         elif x == 'C':\n",
    "            return 5\n",
    "        elif x == 'C-':\n",
    "            return 4.25\n",
    "        elif x == 'D+':\n",
    "            return 3.25\n",
    "        elif x == 'D':\n",
    "            return 2.5\n",
    "        elif x == 'D-':\n",
    "            return 1.75\n",
    "        elif x == 'F':\n",
    "            return 0\n",
    "\n",
    "review_scores_df = reviews_df[(reviews_df.review_score.notnull()) & (reviews_df.review_score.str.isnumeric() == False)]\n",
    "review_scores_df['review_score'] = review_scores_df['review_score'].apply(cleaning_review_scores)\n",
    "review_scores_df['review_score'] = pd.to_numeric(review_scores_df['review_score'], errors='coerce')\n",
    "review_scores_df = review_scores_df[(review_scores_df.review_score.notnull()) & (review_scores_df.review_content.notnull())]\n",
    "review_scores_df['review_date'] = pd.to_datetime(review_scores_df['review_date'])\n",
    "review_scores_df['review_year'] = review_scores_df['review_date'].apply(lambda x: x.year)\n",
    "review_scores_df = review_scores_df[review_scores_df['review_year'] >= 2000]\n",
    "review_scores_df.insert(1, 'first_genre', review_scores_df['rotten_tomatoes_link'].map(movies_df.set_index('rotten_tomatoes_link')['first_genre']))"
   ]
  },
  {
   "cell_type": "code",
   "execution_count": null,
   "metadata": {},
   "outputs": [],
   "source": [
    "plt.figure(figsize=(15, 10))\n",
    "sns.boxplot(x='review_year', y='review_score', data=review_scores_df)\n",
    "plt.xlabel(\"Review Year\",fontsize=12)\n",
    "plt.ylabel(\"Critic Rating\",fontsize=12)\n",
    "plt.title(\"Boxplot of Critic rating per Year\", fontsize=16)\n",
    "plt.show()"
   ]
  },
  {
   "cell_type": "code",
   "execution_count": null,
   "metadata": {},
   "outputs": [],
   "source": [
    "stopwords = set(STOPWORDS)\n",
    "\n",
    "def topicWordCloud(subset):\n",
    "    wordcloud = WordCloud(width=1800, height=1200,\n",
    "                      background_color='white',\n",
    "                      stopwords=stopwords,\n",
    "                      max_words=200,\n",
    "                      min_font_size=20,\n",
    "                      random_state=42).generate(str(subset))\n",
    "    return wordcloud"
   ]
  },
  {
   "cell_type": "code",
   "execution_count": null,
   "metadata": {},
   "outputs": [],
   "source": [
    "positive_reviews_df = review_scores_df[review_scores_df['review_score'] >= 7.5]['review_content']\n",
    "negative_reviews_df = review_scores_df[review_scores_df['review_score'] <= 2.5]['review_content']\n",
    "\n",
    "fig = plt.figure(figsize=(18, 12), facecolor=None)\n",
    "for i in range(2):\n",
    "    ax = fig.add_subplot(1, 2, i+1)\n",
    "    if i+1 == 1:\n",
    "        subset= positive_reviews_df\n",
    "        plot_title = 'Positive reviews'\n",
    "    elif i+1 == 2:\n",
    "        subset = negative_reviews_df\n",
    "        plot_title = 'Negative reviews'\n",
    "    wordcloud = topicWordCloud(subset)\n",
    "    plt.title(plot_title)\n",
    "    ax.imshow(wordcloud)\n",
    "    ax.axis('off')"
   ]
  },
  {
   "cell_type": "code",
   "execution_count": null,
   "metadata": {},
   "outputs": [],
   "source": [
    "genres_list = ['Drama', 'Comedy', 'Action & Adventure', 'Art House & International', 'Documentary', 'Classics']\n",
    "\n",
    "fig = plt.figure(figsize=(25, 18), facecolor=None)\n",
    "for i in range(6):\n",
    "    ax = fig.add_subplot(2, 3, i+1)\n",
    "    subset = review_scores_df[review_scores_df['first_genre'] == genres_list[i]]['review_content']\n",
    "    plot_title = genres_list[i]\n",
    "    wordcloud = topicWordCloud(subset)\n",
    "    plt.title(plot_title)\n",
    "    ax.imshow(wordcloud)\n",
    "    ax.axis('off')"
   ]
  }
 ],
 "metadata": {
  "interpreter": {
   "hash": "6beb2e9681e0e9a4403d6ad4a1b29b2f116269149ae109e3537cd17bac79b06b"
  },
  "kernelspec": {
   "display_name": "Python 3.9.7 ('base')",
   "language": "python",
   "name": "python3"
  },
  "language_info": {
   "codemirror_mode": {
    "name": "ipython",
    "version": 3
   },
   "file_extension": ".py",
   "mimetype": "text/x-python",
   "name": "python",
   "nbconvert_exporter": "python",
   "pygments_lexer": "ipython3",
   "version": "3.9.7"
  },
  "orig_nbformat": 4
 },
 "nbformat": 4,
 "nbformat_minor": 2
}
