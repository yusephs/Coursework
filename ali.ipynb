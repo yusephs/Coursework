{
 "cells": [
  {
   "cell_type": "code",
<<<<<<< Updated upstream
   "execution_count": 12,
=======
   "execution_count": 14,
>>>>>>> Stashed changes
   "metadata": {},
   "outputs": [],
   "source": [
    "import pandas as pd"
   ]
  },
  {
   "cell_type": "code",
<<<<<<< Updated upstream
   "execution_count": 13,
=======
   "execution_count": 15,
>>>>>>> Stashed changes
   "metadata": {},
   "outputs": [],
   "source": [
    "from matplotlib import pyplot as plt"
   ]
  },
  {
   "cell_type": "code",
<<<<<<< Updated upstream
   "execution_count": 11,
   "metadata": {},
   "outputs": [
    {
     "ename": "ParserError",
     "evalue": "Error tokenizing data. C error: Expected 92 fields in line 127, saw 150\n",
     "output_type": "error",
     "traceback": [
      "\u001b[1;31m---------------------------------------------------------------------------\u001b[0m",
      "\u001b[1;31mParserError\u001b[0m                               Traceback (most recent call last)",
      "\u001b[1;32mc:\\Users\\alialkirzam\\OneDrive - Liverpool John Moores University\\Documents\\GitHub\\Coursework\\Coursework-3\\ali.ipynb Cell 3'\u001b[0m in \u001b[0;36m<module>\u001b[1;34m\u001b[0m\n\u001b[1;32m----> <a href='vscode-notebook-cell:/c%3A/Users/alialkirzam/OneDrive%20-%20Liverpool%20John%20Moores%20University/Documents/GitHub/Coursework/Coursework-3/ali.ipynb#ch0000002?line=0'>1</a>\u001b[0m sample_data\u001b[39m=\u001b[39mpd\u001b[39m.\u001b[39;49mread_csv(\u001b[39m'\u001b[39;49m\u001b[39mdata2.csv\u001b[39;49m\u001b[39m'\u001b[39;49m)\n",
      "File \u001b[1;32m~\\miniconda3\\lib\\site-packages\\pandas\\util\\_decorators.py:311\u001b[0m, in \u001b[0;36mdeprecate_nonkeyword_arguments.<locals>.decorate.<locals>.wrapper\u001b[1;34m(*args, **kwargs)\u001b[0m\n\u001b[0;32m    <a href='file:///c%3A/Users/alialkirzam/miniconda3/lib/site-packages/pandas/util/_decorators.py?line=304'>305</a>\u001b[0m \u001b[39mif\u001b[39;00m \u001b[39mlen\u001b[39m(args) \u001b[39m>\u001b[39m num_allow_args:\n\u001b[0;32m    <a href='file:///c%3A/Users/alialkirzam/miniconda3/lib/site-packages/pandas/util/_decorators.py?line=305'>306</a>\u001b[0m     warnings\u001b[39m.\u001b[39mwarn(\n\u001b[0;32m    <a href='file:///c%3A/Users/alialkirzam/miniconda3/lib/site-packages/pandas/util/_decorators.py?line=306'>307</a>\u001b[0m         msg\u001b[39m.\u001b[39mformat(arguments\u001b[39m=\u001b[39marguments),\n\u001b[0;32m    <a href='file:///c%3A/Users/alialkirzam/miniconda3/lib/site-packages/pandas/util/_decorators.py?line=307'>308</a>\u001b[0m         \u001b[39mFutureWarning\u001b[39;00m,\n\u001b[0;32m    <a href='file:///c%3A/Users/alialkirzam/miniconda3/lib/site-packages/pandas/util/_decorators.py?line=308'>309</a>\u001b[0m         stacklevel\u001b[39m=\u001b[39mstacklevel,\n\u001b[0;32m    <a href='file:///c%3A/Users/alialkirzam/miniconda3/lib/site-packages/pandas/util/_decorators.py?line=309'>310</a>\u001b[0m     )\n\u001b[1;32m--> <a href='file:///c%3A/Users/alialkirzam/miniconda3/lib/site-packages/pandas/util/_decorators.py?line=310'>311</a>\u001b[0m \u001b[39mreturn\u001b[39;00m func(\u001b[39m*\u001b[39margs, \u001b[39m*\u001b[39m\u001b[39m*\u001b[39mkwargs)\n",
      "File \u001b[1;32m~\\miniconda3\\lib\\site-packages\\pandas\\io\\parsers\\readers.py:680\u001b[0m, in \u001b[0;36mread_csv\u001b[1;34m(filepath_or_buffer, sep, delimiter, header, names, index_col, usecols, squeeze, prefix, mangle_dupe_cols, dtype, engine, converters, true_values, false_values, skipinitialspace, skiprows, skipfooter, nrows, na_values, keep_default_na, na_filter, verbose, skip_blank_lines, parse_dates, infer_datetime_format, keep_date_col, date_parser, dayfirst, cache_dates, iterator, chunksize, compression, thousands, decimal, lineterminator, quotechar, quoting, doublequote, escapechar, comment, encoding, encoding_errors, dialect, error_bad_lines, warn_bad_lines, on_bad_lines, delim_whitespace, low_memory, memory_map, float_precision, storage_options)\u001b[0m\n\u001b[0;32m    <a href='file:///c%3A/Users/alialkirzam/miniconda3/lib/site-packages/pandas/io/parsers/readers.py?line=664'>665</a>\u001b[0m kwds_defaults \u001b[39m=\u001b[39m _refine_defaults_read(\n\u001b[0;32m    <a href='file:///c%3A/Users/alialkirzam/miniconda3/lib/site-packages/pandas/io/parsers/readers.py?line=665'>666</a>\u001b[0m     dialect,\n\u001b[0;32m    <a href='file:///c%3A/Users/alialkirzam/miniconda3/lib/site-packages/pandas/io/parsers/readers.py?line=666'>667</a>\u001b[0m     delimiter,\n\u001b[1;32m   (...)\u001b[0m\n\u001b[0;32m    <a href='file:///c%3A/Users/alialkirzam/miniconda3/lib/site-packages/pandas/io/parsers/readers.py?line=675'>676</a>\u001b[0m     defaults\u001b[39m=\u001b[39m{\u001b[39m\"\u001b[39m\u001b[39mdelimiter\u001b[39m\u001b[39m\"\u001b[39m: \u001b[39m\"\u001b[39m\u001b[39m,\u001b[39m\u001b[39m\"\u001b[39m},\n\u001b[0;32m    <a href='file:///c%3A/Users/alialkirzam/miniconda3/lib/site-packages/pandas/io/parsers/readers.py?line=676'>677</a>\u001b[0m )\n\u001b[0;32m    <a href='file:///c%3A/Users/alialkirzam/miniconda3/lib/site-packages/pandas/io/parsers/readers.py?line=677'>678</a>\u001b[0m kwds\u001b[39m.\u001b[39mupdate(kwds_defaults)\n\u001b[1;32m--> <a href='file:///c%3A/Users/alialkirzam/miniconda3/lib/site-packages/pandas/io/parsers/readers.py?line=679'>680</a>\u001b[0m \u001b[39mreturn\u001b[39;00m _read(filepath_or_buffer, kwds)\n",
      "File \u001b[1;32m~\\miniconda3\\lib\\site-packages\\pandas\\io\\parsers\\readers.py:581\u001b[0m, in \u001b[0;36m_read\u001b[1;34m(filepath_or_buffer, kwds)\u001b[0m\n\u001b[0;32m    <a href='file:///c%3A/Users/alialkirzam/miniconda3/lib/site-packages/pandas/io/parsers/readers.py?line=577'>578</a>\u001b[0m     \u001b[39mreturn\u001b[39;00m parser\n\u001b[0;32m    <a href='file:///c%3A/Users/alialkirzam/miniconda3/lib/site-packages/pandas/io/parsers/readers.py?line=579'>580</a>\u001b[0m \u001b[39mwith\u001b[39;00m parser:\n\u001b[1;32m--> <a href='file:///c%3A/Users/alialkirzam/miniconda3/lib/site-packages/pandas/io/parsers/readers.py?line=580'>581</a>\u001b[0m     \u001b[39mreturn\u001b[39;00m parser\u001b[39m.\u001b[39;49mread(nrows)\n",
      "File \u001b[1;32m~\\miniconda3\\lib\\site-packages\\pandas\\io\\parsers\\readers.py:1250\u001b[0m, in \u001b[0;36mTextFileReader.read\u001b[1;34m(self, nrows)\u001b[0m\n\u001b[0;32m   <a href='file:///c%3A/Users/alialkirzam/miniconda3/lib/site-packages/pandas/io/parsers/readers.py?line=1247'>1248</a>\u001b[0m nrows \u001b[39m=\u001b[39m validate_integer(\u001b[39m\"\u001b[39m\u001b[39mnrows\u001b[39m\u001b[39m\"\u001b[39m, nrows)\n\u001b[0;32m   <a href='file:///c%3A/Users/alialkirzam/miniconda3/lib/site-packages/pandas/io/parsers/readers.py?line=1248'>1249</a>\u001b[0m \u001b[39mtry\u001b[39;00m:\n\u001b[1;32m-> <a href='file:///c%3A/Users/alialkirzam/miniconda3/lib/site-packages/pandas/io/parsers/readers.py?line=1249'>1250</a>\u001b[0m     index, columns, col_dict \u001b[39m=\u001b[39m \u001b[39mself\u001b[39;49m\u001b[39m.\u001b[39;49m_engine\u001b[39m.\u001b[39;49mread(nrows)\n\u001b[0;32m   <a href='file:///c%3A/Users/alialkirzam/miniconda3/lib/site-packages/pandas/io/parsers/readers.py?line=1250'>1251</a>\u001b[0m \u001b[39mexcept\u001b[39;00m \u001b[39mException\u001b[39;00m:\n\u001b[0;32m   <a href='file:///c%3A/Users/alialkirzam/miniconda3/lib/site-packages/pandas/io/parsers/readers.py?line=1251'>1252</a>\u001b[0m     \u001b[39mself\u001b[39m\u001b[39m.\u001b[39mclose()\n",
      "File \u001b[1;32m~\\miniconda3\\lib\\site-packages\\pandas\\io\\parsers\\c_parser_wrapper.py:225\u001b[0m, in \u001b[0;36mCParserWrapper.read\u001b[1;34m(self, nrows)\u001b[0m\n\u001b[0;32m    <a href='file:///c%3A/Users/alialkirzam/miniconda3/lib/site-packages/pandas/io/parsers/c_parser_wrapper.py?line=222'>223</a>\u001b[0m \u001b[39mtry\u001b[39;00m:\n\u001b[0;32m    <a href='file:///c%3A/Users/alialkirzam/miniconda3/lib/site-packages/pandas/io/parsers/c_parser_wrapper.py?line=223'>224</a>\u001b[0m     \u001b[39mif\u001b[39;00m \u001b[39mself\u001b[39m\u001b[39m.\u001b[39mlow_memory:\n\u001b[1;32m--> <a href='file:///c%3A/Users/alialkirzam/miniconda3/lib/site-packages/pandas/io/parsers/c_parser_wrapper.py?line=224'>225</a>\u001b[0m         chunks \u001b[39m=\u001b[39m \u001b[39mself\u001b[39;49m\u001b[39m.\u001b[39;49m_reader\u001b[39m.\u001b[39;49mread_low_memory(nrows)\n\u001b[0;32m    <a href='file:///c%3A/Users/alialkirzam/miniconda3/lib/site-packages/pandas/io/parsers/c_parser_wrapper.py?line=225'>226</a>\u001b[0m         \u001b[39m# destructive to chunks\u001b[39;00m\n\u001b[0;32m    <a href='file:///c%3A/Users/alialkirzam/miniconda3/lib/site-packages/pandas/io/parsers/c_parser_wrapper.py?line=226'>227</a>\u001b[0m         data \u001b[39m=\u001b[39m _concatenate_chunks(chunks)\n",
      "File \u001b[1;32m~\\miniconda3\\lib\\site-packages\\pandas\\_libs\\parsers.pyx:805\u001b[0m, in \u001b[0;36mpandas._libs.parsers.TextReader.read_low_memory\u001b[1;34m()\u001b[0m\n",
      "File \u001b[1;32m~\\miniconda3\\lib\\site-packages\\pandas\\_libs\\parsers.pyx:861\u001b[0m, in \u001b[0;36mpandas._libs.parsers.TextReader._read_rows\u001b[1;34m()\u001b[0m\n",
      "File \u001b[1;32m~\\miniconda3\\lib\\site-packages\\pandas\\_libs\\parsers.pyx:847\u001b[0m, in \u001b[0;36mpandas._libs.parsers.TextReader._tokenize_rows\u001b[1;34m()\u001b[0m\n",
      "File \u001b[1;32m~\\miniconda3\\lib\\site-packages\\pandas\\_libs\\parsers.pyx:1960\u001b[0m, in \u001b[0;36mpandas._libs.parsers.raise_parser_error\u001b[1;34m()\u001b[0m\n",
      "\u001b[1;31mParserError\u001b[0m: Error tokenizing data. C error: Expected 92 fields in line 127, saw 150\n"
     ]
    }
   ],
   "source": [
    "sample_data=pd.read_csv('data2.csv')"
=======
   "execution_count": 38,
   "metadata": {},
   "outputs": [],
   "source": [
    "sample_data=pd.read_csv('data.csv')"
>>>>>>> Stashed changes
   ]
  },
  {
   "cell_type": "code",
<<<<<<< Updated upstream
   "execution_count": 1,
   "metadata": {},
   "outputs": [
    {
     "ename": "NameError",
     "evalue": "name 'sample_data' is not defined",
     "output_type": "error",
     "traceback": [
      "\u001b[1;31m---------------------------------------------------------------------------\u001b[0m",
      "\u001b[1;31mNameError\u001b[0m                                 Traceback (most recent call last)",
      "\u001b[1;32mc:\\Users\\alialkirzam\\OneDrive - Liverpool John Moores University\\Documents\\GitHub\\Coursework\\Coursework-3\\ali.ipynb Cell 4'\u001b[0m in \u001b[0;36m<module>\u001b[1;34m\u001b[0m\n\u001b[1;32m----> <a href='vscode-notebook-cell:/c%3A/Users/alialkirzam/OneDrive%20-%20Liverpool%20John%20Moores%20University/Documents/GitHub/Coursework/Coursework-3/ali.ipynb#ch0000003?line=0'>1</a>\u001b[0m \u001b[39mtype\u001b[39m(sample_data)\n",
      "\u001b[1;31mNameError\u001b[0m: name 'sample_data' is not defined"
     ]
=======
   "execution_count": 39,
   "metadata": {},
   "outputs": [
    {
     "data": {
      "text/plain": [
       "pandas.core.frame.DataFrame"
      ]
     },
     "execution_count": 39,
     "metadata": {},
     "output_type": "execute_result"
>>>>>>> Stashed changes
    }
   ],
   "source": [
    "type(sample_data)"
   ]
  },
  {
   "cell_type": "code",
<<<<<<< Updated upstream
   "execution_count": 13,
=======
   "execution_count": 41,
>>>>>>> Stashed changes
   "metadata": {},
   "outputs": [
    {
     "data": {
      "text/plain": [
       "pandas.core.frame.DataFrame"
      ]
     },
<<<<<<< Updated upstream
     "execution_count": 13,
=======
     "execution_count": 41,
>>>>>>> Stashed changes
     "metadata": {},
     "output_type": "execute_result"
    }
   ],
   "source": [
    "type(sample_data)"
   ]
  },
  {
   "cell_type": "code",
<<<<<<< Updated upstream
   "execution_count": 15,
=======
   "execution_count": 34,
>>>>>>> Stashed changes
   "metadata": {},
   "outputs": [
    {
     "data": {
      "text/plain": [
       "pandas.core.series.Series"
      ]
     },
<<<<<<< Updated upstream
     "execution_count": 15,
=======
     "execution_count": 34,
>>>>>>> Stashed changes
     "metadata": {},
     "output_type": "execute_result"
    }
   ],
   "source": [
    "type(sample_data.movie_title)"
   ]
  },
  {
   "cell_type": "code",
<<<<<<< Updated upstream
   "execution_count": 16,
   "metadata": {},
   "outputs": [
    {
     "data": {
      "text/plain": [
       "'Please Give'"
      ]
     },
     "execution_count": 16,
     "metadata": {},
     "output_type": "execute_result"
    }
   ],
   "source": [
    "sample_data.movie_title.iloc[1]"
=======
   "execution_count": null,
   "metadata": {},
   "outputs": [],
   "source": [
    "sample_data.movie_title.iloc[2]"
>>>>>>> Stashed changes
   ]
  },
  {
   "cell_type": "code",
<<<<<<< Updated upstream
   "execution_count": 165,
=======
   "execution_count": 36,
>>>>>>> Stashed changes
   "metadata": {},
   "outputs": [
    {
     "ename": "KeyboardInterrupt",
     "evalue": "",
     "output_type": "error",
     "traceback": [
      "\u001b[1;31m---------------------------------------------------------------------------\u001b[0m",
      "\u001b[1;31mKeyboardInterrupt\u001b[0m                         Traceback (most recent call last)",
<<<<<<< Updated upstream
      "\u001b[1;32mc:\\Users\\alialkirzam\\OneDrive - Liverpool John Moores University\\Documents\\GitHub\\Coursework\\Coursework-3\\ali.ipynb Cell 8'\u001b[0m in \u001b[0;36m<module>\u001b[1;34m\u001b[0m\n\u001b[0;32m      <a href='vscode-notebook-cell:/c%3A/Users/alialkirzam/OneDrive%20-%20Liverpool%20John%20Moores%20University/Documents/GitHub/Coursework/Coursework-3/ali.ipynb#ch0000008?line=0'>1</a>\u001b[0m plt\u001b[39m.\u001b[39mplot(sample_data\u001b[39m.\u001b[39mmovie_title, sample_data\u001b[39m.\u001b[39maudience_rating)\n\u001b[1;32m----> <a href='vscode-notebook-cell:/c%3A/Users/alialkirzam/OneDrive%20-%20Liverpool%20John%20Moores%20University/Documents/GitHub/Coursework/Coursework-3/ali.ipynb#ch0000008?line=1'>2</a>\u001b[0m plt\u001b[39m.\u001b[39;49mshow()\n",
      "File \u001b[1;32m~\\miniconda3\\lib\\site-packages\\matplotlib\\pyplot.py:368\u001b[0m, in \u001b[0;36mshow\u001b[1;34m(*args, **kwargs)\u001b[0m\n\u001b[0;32m    <a href='file:///c%3A/Users/alialkirzam/miniconda3/lib/site-packages/matplotlib/pyplot.py?line=323'>324</a>\u001b[0m \u001b[39m\"\"\"\u001b[39;00m\n\u001b[0;32m    <a href='file:///c%3A/Users/alialkirzam/miniconda3/lib/site-packages/matplotlib/pyplot.py?line=324'>325</a>\u001b[0m \u001b[39mDisplay all open figures.\u001b[39;00m\n\u001b[0;32m    <a href='file:///c%3A/Users/alialkirzam/miniconda3/lib/site-packages/matplotlib/pyplot.py?line=325'>326</a>\u001b[0m \n\u001b[1;32m   (...)\u001b[0m\n\u001b[0;32m    <a href='file:///c%3A/Users/alialkirzam/miniconda3/lib/site-packages/matplotlib/pyplot.py?line=364'>365</a>\u001b[0m \u001b[39mexplicitly there.\u001b[39;00m\n\u001b[0;32m    <a href='file:///c%3A/Users/alialkirzam/miniconda3/lib/site-packages/matplotlib/pyplot.py?line=365'>366</a>\u001b[0m \u001b[39m\"\"\"\u001b[39;00m\n\u001b[0;32m    <a href='file:///c%3A/Users/alialkirzam/miniconda3/lib/site-packages/matplotlib/pyplot.py?line=366'>367</a>\u001b[0m _warn_if_gui_out_of_main_thread()\n\u001b[1;32m--> <a href='file:///c%3A/Users/alialkirzam/miniconda3/lib/site-packages/matplotlib/pyplot.py?line=367'>368</a>\u001b[0m \u001b[39mreturn\u001b[39;00m _backend_mod\u001b[39m.\u001b[39mshow(\u001b[39m*\u001b[39margs, \u001b[39m*\u001b[39m\u001b[39m*\u001b[39mkwargs)\n",
      "File \u001b[1;32m~\\miniconda3\\lib\\site-packages\\matplotlib_inline\\backend_inline.py:43\u001b[0m, in \u001b[0;36mshow\u001b[1;34m(close, block)\u001b[0m\n\u001b[0;32m     <a href='file:///c%3A/Users/alialkirzam/miniconda3/lib/site-packages/matplotlib_inline/backend_inline.py?line=38'>39</a>\u001b[0m \u001b[39mtry\u001b[39;00m:\n\u001b[0;32m     <a href='file:///c%3A/Users/alialkirzam/miniconda3/lib/site-packages/matplotlib_inline/backend_inline.py?line=39'>40</a>\u001b[0m     \u001b[39mfor\u001b[39;00m figure_manager \u001b[39min\u001b[39;00m Gcf\u001b[39m.\u001b[39mget_all_fig_managers():\n\u001b[0;32m     <a href='file:///c%3A/Users/alialkirzam/miniconda3/lib/site-packages/matplotlib_inline/backend_inline.py?line=40'>41</a>\u001b[0m         display(\n\u001b[0;32m     <a href='file:///c%3A/Users/alialkirzam/miniconda3/lib/site-packages/matplotlib_inline/backend_inline.py?line=41'>42</a>\u001b[0m             figure_manager\u001b[39m.\u001b[39mcanvas\u001b[39m.\u001b[39mfigure,\n\u001b[1;32m---> <a href='file:///c%3A/Users/alialkirzam/miniconda3/lib/site-packages/matplotlib_inline/backend_inline.py?line=42'>43</a>\u001b[0m             metadata\u001b[39m=\u001b[39m_fetch_figure_metadata(figure_manager\u001b[39m.\u001b[39;49mcanvas\u001b[39m.\u001b[39;49mfigure)\n\u001b[0;32m     <a href='file:///c%3A/Users/alialkirzam/miniconda3/lib/site-packages/matplotlib_inline/backend_inline.py?line=43'>44</a>\u001b[0m         )\n\u001b[0;32m     <a href='file:///c%3A/Users/alialkirzam/miniconda3/lib/site-packages/matplotlib_inline/backend_inline.py?line=44'>45</a>\u001b[0m \u001b[39mfinally\u001b[39;00m:\n\u001b[0;32m     <a href='file:///c%3A/Users/alialkirzam/miniconda3/lib/site-packages/matplotlib_inline/backend_inline.py?line=45'>46</a>\u001b[0m     show\u001b[39m.\u001b[39m_to_draw \u001b[39m=\u001b[39m []\n",
      "File \u001b[1;32m~\\miniconda3\\lib\\site-packages\\matplotlib_inline\\backend_inline.py:231\u001b[0m, in \u001b[0;36m_fetch_figure_metadata\u001b[1;34m(fig)\u001b[0m\n\u001b[0;32m    <a href='file:///c%3A/Users/alialkirzam/miniconda3/lib/site-packages/matplotlib_inline/backend_inline.py?line=227'>228</a>\u001b[0m \u001b[39m# determine if a background is needed for legibility\u001b[39;00m\n\u001b[0;32m    <a href='file:///c%3A/Users/alialkirzam/miniconda3/lib/site-packages/matplotlib_inline/backend_inline.py?line=228'>229</a>\u001b[0m \u001b[39mif\u001b[39;00m _is_transparent(fig\u001b[39m.\u001b[39mget_facecolor()):\n\u001b[0;32m    <a href='file:///c%3A/Users/alialkirzam/miniconda3/lib/site-packages/matplotlib_inline/backend_inline.py?line=229'>230</a>\u001b[0m     \u001b[39m# the background is transparent\u001b[39;00m\n\u001b[1;32m--> <a href='file:///c%3A/Users/alialkirzam/miniconda3/lib/site-packages/matplotlib_inline/backend_inline.py?line=230'>231</a>\u001b[0m     ticksLight \u001b[39m=\u001b[39m _is_light([label\u001b[39m.\u001b[39mget_color()\n\u001b[0;32m    <a href='file:///c%3A/Users/alialkirzam/miniconda3/lib/site-packages/matplotlib_inline/backend_inline.py?line=231'>232</a>\u001b[0m                             \u001b[39mfor\u001b[39;00m axes \u001b[39min\u001b[39;00m fig\u001b[39m.\u001b[39maxes\n\u001b[0;32m    <a href='file:///c%3A/Users/alialkirzam/miniconda3/lib/site-packages/matplotlib_inline/backend_inline.py?line=232'>233</a>\u001b[0m                             \u001b[39mfor\u001b[39;00m axis \u001b[39min\u001b[39;00m (axes\u001b[39m.\u001b[39mxaxis, axes\u001b[39m.\u001b[39myaxis)\n\u001b[0;32m    <a href='file:///c%3A/Users/alialkirzam/miniconda3/lib/site-packages/matplotlib_inline/backend_inline.py?line=233'>234</a>\u001b[0m                             \u001b[39mfor\u001b[39;00m label \u001b[39min\u001b[39;00m axis\u001b[39m.\u001b[39mget_ticklabels()])\n\u001b[0;32m    <a href='file:///c%3A/Users/alialkirzam/miniconda3/lib/site-packages/matplotlib_inline/backend_inline.py?line=234'>235</a>\u001b[0m     \u001b[39mif\u001b[39;00m ticksLight\u001b[39m.\u001b[39msize \u001b[39mand\u001b[39;00m (ticksLight \u001b[39m==\u001b[39m ticksLight[\u001b[39m0\u001b[39m])\u001b[39m.\u001b[39mall():\n\u001b[0;32m    <a href='file:///c%3A/Users/alialkirzam/miniconda3/lib/site-packages/matplotlib_inline/backend_inline.py?line=235'>236</a>\u001b[0m         \u001b[39m# there are one or more tick labels, all with the same lightness\u001b[39;00m\n\u001b[0;32m    <a href='file:///c%3A/Users/alialkirzam/miniconda3/lib/site-packages/matplotlib_inline/backend_inline.py?line=236'>237</a>\u001b[0m         \u001b[39mreturn\u001b[39;00m {\u001b[39m'\u001b[39m\u001b[39mneeds_background\u001b[39m\u001b[39m'\u001b[39m: \u001b[39m'\u001b[39m\u001b[39mdark\u001b[39m\u001b[39m'\u001b[39m \u001b[39mif\u001b[39;00m ticksLight[\u001b[39m0\u001b[39m] \u001b[39melse\u001b[39;00m \u001b[39m'\u001b[39m\u001b[39mlight\u001b[39m\u001b[39m'\u001b[39m}\n",
      "File \u001b[1;32m~\\miniconda3\\lib\\site-packages\\matplotlib_inline\\backend_inline.py:234\u001b[0m, in \u001b[0;36m<listcomp>\u001b[1;34m(.0)\u001b[0m\n\u001b[0;32m    <a href='file:///c%3A/Users/alialkirzam/miniconda3/lib/site-packages/matplotlib_inline/backend_inline.py?line=227'>228</a>\u001b[0m \u001b[39m# determine if a background is needed for legibility\u001b[39;00m\n\u001b[0;32m    <a href='file:///c%3A/Users/alialkirzam/miniconda3/lib/site-packages/matplotlib_inline/backend_inline.py?line=228'>229</a>\u001b[0m \u001b[39mif\u001b[39;00m _is_transparent(fig\u001b[39m.\u001b[39mget_facecolor()):\n\u001b[0;32m    <a href='file:///c%3A/Users/alialkirzam/miniconda3/lib/site-packages/matplotlib_inline/backend_inline.py?line=229'>230</a>\u001b[0m     \u001b[39m# the background is transparent\u001b[39;00m\n\u001b[0;32m    <a href='file:///c%3A/Users/alialkirzam/miniconda3/lib/site-packages/matplotlib_inline/backend_inline.py?line=230'>231</a>\u001b[0m     ticksLight \u001b[39m=\u001b[39m _is_light([label\u001b[39m.\u001b[39mget_color()\n\u001b[0;32m    <a href='file:///c%3A/Users/alialkirzam/miniconda3/lib/site-packages/matplotlib_inline/backend_inline.py?line=231'>232</a>\u001b[0m                             \u001b[39mfor\u001b[39;00m axes \u001b[39min\u001b[39;00m fig\u001b[39m.\u001b[39maxes\n\u001b[0;32m    <a href='file:///c%3A/Users/alialkirzam/miniconda3/lib/site-packages/matplotlib_inline/backend_inline.py?line=232'>233</a>\u001b[0m                             \u001b[39mfor\u001b[39;00m axis \u001b[39min\u001b[39;00m (axes\u001b[39m.\u001b[39mxaxis, axes\u001b[39m.\u001b[39myaxis)\n\u001b[1;32m--> <a href='file:///c%3A/Users/alialkirzam/miniconda3/lib/site-packages/matplotlib_inline/backend_inline.py?line=233'>234</a>\u001b[0m                             \u001b[39mfor\u001b[39;00m label \u001b[39min\u001b[39;00m axis\u001b[39m.\u001b[39;49mget_ticklabels()])\n\u001b[0;32m    <a href='file:///c%3A/Users/alialkirzam/miniconda3/lib/site-packages/matplotlib_inline/backend_inline.py?line=234'>235</a>\u001b[0m     \u001b[39mif\u001b[39;00m ticksLight\u001b[39m.\u001b[39msize \u001b[39mand\u001b[39;00m (ticksLight \u001b[39m==\u001b[39m ticksLight[\u001b[39m0\u001b[39m])\u001b[39m.\u001b[39mall():\n\u001b[0;32m    <a href='file:///c%3A/Users/alialkirzam/miniconda3/lib/site-packages/matplotlib_inline/backend_inline.py?line=235'>236</a>\u001b[0m         \u001b[39m# there are one or more tick labels, all with the same lightness\u001b[39;00m\n\u001b[0;32m    <a href='file:///c%3A/Users/alialkirzam/miniconda3/lib/site-packages/matplotlib_inline/backend_inline.py?line=236'>237</a>\u001b[0m         \u001b[39mreturn\u001b[39;00m {\u001b[39m'\u001b[39m\u001b[39mneeds_background\u001b[39m\u001b[39m'\u001b[39m: \u001b[39m'\u001b[39m\u001b[39mdark\u001b[39m\u001b[39m'\u001b[39m \u001b[39mif\u001b[39;00m ticksLight[\u001b[39m0\u001b[39m] \u001b[39melse\u001b[39;00m \u001b[39m'\u001b[39m\u001b[39mlight\u001b[39m\u001b[39m'\u001b[39m}\n",
      "File \u001b[1;32m~\\miniconda3\\lib\\site-packages\\matplotlib\\axis.py:1249\u001b[0m, in \u001b[0;36mAxis.get_ticklabels\u001b[1;34m(self, minor, which)\u001b[0m\n\u001b[0;32m   <a href='file:///c%3A/Users/alialkirzam/miniconda3/lib/site-packages/matplotlib/axis.py?line=1246'>1247</a>\u001b[0m \u001b[39mif\u001b[39;00m minor:\n\u001b[0;32m   <a href='file:///c%3A/Users/alialkirzam/miniconda3/lib/site-packages/matplotlib/axis.py?line=1247'>1248</a>\u001b[0m     \u001b[39mreturn\u001b[39;00m \u001b[39mself\u001b[39m\u001b[39m.\u001b[39mget_minorticklabels()\n\u001b[1;32m-> <a href='file:///c%3A/Users/alialkirzam/miniconda3/lib/site-packages/matplotlib/axis.py?line=1248'>1249</a>\u001b[0m \u001b[39mreturn\u001b[39;00m \u001b[39mself\u001b[39;49m\u001b[39m.\u001b[39;49mget_majorticklabels()\n",
      "File \u001b[1;32m~\\miniconda3\\lib\\site-packages\\matplotlib\\axis.py:1201\u001b[0m, in \u001b[0;36mAxis.get_majorticklabels\u001b[1;34m(self)\u001b[0m\n\u001b[0;32m   <a href='file:///c%3A/Users/alialkirzam/miniconda3/lib/site-packages/matplotlib/axis.py?line=1198'>1199</a>\u001b[0m \u001b[39mdef\u001b[39;00m \u001b[39mget_majorticklabels\u001b[39m(\u001b[39mself\u001b[39m):\n\u001b[0;32m   <a href='file:///c%3A/Users/alialkirzam/miniconda3/lib/site-packages/matplotlib/axis.py?line=1199'>1200</a>\u001b[0m     \u001b[39m\"\"\"Return this Axis' major tick labels, as a list of `~.text.Text`.\"\"\"\u001b[39;00m\n\u001b[1;32m-> <a href='file:///c%3A/Users/alialkirzam/miniconda3/lib/site-packages/matplotlib/axis.py?line=1200'>1201</a>\u001b[0m     ticks \u001b[39m=\u001b[39m \u001b[39mself\u001b[39;49m\u001b[39m.\u001b[39;49mget_major_ticks()\n\u001b[0;32m   <a href='file:///c%3A/Users/alialkirzam/miniconda3/lib/site-packages/matplotlib/axis.py?line=1201'>1202</a>\u001b[0m     labels1 \u001b[39m=\u001b[39m [tick\u001b[39m.\u001b[39mlabel1 \u001b[39mfor\u001b[39;00m tick \u001b[39min\u001b[39;00m ticks \u001b[39mif\u001b[39;00m tick\u001b[39m.\u001b[39mlabel1\u001b[39m.\u001b[39mget_visible()]\n\u001b[0;32m   <a href='file:///c%3A/Users/alialkirzam/miniconda3/lib/site-packages/matplotlib/axis.py?line=1202'>1203</a>\u001b[0m     labels2 \u001b[39m=\u001b[39m [tick\u001b[39m.\u001b[39mlabel2 \u001b[39mfor\u001b[39;00m tick \u001b[39min\u001b[39;00m ticks \u001b[39mif\u001b[39;00m tick\u001b[39m.\u001b[39mlabel2\u001b[39m.\u001b[39mget_visible()]\n",
      "File \u001b[1;32m~\\miniconda3\\lib\\site-packages\\matplotlib\\axis.py:1375\u001b[0m, in \u001b[0;36mAxis.get_major_ticks\u001b[1;34m(self, numticks)\u001b[0m\n\u001b[0;32m   <a href='file:///c%3A/Users/alialkirzam/miniconda3/lib/site-packages/matplotlib/axis.py?line=1370'>1371</a>\u001b[0m     numticks \u001b[39m=\u001b[39m \u001b[39mlen\u001b[39m(\u001b[39mself\u001b[39m\u001b[39m.\u001b[39mget_majorticklocs())\n\u001b[0;32m   <a href='file:///c%3A/Users/alialkirzam/miniconda3/lib/site-packages/matplotlib/axis.py?line=1372'>1373</a>\u001b[0m \u001b[39mwhile\u001b[39;00m \u001b[39mlen\u001b[39m(\u001b[39mself\u001b[39m\u001b[39m.\u001b[39mmajorTicks) \u001b[39m<\u001b[39m numticks:\n\u001b[0;32m   <a href='file:///c%3A/Users/alialkirzam/miniconda3/lib/site-packages/matplotlib/axis.py?line=1373'>1374</a>\u001b[0m     \u001b[39m# Update the new tick label properties from the old.\u001b[39;00m\n\u001b[1;32m-> <a href='file:///c%3A/Users/alialkirzam/miniconda3/lib/site-packages/matplotlib/axis.py?line=1374'>1375</a>\u001b[0m     tick \u001b[39m=\u001b[39m \u001b[39mself\u001b[39;49m\u001b[39m.\u001b[39;49m_get_tick(major\u001b[39m=\u001b[39;49m\u001b[39mTrue\u001b[39;49;00m)\n\u001b[0;32m   <a href='file:///c%3A/Users/alialkirzam/miniconda3/lib/site-packages/matplotlib/axis.py?line=1375'>1376</a>\u001b[0m     \u001b[39mself\u001b[39m\u001b[39m.\u001b[39mmajorTicks\u001b[39m.\u001b[39mappend(tick)\n\u001b[0;32m   <a href='file:///c%3A/Users/alialkirzam/miniconda3/lib/site-packages/matplotlib/axis.py?line=1376'>1377</a>\u001b[0m     \u001b[39mself\u001b[39m\u001b[39m.\u001b[39m_copy_tick_props(\u001b[39mself\u001b[39m\u001b[39m.\u001b[39mmajorTicks[\u001b[39m0\u001b[39m], tick)\n",
      "File \u001b[1;32m~\\miniconda3\\lib\\site-packages\\matplotlib\\axis.py:2057\u001b[0m, in \u001b[0;36mXAxis._get_tick\u001b[1;34m(self, major)\u001b[0m\n\u001b[0;32m   <a href='file:///c%3A/Users/alialkirzam/miniconda3/lib/site-packages/matplotlib/axis.py?line=2054'>2055</a>\u001b[0m \u001b[39melse\u001b[39;00m:\n\u001b[0;32m   <a href='file:///c%3A/Users/alialkirzam/miniconda3/lib/site-packages/matplotlib/axis.py?line=2055'>2056</a>\u001b[0m     tick_kw \u001b[39m=\u001b[39m \u001b[39mself\u001b[39m\u001b[39m.\u001b[39m_minor_tick_kw\n\u001b[1;32m-> <a href='file:///c%3A/Users/alialkirzam/miniconda3/lib/site-packages/matplotlib/axis.py?line=2056'>2057</a>\u001b[0m \u001b[39mreturn\u001b[39;00m XTick(\u001b[39mself\u001b[39m\u001b[39m.\u001b[39maxes, \u001b[39m0\u001b[39m, major\u001b[39m=\u001b[39mmajor, \u001b[39m*\u001b[39m\u001b[39m*\u001b[39mtick_kw)\n",
      "File \u001b[1;32m~\\miniconda3\\lib\\site-packages\\matplotlib\\axis.py:415\u001b[0m, in \u001b[0;36mXTick.__init__\u001b[1;34m(self, *args, **kwargs)\u001b[0m\n\u001b[0;32m    <a href='file:///c%3A/Users/alialkirzam/miniconda3/lib/site-packages/matplotlib/axis.py?line=413'>414</a>\u001b[0m \u001b[39mdef\u001b[39;00m \u001b[39m__init__\u001b[39m(\u001b[39mself\u001b[39m, \u001b[39m*\u001b[39margs, \u001b[39m*\u001b[39m\u001b[39m*\u001b[39mkwargs):\n\u001b[1;32m--> <a href='file:///c%3A/Users/alialkirzam/miniconda3/lib/site-packages/matplotlib/axis.py?line=414'>415</a>\u001b[0m     \u001b[39msuper\u001b[39m()\u001b[39m.\u001b[39m\u001b[39m__init__\u001b[39m(\u001b[39m*\u001b[39margs, \u001b[39m*\u001b[39m\u001b[39m*\u001b[39mkwargs)\n\u001b[0;32m    <a href='file:///c%3A/Users/alialkirzam/miniconda3/lib/site-packages/matplotlib/axis.py?line=415'>416</a>\u001b[0m     \u001b[39m# x in data coords, y in axes coords\u001b[39;00m\n\u001b[0;32m    <a href='file:///c%3A/Users/alialkirzam/miniconda3/lib/site-packages/matplotlib/axis.py?line=416'>417</a>\u001b[0m     ax \u001b[39m=\u001b[39m \u001b[39mself\u001b[39m\u001b[39m.\u001b[39maxes\n",
      "File \u001b[1;32m~\\miniconda3\\lib\\site-packages\\matplotlib\\axis.py:166\u001b[0m, in \u001b[0;36mTick.__init__\u001b[1;34m(self, axes, loc, size, width, color, tickdir, pad, labelsize, labelcolor, zorder, gridOn, tick1On, tick2On, label1On, label2On, major, labelrotation, grid_color, grid_linestyle, grid_linewidth, grid_alpha, **kw)\u001b[0m\n\u001b[0;32m    <a href='file:///c%3A/Users/alialkirzam/miniconda3/lib/site-packages/matplotlib/axis.py?line=154'>155</a>\u001b[0m \u001b[39mself\u001b[39m\u001b[39m.\u001b[39mtick2line \u001b[39m=\u001b[39m mlines\u001b[39m.\u001b[39mLine2D(\n\u001b[0;32m    <a href='file:///c%3A/Users/alialkirzam/miniconda3/lib/site-packages/matplotlib/axis.py?line=155'>156</a>\u001b[0m     [], [],\n\u001b[0;32m    <a href='file:///c%3A/Users/alialkirzam/miniconda3/lib/site-packages/matplotlib/axis.py?line=156'>157</a>\u001b[0m     color\u001b[39m=\u001b[39mcolor, linestyle\u001b[39m=\u001b[39m\u001b[39m\"\u001b[39m\u001b[39mnone\u001b[39m\u001b[39m\"\u001b[39m, zorder\u001b[39m=\u001b[39mzorder, visible\u001b[39m=\u001b[39mtick2On,\n\u001b[0;32m    <a href='file:///c%3A/Users/alialkirzam/miniconda3/lib/site-packages/matplotlib/axis.py?line=157'>158</a>\u001b[0m     markeredgecolor\u001b[39m=\u001b[39mcolor, markersize\u001b[39m=\u001b[39msize, markeredgewidth\u001b[39m=\u001b[39mwidth,\n\u001b[0;32m    <a href='file:///c%3A/Users/alialkirzam/miniconda3/lib/site-packages/matplotlib/axis.py?line=158'>159</a>\u001b[0m )\n\u001b[0;32m    <a href='file:///c%3A/Users/alialkirzam/miniconda3/lib/site-packages/matplotlib/axis.py?line=159'>160</a>\u001b[0m \u001b[39mself\u001b[39m\u001b[39m.\u001b[39mgridline \u001b[39m=\u001b[39m mlines\u001b[39m.\u001b[39mLine2D(\n\u001b[0;32m    <a href='file:///c%3A/Users/alialkirzam/miniconda3/lib/site-packages/matplotlib/axis.py?line=160'>161</a>\u001b[0m     [], [],\n\u001b[0;32m    <a href='file:///c%3A/Users/alialkirzam/miniconda3/lib/site-packages/matplotlib/axis.py?line=161'>162</a>\u001b[0m     color\u001b[39m=\u001b[39mgrid_color, alpha\u001b[39m=\u001b[39mgrid_alpha, visible\u001b[39m=\u001b[39mgridOn,\n\u001b[0;32m    <a href='file:///c%3A/Users/alialkirzam/miniconda3/lib/site-packages/matplotlib/axis.py?line=162'>163</a>\u001b[0m     linestyle\u001b[39m=\u001b[39mgrid_linestyle, linewidth\u001b[39m=\u001b[39mgrid_linewidth, marker\u001b[39m=\u001b[39m\u001b[39m\"\u001b[39m\u001b[39m\"\u001b[39m,\n\u001b[0;32m    <a href='file:///c%3A/Users/alialkirzam/miniconda3/lib/site-packages/matplotlib/axis.py?line=163'>164</a>\u001b[0m     \u001b[39m*\u001b[39m\u001b[39m*\u001b[39mgrid_kw,\n\u001b[0;32m    <a href='file:///c%3A/Users/alialkirzam/miniconda3/lib/site-packages/matplotlib/axis.py?line=164'>165</a>\u001b[0m )\n\u001b[1;32m--> <a href='file:///c%3A/Users/alialkirzam/miniconda3/lib/site-packages/matplotlib/axis.py?line=165'>166</a>\u001b[0m \u001b[39mself\u001b[39;49m\u001b[39m.\u001b[39;49mgridline\u001b[39m.\u001b[39;49mget_path()\u001b[39m.\u001b[39m_interpolation_steps \u001b[39m=\u001b[39m \\\n\u001b[0;32m    <a href='file:///c%3A/Users/alialkirzam/miniconda3/lib/site-packages/matplotlib/axis.py?line=166'>167</a>\u001b[0m     GRIDLINE_INTERPOLATION_STEPS\n\u001b[0;32m    <a href='file:///c%3A/Users/alialkirzam/miniconda3/lib/site-packages/matplotlib/axis.py?line=167'>168</a>\u001b[0m \u001b[39mself\u001b[39m\u001b[39m.\u001b[39mlabel1 \u001b[39m=\u001b[39m mtext\u001b[39m.\u001b[39mText(\n\u001b[0;32m    <a href='file:///c%3A/Users/alialkirzam/miniconda3/lib/site-packages/matplotlib/axis.py?line=168'>169</a>\u001b[0m     np\u001b[39m.\u001b[39mnan, np\u001b[39m.\u001b[39mnan,\n\u001b[0;32m    <a href='file:///c%3A/Users/alialkirzam/miniconda3/lib/site-packages/matplotlib/axis.py?line=169'>170</a>\u001b[0m     fontsize\u001b[39m=\u001b[39mlabelsize, color\u001b[39m=\u001b[39mlabelcolor, visible\u001b[39m=\u001b[39mlabel1On,\n\u001b[0;32m    <a href='file:///c%3A/Users/alialkirzam/miniconda3/lib/site-packages/matplotlib/axis.py?line=170'>171</a>\u001b[0m     rotation\u001b[39m=\u001b[39m\u001b[39mself\u001b[39m\u001b[39m.\u001b[39m_labelrotation[\u001b[39m1\u001b[39m])\n\u001b[0;32m    <a href='file:///c%3A/Users/alialkirzam/miniconda3/lib/site-packages/matplotlib/axis.py?line=171'>172</a>\u001b[0m \u001b[39mself\u001b[39m\u001b[39m.\u001b[39mlabel2 \u001b[39m=\u001b[39m mtext\u001b[39m.\u001b[39mText(\n\u001b[0;32m    <a href='file:///c%3A/Users/alialkirzam/miniconda3/lib/site-packages/matplotlib/axis.py?line=172'>173</a>\u001b[0m     np\u001b[39m.\u001b[39mnan, np\u001b[39m.\u001b[39mnan,\n\u001b[0;32m    <a href='file:///c%3A/Users/alialkirzam/miniconda3/lib/site-packages/matplotlib/axis.py?line=173'>174</a>\u001b[0m     fontsize\u001b[39m=\u001b[39mlabelsize, color\u001b[39m=\u001b[39mlabelcolor, visible\u001b[39m=\u001b[39mlabel2On,\n\u001b[0;32m    <a href='file:///c%3A/Users/alialkirzam/miniconda3/lib/site-packages/matplotlib/axis.py?line=174'>175</a>\u001b[0m     rotation\u001b[39m=\u001b[39m\u001b[39mself\u001b[39m\u001b[39m.\u001b[39m_labelrotation[\u001b[39m1\u001b[39m])\n",
      "File \u001b[1;32m~\\miniconda3\\lib\\site-packages\\matplotlib\\lines.py:999\u001b[0m, in \u001b[0;36mLine2D.get_path\u001b[1;34m(self)\u001b[0m\n\u001b[0;32m    <a href='file:///c%3A/Users/alialkirzam/miniconda3/lib/site-packages/matplotlib/lines.py?line=996'>997</a>\u001b[0m \u001b[39m\"\"\"Return the `~matplotlib.path.Path` associated with this line.\"\"\"\u001b[39;00m\n\u001b[0;32m    <a href='file:///c%3A/Users/alialkirzam/miniconda3/lib/site-packages/matplotlib/lines.py?line=997'>998</a>\u001b[0m \u001b[39mif\u001b[39;00m \u001b[39mself\u001b[39m\u001b[39m.\u001b[39m_invalidy \u001b[39mor\u001b[39;00m \u001b[39mself\u001b[39m\u001b[39m.\u001b[39m_invalidx:\n\u001b[1;32m--> <a href='file:///c%3A/Users/alialkirzam/miniconda3/lib/site-packages/matplotlib/lines.py?line=998'>999</a>\u001b[0m     \u001b[39mself\u001b[39;49m\u001b[39m.\u001b[39;49mrecache()\n\u001b[0;32m   <a href='file:///c%3A/Users/alialkirzam/miniconda3/lib/site-packages/matplotlib/lines.py?line=999'>1000</a>\u001b[0m \u001b[39mreturn\u001b[39;00m \u001b[39mself\u001b[39m\u001b[39m.\u001b[39m_path\n",
      "File \u001b[1;32m~\\miniconda3\\lib\\site-packages\\matplotlib\\lines.py:661\u001b[0m, in \u001b[0;36mLine2D.recache\u001b[1;34m(self, always)\u001b[0m\n\u001b[0;32m    <a href='file:///c%3A/Users/alialkirzam/miniconda3/lib/site-packages/matplotlib/lines.py?line=657'>658</a>\u001b[0m \u001b[39melse\u001b[39;00m:\n\u001b[0;32m    <a href='file:///c%3A/Users/alialkirzam/miniconda3/lib/site-packages/matplotlib/lines.py?line=658'>659</a>\u001b[0m     y \u001b[39m=\u001b[39m \u001b[39mself\u001b[39m\u001b[39m.\u001b[39m_y\n\u001b[1;32m--> <a href='file:///c%3A/Users/alialkirzam/miniconda3/lib/site-packages/matplotlib/lines.py?line=660'>661</a>\u001b[0m \u001b[39mself\u001b[39m\u001b[39m.\u001b[39m_xy \u001b[39m=\u001b[39m np\u001b[39m.\u001b[39;49mcolumn_stack(np\u001b[39m.\u001b[39;49mbroadcast_arrays(x, y))\u001b[39m.\u001b[39mastype(\u001b[39mfloat\u001b[39m)\n\u001b[0;32m    <a href='file:///c%3A/Users/alialkirzam/miniconda3/lib/site-packages/matplotlib/lines.py?line=661'>662</a>\u001b[0m \u001b[39mself\u001b[39m\u001b[39m.\u001b[39m_x, \u001b[39mself\u001b[39m\u001b[39m.\u001b[39m_y \u001b[39m=\u001b[39m \u001b[39mself\u001b[39m\u001b[39m.\u001b[39m_xy\u001b[39m.\u001b[39mT  \u001b[39m# views\u001b[39;00m\n\u001b[0;32m    <a href='file:///c%3A/Users/alialkirzam/miniconda3/lib/site-packages/matplotlib/lines.py?line=663'>664</a>\u001b[0m \u001b[39mself\u001b[39m\u001b[39m.\u001b[39m_subslice \u001b[39m=\u001b[39m \u001b[39mFalse\u001b[39;00m\n",
      "File \u001b[1;32m<__array_function__ internals>:5\u001b[0m, in \u001b[0;36mcolumn_stack\u001b[1;34m(*args, **kwargs)\u001b[0m\n",
      "File \u001b[1;32m~\\miniconda3\\lib\\site-packages\\numpy\\lib\\shape_base.py:656\u001b[0m, in \u001b[0;36mcolumn_stack\u001b[1;34m(tup)\u001b[0m\n\u001b[0;32m    <a href='file:///c%3A/Users/alialkirzam/miniconda3/lib/site-packages/numpy/lib/shape_base.py?line=653'>654</a>\u001b[0m         arr \u001b[39m=\u001b[39m array(arr, copy\u001b[39m=\u001b[39m\u001b[39mFalse\u001b[39;00m, subok\u001b[39m=\u001b[39m\u001b[39mTrue\u001b[39;00m, ndmin\u001b[39m=\u001b[39m\u001b[39m2\u001b[39m)\u001b[39m.\u001b[39mT\n\u001b[0;32m    <a href='file:///c%3A/Users/alialkirzam/miniconda3/lib/site-packages/numpy/lib/shape_base.py?line=654'>655</a>\u001b[0m     arrays\u001b[39m.\u001b[39mappend(arr)\n\u001b[1;32m--> <a href='file:///c%3A/Users/alialkirzam/miniconda3/lib/site-packages/numpy/lib/shape_base.py?line=655'>656</a>\u001b[0m \u001b[39mreturn\u001b[39;00m _nx\u001b[39m.\u001b[39;49mconcatenate(arrays, \u001b[39m1\u001b[39;49m)\n",
      "File \u001b[1;32m<__array_function__ internals>:5\u001b[0m, in \u001b[0;36mconcatenate\u001b[1;34m(*args, **kwargs)\u001b[0m\n",
=======
      "\u001b[1;32mc:\\Users\\alialkirzam\\OneDrive - Liverpool John Moores University\\Documents\\GitHub\\Coursework\\Coursework-3\\ali.ipynb Cell 8'\u001b[0m in \u001b[0;36m<module>\u001b[1;34m\u001b[0m\n\u001b[0;32m      <a href='vscode-notebook-cell:/c%3A/Users/alialkirzam/OneDrive%20-%20Liverpool%20John%20Moores%20University/Documents/GitHub/Coursework/Coursework-3/ali.ipynb#ch0000007?line=0'>1</a>\u001b[0m plt\u001b[39m.\u001b[39mplot(sample_data\u001b[39m.\u001b[39mmovie_title, sample_data\u001b[39m.\u001b[39maudience_rating)\n\u001b[1;32m----> <a href='vscode-notebook-cell:/c%3A/Users/alialkirzam/OneDrive%20-%20Liverpool%20John%20Moores%20University/Documents/GitHub/Coursework/Coursework-3/ali.ipynb#ch0000007?line=1'>2</a>\u001b[0m plt\u001b[39m.\u001b[39;49mshow()\n",
      "File \u001b[1;32m~\\miniconda3\\lib\\site-packages\\matplotlib\\pyplot.py:368\u001b[0m, in \u001b[0;36mshow\u001b[1;34m(*args, **kwargs)\u001b[0m\n\u001b[0;32m    <a href='file:///c%3A/Users/alialkirzam/miniconda3/lib/site-packages/matplotlib/pyplot.py?line=323'>324</a>\u001b[0m \u001b[39m\"\"\"\u001b[39;00m\n\u001b[0;32m    <a href='file:///c%3A/Users/alialkirzam/miniconda3/lib/site-packages/matplotlib/pyplot.py?line=324'>325</a>\u001b[0m \u001b[39mDisplay all open figures.\u001b[39;00m\n\u001b[0;32m    <a href='file:///c%3A/Users/alialkirzam/miniconda3/lib/site-packages/matplotlib/pyplot.py?line=325'>326</a>\u001b[0m \n\u001b[1;32m   (...)\u001b[0m\n\u001b[0;32m    <a href='file:///c%3A/Users/alialkirzam/miniconda3/lib/site-packages/matplotlib/pyplot.py?line=364'>365</a>\u001b[0m \u001b[39mexplicitly there.\u001b[39;00m\n\u001b[0;32m    <a href='file:///c%3A/Users/alialkirzam/miniconda3/lib/site-packages/matplotlib/pyplot.py?line=365'>366</a>\u001b[0m \u001b[39m\"\"\"\u001b[39;00m\n\u001b[0;32m    <a href='file:///c%3A/Users/alialkirzam/miniconda3/lib/site-packages/matplotlib/pyplot.py?line=366'>367</a>\u001b[0m _warn_if_gui_out_of_main_thread()\n\u001b[1;32m--> <a href='file:///c%3A/Users/alialkirzam/miniconda3/lib/site-packages/matplotlib/pyplot.py?line=367'>368</a>\u001b[0m \u001b[39mreturn\u001b[39;00m _backend_mod\u001b[39m.\u001b[39mshow(\u001b[39m*\u001b[39margs, \u001b[39m*\u001b[39m\u001b[39m*\u001b[39mkwargs)\n",
      "File \u001b[1;32m~\\miniconda3\\lib\\site-packages\\matplotlib_inline\\backend_inline.py:41\u001b[0m, in \u001b[0;36mshow\u001b[1;34m(close, block)\u001b[0m\n\u001b[0;32m     <a href='file:///c%3A/Users/alialkirzam/miniconda3/lib/site-packages/matplotlib_inline/backend_inline.py?line=38'>39</a>\u001b[0m \u001b[39mtry\u001b[39;00m:\n\u001b[0;32m     <a href='file:///c%3A/Users/alialkirzam/miniconda3/lib/site-packages/matplotlib_inline/backend_inline.py?line=39'>40</a>\u001b[0m     \u001b[39mfor\u001b[39;00m figure_manager \u001b[39min\u001b[39;00m Gcf\u001b[39m.\u001b[39mget_all_fig_managers():\n\u001b[1;32m---> <a href='file:///c%3A/Users/alialkirzam/miniconda3/lib/site-packages/matplotlib_inline/backend_inline.py?line=40'>41</a>\u001b[0m         display(\n\u001b[0;32m     <a href='file:///c%3A/Users/alialkirzam/miniconda3/lib/site-packages/matplotlib_inline/backend_inline.py?line=41'>42</a>\u001b[0m             figure_manager\u001b[39m.\u001b[39;49mcanvas\u001b[39m.\u001b[39;49mfigure,\n\u001b[0;32m     <a href='file:///c%3A/Users/alialkirzam/miniconda3/lib/site-packages/matplotlib_inline/backend_inline.py?line=42'>43</a>\u001b[0m             metadata\u001b[39m=\u001b[39;49m_fetch_figure_metadata(figure_manager\u001b[39m.\u001b[39;49mcanvas\u001b[39m.\u001b[39;49mfigure)\n\u001b[0;32m     <a href='file:///c%3A/Users/alialkirzam/miniconda3/lib/site-packages/matplotlib_inline/backend_inline.py?line=43'>44</a>\u001b[0m         )\n\u001b[0;32m     <a href='file:///c%3A/Users/alialkirzam/miniconda3/lib/site-packages/matplotlib_inline/backend_inline.py?line=44'>45</a>\u001b[0m \u001b[39mfinally\u001b[39;00m:\n\u001b[0;32m     <a href='file:///c%3A/Users/alialkirzam/miniconda3/lib/site-packages/matplotlib_inline/backend_inline.py?line=45'>46</a>\u001b[0m     show\u001b[39m.\u001b[39m_to_draw \u001b[39m=\u001b[39m []\n",
      "File \u001b[1;32m~\\miniconda3\\lib\\site-packages\\IPython\\core\\display_functions.py:298\u001b[0m, in \u001b[0;36mdisplay\u001b[1;34m(include, exclude, metadata, transient, display_id, raw, clear, *objs, **kwargs)\u001b[0m\n\u001b[0;32m    <a href='file:///c%3A/Users/alialkirzam/miniconda3/lib/site-packages/IPython/core/display_functions.py?line=295'>296</a>\u001b[0m     publish_display_data(data\u001b[39m=\u001b[39mobj, metadata\u001b[39m=\u001b[39mmetadata, \u001b[39m*\u001b[39m\u001b[39m*\u001b[39mkwargs)\n\u001b[0;32m    <a href='file:///c%3A/Users/alialkirzam/miniconda3/lib/site-packages/IPython/core/display_functions.py?line=296'>297</a>\u001b[0m \u001b[39melse\u001b[39;00m:\n\u001b[1;32m--> <a href='file:///c%3A/Users/alialkirzam/miniconda3/lib/site-packages/IPython/core/display_functions.py?line=297'>298</a>\u001b[0m     format_dict, md_dict \u001b[39m=\u001b[39m \u001b[39mformat\u001b[39;49m(obj, include\u001b[39m=\u001b[39;49minclude, exclude\u001b[39m=\u001b[39;49mexclude)\n\u001b[0;32m    <a href='file:///c%3A/Users/alialkirzam/miniconda3/lib/site-packages/IPython/core/display_functions.py?line=298'>299</a>\u001b[0m     \u001b[39mif\u001b[39;00m \u001b[39mnot\u001b[39;00m format_dict:\n\u001b[0;32m    <a href='file:///c%3A/Users/alialkirzam/miniconda3/lib/site-packages/IPython/core/display_functions.py?line=299'>300</a>\u001b[0m         \u001b[39m# nothing to display (e.g. _ipython_display_ took over)\u001b[39;00m\n\u001b[0;32m    <a href='file:///c%3A/Users/alialkirzam/miniconda3/lib/site-packages/IPython/core/display_functions.py?line=300'>301</a>\u001b[0m         \u001b[39mcontinue\u001b[39;00m\n",
      "File \u001b[1;32m~\\miniconda3\\lib\\site-packages\\IPython\\core\\formatters.py:178\u001b[0m, in \u001b[0;36mDisplayFormatter.format\u001b[1;34m(self, obj, include, exclude)\u001b[0m\n\u001b[0;32m    <a href='file:///c%3A/Users/alialkirzam/miniconda3/lib/site-packages/IPython/core/formatters.py?line=175'>176</a>\u001b[0m md \u001b[39m=\u001b[39m \u001b[39mNone\u001b[39;00m\n\u001b[0;32m    <a href='file:///c%3A/Users/alialkirzam/miniconda3/lib/site-packages/IPython/core/formatters.py?line=176'>177</a>\u001b[0m \u001b[39mtry\u001b[39;00m:\n\u001b[1;32m--> <a href='file:///c%3A/Users/alialkirzam/miniconda3/lib/site-packages/IPython/core/formatters.py?line=177'>178</a>\u001b[0m     data \u001b[39m=\u001b[39m formatter(obj)\n\u001b[0;32m    <a href='file:///c%3A/Users/alialkirzam/miniconda3/lib/site-packages/IPython/core/formatters.py?line=178'>179</a>\u001b[0m \u001b[39mexcept\u001b[39;00m:\n\u001b[0;32m    <a href='file:///c%3A/Users/alialkirzam/miniconda3/lib/site-packages/IPython/core/formatters.py?line=179'>180</a>\u001b[0m     \u001b[39m# FIXME: log the exception\u001b[39;00m\n\u001b[0;32m    <a href='file:///c%3A/Users/alialkirzam/miniconda3/lib/site-packages/IPython/core/formatters.py?line=180'>181</a>\u001b[0m     \u001b[39mraise\u001b[39;00m\n",
      "File \u001b[1;32m~\\miniconda3\\lib\\site-packages\\decorator.py:232\u001b[0m, in \u001b[0;36mdecorate.<locals>.fun\u001b[1;34m(*args, **kw)\u001b[0m\n\u001b[0;32m    <a href='file:///c%3A/Users/alialkirzam/miniconda3/lib/site-packages/decorator.py?line=229'>230</a>\u001b[0m \u001b[39mif\u001b[39;00m \u001b[39mnot\u001b[39;00m kwsyntax:\n\u001b[0;32m    <a href='file:///c%3A/Users/alialkirzam/miniconda3/lib/site-packages/decorator.py?line=230'>231</a>\u001b[0m     args, kw \u001b[39m=\u001b[39m fix(args, kw, sig)\n\u001b[1;32m--> <a href='file:///c%3A/Users/alialkirzam/miniconda3/lib/site-packages/decorator.py?line=231'>232</a>\u001b[0m \u001b[39mreturn\u001b[39;00m caller(func, \u001b[39m*\u001b[39m(extras \u001b[39m+\u001b[39m args), \u001b[39m*\u001b[39m\u001b[39m*\u001b[39mkw)\n",
      "File \u001b[1;32m~\\miniconda3\\lib\\site-packages\\IPython\\core\\formatters.py:222\u001b[0m, in \u001b[0;36mcatch_format_error\u001b[1;34m(method, self, *args, **kwargs)\u001b[0m\n\u001b[0;32m    <a href='file:///c%3A/Users/alialkirzam/miniconda3/lib/site-packages/IPython/core/formatters.py?line=219'>220</a>\u001b[0m \u001b[39m\"\"\"show traceback on failed format call\"\"\"\u001b[39;00m\n\u001b[0;32m    <a href='file:///c%3A/Users/alialkirzam/miniconda3/lib/site-packages/IPython/core/formatters.py?line=220'>221</a>\u001b[0m \u001b[39mtry\u001b[39;00m:\n\u001b[1;32m--> <a href='file:///c%3A/Users/alialkirzam/miniconda3/lib/site-packages/IPython/core/formatters.py?line=221'>222</a>\u001b[0m     r \u001b[39m=\u001b[39m method(\u001b[39mself\u001b[39m, \u001b[39m*\u001b[39margs, \u001b[39m*\u001b[39m\u001b[39m*\u001b[39mkwargs)\n\u001b[0;32m    <a href='file:///c%3A/Users/alialkirzam/miniconda3/lib/site-packages/IPython/core/formatters.py?line=222'>223</a>\u001b[0m \u001b[39mexcept\u001b[39;00m \u001b[39mNotImplementedError\u001b[39;00m:\n\u001b[0;32m    <a href='file:///c%3A/Users/alialkirzam/miniconda3/lib/site-packages/IPython/core/formatters.py?line=223'>224</a>\u001b[0m     \u001b[39m# don't warn on NotImplementedErrors\u001b[39;00m\n\u001b[0;32m    <a href='file:///c%3A/Users/alialkirzam/miniconda3/lib/site-packages/IPython/core/formatters.py?line=224'>225</a>\u001b[0m     \u001b[39mreturn\u001b[39;00m \u001b[39mself\u001b[39m\u001b[39m.\u001b[39m_check_return(\u001b[39mNone\u001b[39;00m, args[\u001b[39m0\u001b[39m])\n",
      "File \u001b[1;32m~\\miniconda3\\lib\\site-packages\\IPython\\core\\formatters.py:339\u001b[0m, in \u001b[0;36mBaseFormatter.__call__\u001b[1;34m(self, obj)\u001b[0m\n\u001b[0;32m    <a href='file:///c%3A/Users/alialkirzam/miniconda3/lib/site-packages/IPython/core/formatters.py?line=336'>337</a>\u001b[0m     \u001b[39mpass\u001b[39;00m\n\u001b[0;32m    <a href='file:///c%3A/Users/alialkirzam/miniconda3/lib/site-packages/IPython/core/formatters.py?line=337'>338</a>\u001b[0m \u001b[39melse\u001b[39;00m:\n\u001b[1;32m--> <a href='file:///c%3A/Users/alialkirzam/miniconda3/lib/site-packages/IPython/core/formatters.py?line=338'>339</a>\u001b[0m     \u001b[39mreturn\u001b[39;00m printer(obj)\n\u001b[0;32m    <a href='file:///c%3A/Users/alialkirzam/miniconda3/lib/site-packages/IPython/core/formatters.py?line=339'>340</a>\u001b[0m \u001b[39m# Finally look for special method names\u001b[39;00m\n\u001b[0;32m    <a href='file:///c%3A/Users/alialkirzam/miniconda3/lib/site-packages/IPython/core/formatters.py?line=340'>341</a>\u001b[0m method \u001b[39m=\u001b[39m get_real_method(obj, \u001b[39mself\u001b[39m\u001b[39m.\u001b[39mprint_method)\n",
      "File \u001b[1;32m~\\miniconda3\\lib\\site-packages\\IPython\\core\\pylabtools.py:151\u001b[0m, in \u001b[0;36mprint_figure\u001b[1;34m(fig, fmt, bbox_inches, base64, **kwargs)\u001b[0m\n\u001b[0;32m    <a href='file:///c%3A/Users/alialkirzam/miniconda3/lib/site-packages/IPython/core/pylabtools.py?line=147'>148</a>\u001b[0m     \u001b[39mfrom\u001b[39;00m \u001b[39mmatplotlib\u001b[39;00m\u001b[39m.\u001b[39;00m\u001b[39mbackend_bases\u001b[39;00m \u001b[39mimport\u001b[39;00m FigureCanvasBase\n\u001b[0;32m    <a href='file:///c%3A/Users/alialkirzam/miniconda3/lib/site-packages/IPython/core/pylabtools.py?line=148'>149</a>\u001b[0m     FigureCanvasBase(fig)\n\u001b[1;32m--> <a href='file:///c%3A/Users/alialkirzam/miniconda3/lib/site-packages/IPython/core/pylabtools.py?line=150'>151</a>\u001b[0m fig\u001b[39m.\u001b[39mcanvas\u001b[39m.\u001b[39mprint_figure(bytes_io, \u001b[39m*\u001b[39m\u001b[39m*\u001b[39mkw)\n\u001b[0;32m    <a href='file:///c%3A/Users/alialkirzam/miniconda3/lib/site-packages/IPython/core/pylabtools.py?line=151'>152</a>\u001b[0m data \u001b[39m=\u001b[39m bytes_io\u001b[39m.\u001b[39mgetvalue()\n\u001b[0;32m    <a href='file:///c%3A/Users/alialkirzam/miniconda3/lib/site-packages/IPython/core/pylabtools.py?line=152'>153</a>\u001b[0m \u001b[39mif\u001b[39;00m fmt \u001b[39m==\u001b[39m \u001b[39m'\u001b[39m\u001b[39msvg\u001b[39m\u001b[39m'\u001b[39m:\n",
      "File \u001b[1;32m~\\miniconda3\\lib\\site-packages\\matplotlib\\backend_bases.py:2295\u001b[0m, in \u001b[0;36mFigureCanvasBase.print_figure\u001b[1;34m(self, filename, dpi, facecolor, edgecolor, orientation, format, bbox_inches, pad_inches, bbox_extra_artists, backend, **kwargs)\u001b[0m\n\u001b[0;32m   <a href='file:///c%3A/Users/alialkirzam/miniconda3/lib/site-packages/matplotlib/backend_bases.py?line=2288'>2289</a>\u001b[0m     renderer \u001b[39m=\u001b[39m _get_renderer(\n\u001b[0;32m   <a href='file:///c%3A/Users/alialkirzam/miniconda3/lib/site-packages/matplotlib/backend_bases.py?line=2289'>2290</a>\u001b[0m         \u001b[39mself\u001b[39m\u001b[39m.\u001b[39mfigure,\n\u001b[0;32m   <a href='file:///c%3A/Users/alialkirzam/miniconda3/lib/site-packages/matplotlib/backend_bases.py?line=2290'>2291</a>\u001b[0m         functools\u001b[39m.\u001b[39mpartial(\n\u001b[0;32m   <a href='file:///c%3A/Users/alialkirzam/miniconda3/lib/site-packages/matplotlib/backend_bases.py?line=2291'>2292</a>\u001b[0m             print_method, orientation\u001b[39m=\u001b[39morientation)\n\u001b[0;32m   <a href='file:///c%3A/Users/alialkirzam/miniconda3/lib/site-packages/matplotlib/backend_bases.py?line=2292'>2293</a>\u001b[0m     )\n\u001b[0;32m   <a href='file:///c%3A/Users/alialkirzam/miniconda3/lib/site-packages/matplotlib/backend_bases.py?line=2293'>2294</a>\u001b[0m     \u001b[39mwith\u001b[39;00m \u001b[39mgetattr\u001b[39m(renderer, \u001b[39m\"\u001b[39m\u001b[39m_draw_disabled\u001b[39m\u001b[39m\"\u001b[39m, nullcontext)():\n\u001b[1;32m-> <a href='file:///c%3A/Users/alialkirzam/miniconda3/lib/site-packages/matplotlib/backend_bases.py?line=2294'>2295</a>\u001b[0m         \u001b[39mself\u001b[39;49m\u001b[39m.\u001b[39;49mfigure\u001b[39m.\u001b[39;49mdraw(renderer)\n\u001b[0;32m   <a href='file:///c%3A/Users/alialkirzam/miniconda3/lib/site-packages/matplotlib/backend_bases.py?line=2296'>2297</a>\u001b[0m \u001b[39mif\u001b[39;00m bbox_inches:\n\u001b[0;32m   <a href='file:///c%3A/Users/alialkirzam/miniconda3/lib/site-packages/matplotlib/backend_bases.py?line=2297'>2298</a>\u001b[0m     \u001b[39mif\u001b[39;00m bbox_inches \u001b[39m==\u001b[39m \u001b[39m\"\u001b[39m\u001b[39mtight\u001b[39m\u001b[39m\"\u001b[39m:\n",
      "File \u001b[1;32m~\\miniconda3\\lib\\site-packages\\matplotlib\\artist.py:73\u001b[0m, in \u001b[0;36m_finalize_rasterization.<locals>.draw_wrapper\u001b[1;34m(artist, renderer, *args, **kwargs)\u001b[0m\n\u001b[0;32m     <a href='file:///c%3A/Users/alialkirzam/miniconda3/lib/site-packages/matplotlib/artist.py?line=70'>71</a>\u001b[0m \u001b[39m@wraps\u001b[39m(draw)\n\u001b[0;32m     <a href='file:///c%3A/Users/alialkirzam/miniconda3/lib/site-packages/matplotlib/artist.py?line=71'>72</a>\u001b[0m \u001b[39mdef\u001b[39;00m \u001b[39mdraw_wrapper\u001b[39m(artist, renderer, \u001b[39m*\u001b[39margs, \u001b[39m*\u001b[39m\u001b[39m*\u001b[39mkwargs):\n\u001b[1;32m---> <a href='file:///c%3A/Users/alialkirzam/miniconda3/lib/site-packages/matplotlib/artist.py?line=72'>73</a>\u001b[0m     result \u001b[39m=\u001b[39m draw(artist, renderer, \u001b[39m*\u001b[39margs, \u001b[39m*\u001b[39m\u001b[39m*\u001b[39mkwargs)\n\u001b[0;32m     <a href='file:///c%3A/Users/alialkirzam/miniconda3/lib/site-packages/matplotlib/artist.py?line=73'>74</a>\u001b[0m     \u001b[39mif\u001b[39;00m renderer\u001b[39m.\u001b[39m_rasterizing:\n\u001b[0;32m     <a href='file:///c%3A/Users/alialkirzam/miniconda3/lib/site-packages/matplotlib/artist.py?line=74'>75</a>\u001b[0m         renderer\u001b[39m.\u001b[39mstop_rasterizing()\n",
      "File \u001b[1;32m~\\miniconda3\\lib\\site-packages\\matplotlib\\artist.py:50\u001b[0m, in \u001b[0;36mallow_rasterization.<locals>.draw_wrapper\u001b[1;34m(artist, renderer)\u001b[0m\n\u001b[0;32m     <a href='file:///c%3A/Users/alialkirzam/miniconda3/lib/site-packages/matplotlib/artist.py?line=46'>47</a>\u001b[0m     \u001b[39mif\u001b[39;00m artist\u001b[39m.\u001b[39mget_agg_filter() \u001b[39mis\u001b[39;00m \u001b[39mnot\u001b[39;00m \u001b[39mNone\u001b[39;00m:\n\u001b[0;32m     <a href='file:///c%3A/Users/alialkirzam/miniconda3/lib/site-packages/matplotlib/artist.py?line=47'>48</a>\u001b[0m         renderer\u001b[39m.\u001b[39mstart_filter()\n\u001b[1;32m---> <a href='file:///c%3A/Users/alialkirzam/miniconda3/lib/site-packages/matplotlib/artist.py?line=49'>50</a>\u001b[0m     \u001b[39mreturn\u001b[39;00m draw(artist, renderer)\n\u001b[0;32m     <a href='file:///c%3A/Users/alialkirzam/miniconda3/lib/site-packages/matplotlib/artist.py?line=50'>51</a>\u001b[0m \u001b[39mfinally\u001b[39;00m:\n\u001b[0;32m     <a href='file:///c%3A/Users/alialkirzam/miniconda3/lib/site-packages/matplotlib/artist.py?line=51'>52</a>\u001b[0m     \u001b[39mif\u001b[39;00m artist\u001b[39m.\u001b[39mget_agg_filter() \u001b[39mis\u001b[39;00m \u001b[39mnot\u001b[39;00m \u001b[39mNone\u001b[39;00m:\n",
      "File \u001b[1;32m~\\miniconda3\\lib\\site-packages\\matplotlib\\figure.py:2810\u001b[0m, in \u001b[0;36mFigure.draw\u001b[1;34m(self, renderer)\u001b[0m\n\u001b[0;32m   <a href='file:///c%3A/Users/alialkirzam/miniconda3/lib/site-packages/matplotlib/figure.py?line=2806'>2807</a>\u001b[0m         \u001b[39m# ValueError can occur when resizing a window.\u001b[39;00m\n\u001b[0;32m   <a href='file:///c%3A/Users/alialkirzam/miniconda3/lib/site-packages/matplotlib/figure.py?line=2808'>2809</a>\u001b[0m \u001b[39mself\u001b[39m\u001b[39m.\u001b[39mpatch\u001b[39m.\u001b[39mdraw(renderer)\n\u001b[1;32m-> <a href='file:///c%3A/Users/alialkirzam/miniconda3/lib/site-packages/matplotlib/figure.py?line=2809'>2810</a>\u001b[0m mimage\u001b[39m.\u001b[39;49m_draw_list_compositing_images(\n\u001b[0;32m   <a href='file:///c%3A/Users/alialkirzam/miniconda3/lib/site-packages/matplotlib/figure.py?line=2810'>2811</a>\u001b[0m     renderer, \u001b[39mself\u001b[39;49m, artists, \u001b[39mself\u001b[39;49m\u001b[39m.\u001b[39;49msuppressComposite)\n\u001b[0;32m   <a href='file:///c%3A/Users/alialkirzam/miniconda3/lib/site-packages/matplotlib/figure.py?line=2812'>2813</a>\u001b[0m \u001b[39mfor\u001b[39;00m sfig \u001b[39min\u001b[39;00m \u001b[39mself\u001b[39m\u001b[39m.\u001b[39msubfigs:\n\u001b[0;32m   <a href='file:///c%3A/Users/alialkirzam/miniconda3/lib/site-packages/matplotlib/figure.py?line=2813'>2814</a>\u001b[0m     sfig\u001b[39m.\u001b[39mdraw(renderer)\n",
      "File \u001b[1;32m~\\miniconda3\\lib\\site-packages\\matplotlib\\image.py:132\u001b[0m, in \u001b[0;36m_draw_list_compositing_images\u001b[1;34m(renderer, parent, artists, suppress_composite)\u001b[0m\n\u001b[0;32m    <a href='file:///c%3A/Users/alialkirzam/miniconda3/lib/site-packages/matplotlib/image.py?line=129'>130</a>\u001b[0m \u001b[39mif\u001b[39;00m not_composite \u001b[39mor\u001b[39;00m \u001b[39mnot\u001b[39;00m has_images:\n\u001b[0;32m    <a href='file:///c%3A/Users/alialkirzam/miniconda3/lib/site-packages/matplotlib/image.py?line=130'>131</a>\u001b[0m     \u001b[39mfor\u001b[39;00m a \u001b[39min\u001b[39;00m artists:\n\u001b[1;32m--> <a href='file:///c%3A/Users/alialkirzam/miniconda3/lib/site-packages/matplotlib/image.py?line=131'>132</a>\u001b[0m         a\u001b[39m.\u001b[39;49mdraw(renderer)\n\u001b[0;32m    <a href='file:///c%3A/Users/alialkirzam/miniconda3/lib/site-packages/matplotlib/image.py?line=132'>133</a>\u001b[0m \u001b[39melse\u001b[39;00m:\n\u001b[0;32m    <a href='file:///c%3A/Users/alialkirzam/miniconda3/lib/site-packages/matplotlib/image.py?line=133'>134</a>\u001b[0m     \u001b[39m# Composite any adjacent images together\u001b[39;00m\n\u001b[0;32m    <a href='file:///c%3A/Users/alialkirzam/miniconda3/lib/site-packages/matplotlib/image.py?line=134'>135</a>\u001b[0m     image_group \u001b[39m=\u001b[39m []\n",
      "File \u001b[1;32m~\\miniconda3\\lib\\site-packages\\matplotlib\\artist.py:50\u001b[0m, in \u001b[0;36mallow_rasterization.<locals>.draw_wrapper\u001b[1;34m(artist, renderer)\u001b[0m\n\u001b[0;32m     <a href='file:///c%3A/Users/alialkirzam/miniconda3/lib/site-packages/matplotlib/artist.py?line=46'>47</a>\u001b[0m     \u001b[39mif\u001b[39;00m artist\u001b[39m.\u001b[39mget_agg_filter() \u001b[39mis\u001b[39;00m \u001b[39mnot\u001b[39;00m \u001b[39mNone\u001b[39;00m:\n\u001b[0;32m     <a href='file:///c%3A/Users/alialkirzam/miniconda3/lib/site-packages/matplotlib/artist.py?line=47'>48</a>\u001b[0m         renderer\u001b[39m.\u001b[39mstart_filter()\n\u001b[1;32m---> <a href='file:///c%3A/Users/alialkirzam/miniconda3/lib/site-packages/matplotlib/artist.py?line=49'>50</a>\u001b[0m     \u001b[39mreturn\u001b[39;00m draw(artist, renderer)\n\u001b[0;32m     <a href='file:///c%3A/Users/alialkirzam/miniconda3/lib/site-packages/matplotlib/artist.py?line=50'>51</a>\u001b[0m \u001b[39mfinally\u001b[39;00m:\n\u001b[0;32m     <a href='file:///c%3A/Users/alialkirzam/miniconda3/lib/site-packages/matplotlib/artist.py?line=51'>52</a>\u001b[0m     \u001b[39mif\u001b[39;00m artist\u001b[39m.\u001b[39mget_agg_filter() \u001b[39mis\u001b[39;00m \u001b[39mnot\u001b[39;00m \u001b[39mNone\u001b[39;00m:\n",
      "File \u001b[1;32m~\\miniconda3\\lib\\site-packages\\matplotlib\\axes\\_base.py:3082\u001b[0m, in \u001b[0;36m_AxesBase.draw\u001b[1;34m(self, renderer)\u001b[0m\n\u001b[0;32m   <a href='file:///c%3A/Users/alialkirzam/miniconda3/lib/site-packages/matplotlib/axes/_base.py?line=3078'>3079</a>\u001b[0m         a\u001b[39m.\u001b[39mdraw(renderer)\n\u001b[0;32m   <a href='file:///c%3A/Users/alialkirzam/miniconda3/lib/site-packages/matplotlib/axes/_base.py?line=3079'>3080</a>\u001b[0m     renderer\u001b[39m.\u001b[39mstop_rasterizing()\n\u001b[1;32m-> <a href='file:///c%3A/Users/alialkirzam/miniconda3/lib/site-packages/matplotlib/axes/_base.py?line=3081'>3082</a>\u001b[0m mimage\u001b[39m.\u001b[39;49m_draw_list_compositing_images(\n\u001b[0;32m   <a href='file:///c%3A/Users/alialkirzam/miniconda3/lib/site-packages/matplotlib/axes/_base.py?line=3082'>3083</a>\u001b[0m     renderer, \u001b[39mself\u001b[39;49m, artists, \u001b[39mself\u001b[39;49m\u001b[39m.\u001b[39;49mfigure\u001b[39m.\u001b[39;49msuppressComposite)\n\u001b[0;32m   <a href='file:///c%3A/Users/alialkirzam/miniconda3/lib/site-packages/matplotlib/axes/_base.py?line=3084'>3085</a>\u001b[0m renderer\u001b[39m.\u001b[39mclose_group(\u001b[39m'\u001b[39m\u001b[39maxes\u001b[39m\u001b[39m'\u001b[39m)\n\u001b[0;32m   <a href='file:///c%3A/Users/alialkirzam/miniconda3/lib/site-packages/matplotlib/axes/_base.py?line=3085'>3086</a>\u001b[0m \u001b[39mself\u001b[39m\u001b[39m.\u001b[39mstale \u001b[39m=\u001b[39m \u001b[39mFalse\u001b[39;00m\n",
      "File \u001b[1;32m~\\miniconda3\\lib\\site-packages\\matplotlib\\image.py:132\u001b[0m, in \u001b[0;36m_draw_list_compositing_images\u001b[1;34m(renderer, parent, artists, suppress_composite)\u001b[0m\n\u001b[0;32m    <a href='file:///c%3A/Users/alialkirzam/miniconda3/lib/site-packages/matplotlib/image.py?line=129'>130</a>\u001b[0m \u001b[39mif\u001b[39;00m not_composite \u001b[39mor\u001b[39;00m \u001b[39mnot\u001b[39;00m has_images:\n\u001b[0;32m    <a href='file:///c%3A/Users/alialkirzam/miniconda3/lib/site-packages/matplotlib/image.py?line=130'>131</a>\u001b[0m     \u001b[39mfor\u001b[39;00m a \u001b[39min\u001b[39;00m artists:\n\u001b[1;32m--> <a href='file:///c%3A/Users/alialkirzam/miniconda3/lib/site-packages/matplotlib/image.py?line=131'>132</a>\u001b[0m         a\u001b[39m.\u001b[39;49mdraw(renderer)\n\u001b[0;32m    <a href='file:///c%3A/Users/alialkirzam/miniconda3/lib/site-packages/matplotlib/image.py?line=132'>133</a>\u001b[0m \u001b[39melse\u001b[39;00m:\n\u001b[0;32m    <a href='file:///c%3A/Users/alialkirzam/miniconda3/lib/site-packages/matplotlib/image.py?line=133'>134</a>\u001b[0m     \u001b[39m# Composite any adjacent images together\u001b[39;00m\n\u001b[0;32m    <a href='file:///c%3A/Users/alialkirzam/miniconda3/lib/site-packages/matplotlib/image.py?line=134'>135</a>\u001b[0m     image_group \u001b[39m=\u001b[39m []\n",
      "File \u001b[1;32m~\\miniconda3\\lib\\site-packages\\matplotlib\\artist.py:50\u001b[0m, in \u001b[0;36mallow_rasterization.<locals>.draw_wrapper\u001b[1;34m(artist, renderer)\u001b[0m\n\u001b[0;32m     <a href='file:///c%3A/Users/alialkirzam/miniconda3/lib/site-packages/matplotlib/artist.py?line=46'>47</a>\u001b[0m     \u001b[39mif\u001b[39;00m artist\u001b[39m.\u001b[39mget_agg_filter() \u001b[39mis\u001b[39;00m \u001b[39mnot\u001b[39;00m \u001b[39mNone\u001b[39;00m:\n\u001b[0;32m     <a href='file:///c%3A/Users/alialkirzam/miniconda3/lib/site-packages/matplotlib/artist.py?line=47'>48</a>\u001b[0m         renderer\u001b[39m.\u001b[39mstart_filter()\n\u001b[1;32m---> <a href='file:///c%3A/Users/alialkirzam/miniconda3/lib/site-packages/matplotlib/artist.py?line=49'>50</a>\u001b[0m     \u001b[39mreturn\u001b[39;00m draw(artist, renderer)\n\u001b[0;32m     <a href='file:///c%3A/Users/alialkirzam/miniconda3/lib/site-packages/matplotlib/artist.py?line=50'>51</a>\u001b[0m \u001b[39mfinally\u001b[39;00m:\n\u001b[0;32m     <a href='file:///c%3A/Users/alialkirzam/miniconda3/lib/site-packages/matplotlib/artist.py?line=51'>52</a>\u001b[0m     \u001b[39mif\u001b[39;00m artist\u001b[39m.\u001b[39mget_agg_filter() \u001b[39mis\u001b[39;00m \u001b[39mnot\u001b[39;00m \u001b[39mNone\u001b[39;00m:\n",
      "File \u001b[1;32m~\\miniconda3\\lib\\site-packages\\matplotlib\\axis.py:1159\u001b[0m, in \u001b[0;36mAxis.draw\u001b[1;34m(self, renderer, *args, **kwargs)\u001b[0m\n\u001b[0;32m   <a href='file:///c%3A/Users/alialkirzam/miniconda3/lib/site-packages/matplotlib/axis.py?line=1155'>1156</a>\u001b[0m renderer\u001b[39m.\u001b[39mopen_group(\u001b[39m__name__\u001b[39m, gid\u001b[39m=\u001b[39m\u001b[39mself\u001b[39m\u001b[39m.\u001b[39mget_gid())\n\u001b[0;32m   <a href='file:///c%3A/Users/alialkirzam/miniconda3/lib/site-packages/matplotlib/axis.py?line=1157'>1158</a>\u001b[0m ticks_to_draw \u001b[39m=\u001b[39m \u001b[39mself\u001b[39m\u001b[39m.\u001b[39m_update_ticks()\n\u001b[1;32m-> <a href='file:///c%3A/Users/alialkirzam/miniconda3/lib/site-packages/matplotlib/axis.py?line=1158'>1159</a>\u001b[0m ticklabelBoxes, ticklabelBoxes2 \u001b[39m=\u001b[39m \u001b[39mself\u001b[39;49m\u001b[39m.\u001b[39;49m_get_tick_bboxes(ticks_to_draw,\n\u001b[0;32m   <a href='file:///c%3A/Users/alialkirzam/miniconda3/lib/site-packages/matplotlib/axis.py?line=1159'>1160</a>\u001b[0m                                                         renderer)\n\u001b[0;32m   <a href='file:///c%3A/Users/alialkirzam/miniconda3/lib/site-packages/matplotlib/axis.py?line=1161'>1162</a>\u001b[0m \u001b[39mfor\u001b[39;00m tick \u001b[39min\u001b[39;00m ticks_to_draw:\n\u001b[0;32m   <a href='file:///c%3A/Users/alialkirzam/miniconda3/lib/site-packages/matplotlib/axis.py?line=1162'>1163</a>\u001b[0m     tick\u001b[39m.\u001b[39mdraw(renderer)\n",
      "File \u001b[1;32m~\\miniconda3\\lib\\site-packages\\matplotlib\\axis.py:1085\u001b[0m, in \u001b[0;36mAxis._get_tick_bboxes\u001b[1;34m(self, ticks, renderer)\u001b[0m\n\u001b[0;32m   <a href='file:///c%3A/Users/alialkirzam/miniconda3/lib/site-packages/matplotlib/axis.py?line=1082'>1083</a>\u001b[0m \u001b[39mdef\u001b[39;00m \u001b[39m_get_tick_bboxes\u001b[39m(\u001b[39mself\u001b[39m, ticks, renderer):\n\u001b[0;32m   <a href='file:///c%3A/Users/alialkirzam/miniconda3/lib/site-packages/matplotlib/axis.py?line=1083'>1084</a>\u001b[0m     \u001b[39m\"\"\"Return lists of bboxes for ticks' label1's and label2's.\"\"\"\u001b[39;00m\n\u001b[1;32m-> <a href='file:///c%3A/Users/alialkirzam/miniconda3/lib/site-packages/matplotlib/axis.py?line=1084'>1085</a>\u001b[0m     \u001b[39mreturn\u001b[39;00m ([tick\u001b[39m.\u001b[39mlabel1\u001b[39m.\u001b[39mget_window_extent(renderer)\n\u001b[0;32m   <a href='file:///c%3A/Users/alialkirzam/miniconda3/lib/site-packages/matplotlib/axis.py?line=1085'>1086</a>\u001b[0m              \u001b[39mfor\u001b[39;00m tick \u001b[39min\u001b[39;00m ticks \u001b[39mif\u001b[39;00m tick\u001b[39m.\u001b[39mlabel1\u001b[39m.\u001b[39mget_visible()],\n\u001b[0;32m   <a href='file:///c%3A/Users/alialkirzam/miniconda3/lib/site-packages/matplotlib/axis.py?line=1086'>1087</a>\u001b[0m             [tick\u001b[39m.\u001b[39mlabel2\u001b[39m.\u001b[39mget_window_extent(renderer)\n\u001b[0;32m   <a href='file:///c%3A/Users/alialkirzam/miniconda3/lib/site-packages/matplotlib/axis.py?line=1087'>1088</a>\u001b[0m              \u001b[39mfor\u001b[39;00m tick \u001b[39min\u001b[39;00m ticks \u001b[39mif\u001b[39;00m tick\u001b[39m.\u001b[39mlabel2\u001b[39m.\u001b[39mget_visible()])\n",
      "File \u001b[1;32m~\\miniconda3\\lib\\site-packages\\matplotlib\\axis.py:1085\u001b[0m, in \u001b[0;36m<listcomp>\u001b[1;34m(.0)\u001b[0m\n\u001b[0;32m   <a href='file:///c%3A/Users/alialkirzam/miniconda3/lib/site-packages/matplotlib/axis.py?line=1082'>1083</a>\u001b[0m \u001b[39mdef\u001b[39;00m \u001b[39m_get_tick_bboxes\u001b[39m(\u001b[39mself\u001b[39m, ticks, renderer):\n\u001b[0;32m   <a href='file:///c%3A/Users/alialkirzam/miniconda3/lib/site-packages/matplotlib/axis.py?line=1083'>1084</a>\u001b[0m     \u001b[39m\"\"\"Return lists of bboxes for ticks' label1's and label2's.\"\"\"\u001b[39;00m\n\u001b[1;32m-> <a href='file:///c%3A/Users/alialkirzam/miniconda3/lib/site-packages/matplotlib/axis.py?line=1084'>1085</a>\u001b[0m     \u001b[39mreturn\u001b[39;00m ([tick\u001b[39m.\u001b[39;49mlabel1\u001b[39m.\u001b[39;49mget_window_extent(renderer)\n\u001b[0;32m   <a href='file:///c%3A/Users/alialkirzam/miniconda3/lib/site-packages/matplotlib/axis.py?line=1085'>1086</a>\u001b[0m              \u001b[39mfor\u001b[39;00m tick \u001b[39min\u001b[39;00m ticks \u001b[39mif\u001b[39;00m tick\u001b[39m.\u001b[39mlabel1\u001b[39m.\u001b[39mget_visible()],\n\u001b[0;32m   <a href='file:///c%3A/Users/alialkirzam/miniconda3/lib/site-packages/matplotlib/axis.py?line=1086'>1087</a>\u001b[0m             [tick\u001b[39m.\u001b[39mlabel2\u001b[39m.\u001b[39mget_window_extent(renderer)\n\u001b[0;32m   <a href='file:///c%3A/Users/alialkirzam/miniconda3/lib/site-packages/matplotlib/axis.py?line=1087'>1088</a>\u001b[0m              \u001b[39mfor\u001b[39;00m tick \u001b[39min\u001b[39;00m ticks \u001b[39mif\u001b[39;00m tick\u001b[39m.\u001b[39mlabel2\u001b[39m.\u001b[39mget_visible()])\n",
      "File \u001b[1;32m~\\miniconda3\\lib\\site-packages\\matplotlib\\text.py:910\u001b[0m, in \u001b[0;36mText.get_window_extent\u001b[1;34m(self, renderer, dpi)\u001b[0m\n\u001b[0;32m    <a href='file:///c%3A/Users/alialkirzam/miniconda3/lib/site-packages/matplotlib/text.py?line=906'>907</a>\u001b[0m     \u001b[39mraise\u001b[39;00m \u001b[39mRuntimeError\u001b[39;00m(\u001b[39m'\u001b[39m\u001b[39mCannot get window extent w/o renderer\u001b[39m\u001b[39m'\u001b[39m)\n\u001b[0;32m    <a href='file:///c%3A/Users/alialkirzam/miniconda3/lib/site-packages/matplotlib/text.py?line=908'>909</a>\u001b[0m \u001b[39mwith\u001b[39;00m cbook\u001b[39m.\u001b[39m_setattr_cm(\u001b[39mself\u001b[39m\u001b[39m.\u001b[39mfigure, dpi\u001b[39m=\u001b[39mdpi):\n\u001b[1;32m--> <a href='file:///c%3A/Users/alialkirzam/miniconda3/lib/site-packages/matplotlib/text.py?line=909'>910</a>\u001b[0m     bbox, info, descent \u001b[39m=\u001b[39m \u001b[39mself\u001b[39;49m\u001b[39m.\u001b[39;49m_get_layout(\u001b[39mself\u001b[39;49m\u001b[39m.\u001b[39;49m_renderer)\n\u001b[0;32m    <a href='file:///c%3A/Users/alialkirzam/miniconda3/lib/site-packages/matplotlib/text.py?line=910'>911</a>\u001b[0m     x, y \u001b[39m=\u001b[39m \u001b[39mself\u001b[39m\u001b[39m.\u001b[39mget_unitless_position()\n\u001b[0;32m    <a href='file:///c%3A/Users/alialkirzam/miniconda3/lib/site-packages/matplotlib/text.py?line=911'>912</a>\u001b[0m     x, y \u001b[39m=\u001b[39m \u001b[39mself\u001b[39m\u001b[39m.\u001b[39mget_transform()\u001b[39m.\u001b[39mtransform((x, y))\n",
      "File \u001b[1;32m~\\miniconda3\\lib\\site-packages\\matplotlib\\text.py:317\u001b[0m, in \u001b[0;36mText._get_layout\u001b[1;34m(self, renderer)\u001b[0m\n\u001b[0;32m    <a href='file:///c%3A/Users/alialkirzam/miniconda3/lib/site-packages/matplotlib/text.py?line=314'>315</a>\u001b[0m clean_line, ismath \u001b[39m=\u001b[39m \u001b[39mself\u001b[39m\u001b[39m.\u001b[39m_preprocess_math(line)\n\u001b[0;32m    <a href='file:///c%3A/Users/alialkirzam/miniconda3/lib/site-packages/matplotlib/text.py?line=315'>316</a>\u001b[0m \u001b[39mif\u001b[39;00m clean_line:\n\u001b[1;32m--> <a href='file:///c%3A/Users/alialkirzam/miniconda3/lib/site-packages/matplotlib/text.py?line=316'>317</a>\u001b[0m     w, h, d \u001b[39m=\u001b[39m renderer\u001b[39m.\u001b[39;49mget_text_width_height_descent(\n\u001b[0;32m    <a href='file:///c%3A/Users/alialkirzam/miniconda3/lib/site-packages/matplotlib/text.py?line=317'>318</a>\u001b[0m         clean_line, \u001b[39mself\u001b[39;49m\u001b[39m.\u001b[39;49m_fontproperties, ismath\u001b[39m=\u001b[39;49mismath)\n\u001b[0;32m    <a href='file:///c%3A/Users/alialkirzam/miniconda3/lib/site-packages/matplotlib/text.py?line=318'>319</a>\u001b[0m \u001b[39melse\u001b[39;00m:\n\u001b[0;32m    <a href='file:///c%3A/Users/alialkirzam/miniconda3/lib/site-packages/matplotlib/text.py?line=319'>320</a>\u001b[0m     w \u001b[39m=\u001b[39m h \u001b[39m=\u001b[39m d \u001b[39m=\u001b[39m \u001b[39m0\u001b[39m\n",
      "File \u001b[1;32m~\\miniconda3\\lib\\site-packages\\matplotlib\\backends\\backend_agg.py:270\u001b[0m, in \u001b[0;36mRendererAgg.get_text_width_height_descent\u001b[1;34m(self, s, prop, ismath)\u001b[0m\n\u001b[0;32m    <a href='file:///c%3A/Users/alialkirzam/miniconda3/lib/site-packages/matplotlib/backends/backend_agg.py?line=267'>268</a>\u001b[0m flags \u001b[39m=\u001b[39m get_hinting_flag()\n\u001b[0;32m    <a href='file:///c%3A/Users/alialkirzam/miniconda3/lib/site-packages/matplotlib/backends/backend_agg.py?line=268'>269</a>\u001b[0m font \u001b[39m=\u001b[39m \u001b[39mself\u001b[39m\u001b[39m.\u001b[39m_get_agg_font(prop)\n\u001b[1;32m--> <a href='file:///c%3A/Users/alialkirzam/miniconda3/lib/site-packages/matplotlib/backends/backend_agg.py?line=269'>270</a>\u001b[0m font\u001b[39m.\u001b[39;49mset_text(s, \u001b[39m0.0\u001b[39;49m, flags\u001b[39m=\u001b[39;49mflags)\n\u001b[0;32m    <a href='file:///c%3A/Users/alialkirzam/miniconda3/lib/site-packages/matplotlib/backends/backend_agg.py?line=270'>271</a>\u001b[0m w, h \u001b[39m=\u001b[39m font\u001b[39m.\u001b[39mget_width_height()  \u001b[39m# width and height of unrotated string\u001b[39;00m\n\u001b[0;32m    <a href='file:///c%3A/Users/alialkirzam/miniconda3/lib/site-packages/matplotlib/backends/backend_agg.py?line=271'>272</a>\u001b[0m d \u001b[39m=\u001b[39m font\u001b[39m.\u001b[39mget_descent()\n",
>>>>>>> Stashed changes
      "\u001b[1;31mKeyboardInterrupt\u001b[0m: "
     ]
    }
   ],
   "source": [
    "plt.plot(sample_data.movie_title, sample_data.audience_rating)\n",
    "plt.show()"
   ]
  },
  {
   "cell_type": "code",
<<<<<<< Updated upstream
   "execution_count": 164,
   "metadata": {},
   "outputs": [
    {
     "ename": "KeyError",
     "evalue": "\"None of [Index(['12/02/2010', '30/04/2010', '05/10/1979', '13/04/1957', '01/01/1954',\\n       '07/03/2008', '01/08/1935', '07/08/1957', '27/09/2002', '08/11/1930',\\n       ...\\n       '08/06/2018', '08/07/2011', '28/09/2001', '12/02/2016', '11/08/2006',\\n       '02/10/1981', '04/03/2016', '17/12/1964', '17/06/1964', '14/12/1979'],\\n      dtype='object', length=17712)] are in the [columns]\"",
     "output_type": "error",
     "traceback": [
      "\u001b[1;31m---------------------------------------------------------------------------\u001b[0m",
      "\u001b[1;31mKeyError\u001b[0m                                  Traceback (most recent call last)",
      "\u001b[1;32mc:\\Users\\alialkirzam\\OneDrive - Liverpool John Moores University\\Documents\\GitHub\\Coursework\\Coursework-3\\ali.ipynb Cell 9'\u001b[0m in \u001b[0;36m<module>\u001b[1;34m\u001b[0m\n\u001b[1;32m----> <a href='vscode-notebook-cell:/c%3A/Users/alialkirzam/OneDrive%20-%20Liverpool%20John%20Moores%20University/Documents/GitHub/Coursework/Coursework-3/ali.ipynb#ch0000009?line=0'>1</a>\u001b[0m Co\u001b[39m=\u001b[39msample_data[sample_data\u001b[39m.\u001b[39;49moriginal_release_date]\n",
      "File \u001b[1;32m~\\miniconda3\\lib\\site-packages\\pandas\\core\\frame.py:3511\u001b[0m, in \u001b[0;36mDataFrame.__getitem__\u001b[1;34m(self, key)\u001b[0m\n\u001b[0;32m   <a href='file:///c%3A/Users/alialkirzam/miniconda3/lib/site-packages/pandas/core/frame.py?line=3508'>3509</a>\u001b[0m     \u001b[39mif\u001b[39;00m is_iterator(key):\n\u001b[0;32m   <a href='file:///c%3A/Users/alialkirzam/miniconda3/lib/site-packages/pandas/core/frame.py?line=3509'>3510</a>\u001b[0m         key \u001b[39m=\u001b[39m \u001b[39mlist\u001b[39m(key)\n\u001b[1;32m-> <a href='file:///c%3A/Users/alialkirzam/miniconda3/lib/site-packages/pandas/core/frame.py?line=3510'>3511</a>\u001b[0m     indexer \u001b[39m=\u001b[39m \u001b[39mself\u001b[39;49m\u001b[39m.\u001b[39;49mcolumns\u001b[39m.\u001b[39;49m_get_indexer_strict(key, \u001b[39m\"\u001b[39;49m\u001b[39mcolumns\u001b[39;49m\u001b[39m\"\u001b[39;49m)[\u001b[39m1\u001b[39m]\n\u001b[0;32m   <a href='file:///c%3A/Users/alialkirzam/miniconda3/lib/site-packages/pandas/core/frame.py?line=3512'>3513</a>\u001b[0m \u001b[39m# take() does not accept boolean indexers\u001b[39;00m\n\u001b[0;32m   <a href='file:///c%3A/Users/alialkirzam/miniconda3/lib/site-packages/pandas/core/frame.py?line=3513'>3514</a>\u001b[0m \u001b[39mif\u001b[39;00m \u001b[39mgetattr\u001b[39m(indexer, \u001b[39m\"\u001b[39m\u001b[39mdtype\u001b[39m\u001b[39m\"\u001b[39m, \u001b[39mNone\u001b[39;00m) \u001b[39m==\u001b[39m \u001b[39mbool\u001b[39m:\n",
      "File \u001b[1;32m~\\miniconda3\\lib\\site-packages\\pandas\\core\\indexes\\base.py:5782\u001b[0m, in \u001b[0;36mIndex._get_indexer_strict\u001b[1;34m(self, key, axis_name)\u001b[0m\n\u001b[0;32m   <a href='file:///c%3A/Users/alialkirzam/miniconda3/lib/site-packages/pandas/core/indexes/base.py?line=5778'>5779</a>\u001b[0m \u001b[39melse\u001b[39;00m:\n\u001b[0;32m   <a href='file:///c%3A/Users/alialkirzam/miniconda3/lib/site-packages/pandas/core/indexes/base.py?line=5779'>5780</a>\u001b[0m     keyarr, indexer, new_indexer \u001b[39m=\u001b[39m \u001b[39mself\u001b[39m\u001b[39m.\u001b[39m_reindex_non_unique(keyarr)\n\u001b[1;32m-> <a href='file:///c%3A/Users/alialkirzam/miniconda3/lib/site-packages/pandas/core/indexes/base.py?line=5781'>5782</a>\u001b[0m \u001b[39mself\u001b[39;49m\u001b[39m.\u001b[39;49m_raise_if_missing(keyarr, indexer, axis_name)\n\u001b[0;32m   <a href='file:///c%3A/Users/alialkirzam/miniconda3/lib/site-packages/pandas/core/indexes/base.py?line=5783'>5784</a>\u001b[0m keyarr \u001b[39m=\u001b[39m \u001b[39mself\u001b[39m\u001b[39m.\u001b[39mtake(indexer)\n\u001b[0;32m   <a href='file:///c%3A/Users/alialkirzam/miniconda3/lib/site-packages/pandas/core/indexes/base.py?line=5784'>5785</a>\u001b[0m \u001b[39mif\u001b[39;00m \u001b[39misinstance\u001b[39m(key, Index):\n\u001b[0;32m   <a href='file:///c%3A/Users/alialkirzam/miniconda3/lib/site-packages/pandas/core/indexes/base.py?line=5785'>5786</a>\u001b[0m     \u001b[39m# GH 42790 - Preserve name from an Index\u001b[39;00m\n",
      "File \u001b[1;32m~\\miniconda3\\lib\\site-packages\\pandas\\core\\indexes\\base.py:5842\u001b[0m, in \u001b[0;36mIndex._raise_if_missing\u001b[1;34m(self, key, indexer, axis_name)\u001b[0m\n\u001b[0;32m   <a href='file:///c%3A/Users/alialkirzam/miniconda3/lib/site-packages/pandas/core/indexes/base.py?line=5839'>5840</a>\u001b[0m     \u001b[39mif\u001b[39;00m use_interval_msg:\n\u001b[0;32m   <a href='file:///c%3A/Users/alialkirzam/miniconda3/lib/site-packages/pandas/core/indexes/base.py?line=5840'>5841</a>\u001b[0m         key \u001b[39m=\u001b[39m \u001b[39mlist\u001b[39m(key)\n\u001b[1;32m-> <a href='file:///c%3A/Users/alialkirzam/miniconda3/lib/site-packages/pandas/core/indexes/base.py?line=5841'>5842</a>\u001b[0m     \u001b[39mraise\u001b[39;00m \u001b[39mKeyError\u001b[39;00m(\u001b[39mf\u001b[39m\u001b[39m\"\u001b[39m\u001b[39mNone of [\u001b[39m\u001b[39m{\u001b[39;00mkey\u001b[39m}\u001b[39;00m\u001b[39m] are in the [\u001b[39m\u001b[39m{\u001b[39;00maxis_name\u001b[39m}\u001b[39;00m\u001b[39m]\u001b[39m\u001b[39m\"\u001b[39m)\n\u001b[0;32m   <a href='file:///c%3A/Users/alialkirzam/miniconda3/lib/site-packages/pandas/core/indexes/base.py?line=5843'>5844</a>\u001b[0m not_found \u001b[39m=\u001b[39m \u001b[39mlist\u001b[39m(ensure_index(key)[missing_mask\u001b[39m.\u001b[39mnonzero()[\u001b[39m0\u001b[39m]]\u001b[39m.\u001b[39munique())\n\u001b[0;32m   <a href='file:///c%3A/Users/alialkirzam/miniconda3/lib/site-packages/pandas/core/indexes/base.py?line=5844'>5845</a>\u001b[0m \u001b[39mraise\u001b[39;00m \u001b[39mKeyError\u001b[39;00m(\u001b[39mf\u001b[39m\u001b[39m\"\u001b[39m\u001b[39m{\u001b[39;00mnot_found\u001b[39m}\u001b[39;00m\u001b[39m not in index\u001b[39m\u001b[39m\"\u001b[39m)\n",
      "\u001b[1;31mKeyError\u001b[0m: \"None of [Index(['12/02/2010', '30/04/2010', '05/10/1979', '13/04/1957', '01/01/1954',\\n       '07/03/2008', '01/08/1935', '07/08/1957', '27/09/2002', '08/11/1930',\\n       ...\\n       '08/06/2018', '08/07/2011', '28/09/2001', '12/02/2016', '11/08/2006',\\n       '02/10/1981', '04/03/2016', '17/12/1964', '17/06/1964', '14/12/1979'],\\n      dtype='object', length=17712)] are in the [columns]\""
     ]
    }
   ],
=======
   "execution_count": null,
   "metadata": {},
   "outputs": [],
>>>>>>> Stashed changes
   "source": [
    "Co=sample_data[sample_data.original_release_date]"
   ]
  },
  {
   "cell_type": "code",
<<<<<<< Updated upstream
   "execution_count": 138,
=======
   "execution_count": null,
>>>>>>> Stashed changes
   "metadata": {},
   "outputs": [],
   "source": [
    "Dr=sample_data[sample_data.genres=='Drama']"
   ]
  },
  {
   "cell_type": "code",
<<<<<<< Updated upstream
   "execution_count": 163,
   "metadata": {},
   "outputs": [
    {
     "data": {
      "text/html": [
       "<div>\n",
       "<style scoped>\n",
       "    .dataframe tbody tr th:only-of-type {\n",
       "        vertical-align: middle;\n",
       "    }\n",
       "\n",
       "    .dataframe tbody tr th {\n",
       "        vertical-align: top;\n",
       "    }\n",
       "\n",
       "    .dataframe thead th {\n",
       "        text-align: right;\n",
       "    }\n",
       "</style>\n",
       "<table border=\"1\" class=\"dataframe\">\n",
       "  <thead>\n",
       "    <tr style=\"text-align: right;\">\n",
       "      <th></th>\n",
       "      <th>movie_title</th>\n",
       "      <th>content_rating</th>\n",
       "      <th>genres</th>\n",
       "      <th>directors</th>\n",
       "      <th>authors</th>\n",
       "      <th>actors</th>\n",
       "      <th>original_release_date</th>\n",
       "      <th>streaming_release_date</th>\n",
       "      <th>runtime</th>\n",
       "      <th>production_company</th>\n",
       "      <th>tomatometer_status</th>\n",
       "      <th>tomatometer_rating</th>\n",
       "      <th>tomatometer_count</th>\n",
       "      <th>audience_status</th>\n",
       "      <th>audience_rating</th>\n",
       "      <th>audience_count</th>\n",
       "      <th>tomatometer_top_critics_count</th>\n",
       "      <th>tomatometer_fresh_critics_count</th>\n",
       "      <th>tomatometer_rotten_critics_count</th>\n",
       "    </tr>\n",
       "  </thead>\n",
       "  <tbody>\n",
       "  </tbody>\n",
       "</table>\n",
       "</div>"
      ],
      "text/plain": [
       "Empty DataFrame\n",
       "Columns: [movie_title, content_rating, genres, directors, authors, actors, original_release_date, streaming_release_date, runtime, production_company, tomatometer_status, tomatometer_rating, tomatometer_count, audience_status, audience_rating, audience_count, tomatometer_top_critics_count, tomatometer_fresh_critics_count, tomatometer_rotten_critics_count]\n",
       "Index: []"
      ]
     },
     "execution_count": 163,
     "metadata": {},
     "output_type": "execute_result"
    }
   ],
=======
   "execution_count": null,
   "metadata": {},
   "outputs": [],
>>>>>>> Stashed changes
   "source": [
    "Co"
   ]
  },
  {
   "cell_type": "code",
<<<<<<< Updated upstream
   "execution_count": 140,
   "metadata": {},
   "outputs": [
    {
     "data": {
      "text/html": [
       "<div>\n",
       "<style scoped>\n",
       "    .dataframe tbody tr th:only-of-type {\n",
       "        vertical-align: middle;\n",
       "    }\n",
       "\n",
       "    .dataframe tbody tr th {\n",
       "        vertical-align: top;\n",
       "    }\n",
       "\n",
       "    .dataframe thead th {\n",
       "        text-align: right;\n",
       "    }\n",
       "</style>\n",
       "<table border=\"1\" class=\"dataframe\">\n",
       "  <thead>\n",
       "    <tr style=\"text-align: right;\">\n",
       "      <th></th>\n",
       "      <th>movie_title</th>\n",
       "      <th>content_rating</th>\n",
       "      <th>genres</th>\n",
       "      <th>directors</th>\n",
       "      <th>authors</th>\n",
       "      <th>actors</th>\n",
       "      <th>original_release_date</th>\n",
       "      <th>streaming_release_date</th>\n",
       "      <th>runtime</th>\n",
       "      <th>production_company</th>\n",
       "      <th>tomatometer_status</th>\n",
       "      <th>tomatometer_rating</th>\n",
       "      <th>tomatometer_count</th>\n",
       "      <th>audience_status</th>\n",
       "      <th>audience_rating</th>\n",
       "      <th>audience_count</th>\n",
       "      <th>tomatometer_top_critics_count</th>\n",
       "      <th>tomatometer_fresh_critics_count</th>\n",
       "      <th>tomatometer_rotten_critics_count</th>\n",
       "    </tr>\n",
       "  </thead>\n",
       "  <tbody>\n",
       "    <tr>\n",
       "      <th>12</th>\n",
       "      <td>The Lost City</td>\n",
       "      <td>R</td>\n",
       "      <td>Drama</td>\n",
       "      <td>Andy Garcia</td>\n",
       "      <td>G. Cabrera Infante, Guillermo Cabrera Infante</td>\n",
       "      <td>Andy Garcia, Dustin Hoffman, Bill Murray, Inés...</td>\n",
       "      <td>03/09/2005</td>\n",
       "      <td>23/03/2017</td>\n",
       "      <td>143.0</td>\n",
       "      <td>Magnolia Pictures</td>\n",
       "      <td>Rotten</td>\n",
       "      <td>25.0</td>\n",
       "      <td>83.0</td>\n",
       "      <td>Upright</td>\n",
       "      <td>64.0</td>\n",
       "      <td>25944.0</td>\n",
       "      <td>37</td>\n",
       "      <td>21</td>\n",
       "      <td>62</td>\n",
       "    </tr>\n",
       "    <tr>\n",
       "      <th>13</th>\n",
       "      <td>The Breaking Point</td>\n",
       "      <td>NR</td>\n",
       "      <td>Drama</td>\n",
       "      <td>Michael Curtiz</td>\n",
       "      <td>Ranald MacDougall</td>\n",
       "      <td>John Garfield, Patricia Neal, Phyllis Thaxter,...</td>\n",
       "      <td>06/10/1950</td>\n",
       "      <td>25/08/2016</td>\n",
       "      <td>97.0</td>\n",
       "      <td>Warner Home Video</td>\n",
       "      <td>Fresh</td>\n",
       "      <td>100.0</td>\n",
       "      <td>10.0</td>\n",
       "      <td>Upright</td>\n",
       "      <td>86.0</td>\n",
       "      <td>335.0</td>\n",
       "      <td>1</td>\n",
       "      <td>10</td>\n",
       "      <td>0</td>\n",
       "    </tr>\n",
       "    <tr>\n",
       "      <th>55</th>\n",
       "      <td>Dirty</td>\n",
       "      <td>R</td>\n",
       "      <td>Drama</td>\n",
       "      <td>Chris Fisher</td>\n",
       "      <td>Chris Fisher, Gil Reavill, Eric Saks</td>\n",
       "      <td>Cuba Gooding Jr., Wyclef Jean, Keith David, Cl...</td>\n",
       "      <td>24/02/2006</td>\n",
       "      <td>16/04/2012</td>\n",
       "      <td>97.0</td>\n",
       "      <td>SNP Inc.</td>\n",
       "      <td>Rotten</td>\n",
       "      <td>21.0</td>\n",
       "      <td>28.0</td>\n",
       "      <td>Spilled</td>\n",
       "      <td>42.0</td>\n",
       "      <td>7326.0</td>\n",
       "      <td>10</td>\n",
       "      <td>6</td>\n",
       "      <td>22</td>\n",
       "    </tr>\n",
       "    <tr>\n",
       "      <th>58</th>\n",
       "      <td>All Quiet on the Western Front</td>\n",
       "      <td>NR</td>\n",
       "      <td>Drama</td>\n",
       "      <td>Delbert Mann</td>\n",
       "      <td>Paul Monash</td>\n",
       "      <td>Richard Thomas, Ernest Borgnine, Ian Holm, Don...</td>\n",
       "      <td>NaN</td>\n",
       "      <td>16/04/2018</td>\n",
       "      <td>156.0</td>\n",
       "      <td>Unknown</td>\n",
       "      <td>Fresh</td>\n",
       "      <td>100.0</td>\n",
       "      <td>5.0</td>\n",
       "      <td>Upright</td>\n",
       "      <td>69.0</td>\n",
       "      <td>7588.0</td>\n",
       "      <td>0</td>\n",
       "      <td>5</td>\n",
       "      <td>0</td>\n",
       "    </tr>\n",
       "    <tr>\n",
       "      <th>90</th>\n",
       "      <td>Alexandra</td>\n",
       "      <td>NR</td>\n",
       "      <td>Drama</td>\n",
       "      <td>Aleksandr Sokurov</td>\n",
       "      <td>Aleksandr Sokurov</td>\n",
       "      <td>Galina Vishnevskaya, Vasily Shetvtsov, Vasily ...</td>\n",
       "      <td>25/05/2007</td>\n",
       "      <td>11/02/2015</td>\n",
       "      <td>95.0</td>\n",
       "      <td>The Cinema Guild</td>\n",
       "      <td>Certified-Fresh</td>\n",
       "      <td>88.0</td>\n",
       "      <td>59.0</td>\n",
       "      <td>Upright</td>\n",
       "      <td>69.0</td>\n",
       "      <td>1333.0</td>\n",
       "      <td>24</td>\n",
       "      <td>52</td>\n",
       "      <td>7</td>\n",
       "    </tr>\n",
       "    <tr>\n",
       "      <th>...</th>\n",
       "      <td>...</td>\n",
       "      <td>...</td>\n",
       "      <td>...</td>\n",
       "      <td>...</td>\n",
       "      <td>...</td>\n",
       "      <td>...</td>\n",
       "      <td>...</td>\n",
       "      <td>...</td>\n",
       "      <td>...</td>\n",
       "      <td>...</td>\n",
       "      <td>...</td>\n",
       "      <td>...</td>\n",
       "      <td>...</td>\n",
       "      <td>...</td>\n",
       "      <td>...</td>\n",
       "      <td>...</td>\n",
       "      <td>...</td>\n",
       "      <td>...</td>\n",
       "      <td>...</td>\n",
       "    </tr>\n",
       "    <tr>\n",
       "      <th>17655</th>\n",
       "      <td>Your Son (Tu Hijo)</td>\n",
       "      <td>NR</td>\n",
       "      <td>Drama</td>\n",
       "      <td>Miguel Ángel Vivas</td>\n",
       "      <td>Alberto Marini</td>\n",
       "      <td>José Coronado, Ana Wagener, Asia Ortega, Pol M...</td>\n",
       "      <td>NaN</td>\n",
       "      <td>01/03/2019</td>\n",
       "      <td>103.0</td>\n",
       "      <td>Netflix</td>\n",
       "      <td>Fresh</td>\n",
       "      <td>100.0</td>\n",
       "      <td>5.0</td>\n",
       "      <td>Upright</td>\n",
       "      <td>60.0</td>\n",
       "      <td>35.0</td>\n",
       "      <td>0</td>\n",
       "      <td>5</td>\n",
       "      <td>0</td>\n",
       "    </tr>\n",
       "    <tr>\n",
       "      <th>17657</th>\n",
       "      <td>You're Not You</td>\n",
       "      <td>R</td>\n",
       "      <td>Drama</td>\n",
       "      <td>George C. Wolfe</td>\n",
       "      <td>Jordan Roberts, Shana Feste</td>\n",
       "      <td>Hilary Swank, Emmy Rossum, Josh Duhamel, Marci...</td>\n",
       "      <td>10/10/2014</td>\n",
       "      <td>21/06/2019</td>\n",
       "      <td>102.0</td>\n",
       "      <td>Entertainment One Films</td>\n",
       "      <td>Rotten</td>\n",
       "      <td>48.0</td>\n",
       "      <td>23.0</td>\n",
       "      <td>Upright</td>\n",
       "      <td>70.0</td>\n",
       "      <td>1636.0</td>\n",
       "      <td>10</td>\n",
       "      <td>11</td>\n",
       "      <td>12</td>\n",
       "    </tr>\n",
       "    <tr>\n",
       "      <th>17674</th>\n",
       "      <td>Zandalee</td>\n",
       "      <td>R</td>\n",
       "      <td>Drama</td>\n",
       "      <td>Sam Pillsbury</td>\n",
       "      <td>Mari Kornhauser</td>\n",
       "      <td>Nicolas Cage, Judge Reinhold, Erika Anderson, ...</td>\n",
       "      <td>09/05/1991</td>\n",
       "      <td>18/09/2015</td>\n",
       "      <td>94.0</td>\n",
       "      <td>Live Home Video</td>\n",
       "      <td>Rotten</td>\n",
       "      <td>33.0</td>\n",
       "      <td>6.0</td>\n",
       "      <td>Spilled</td>\n",
       "      <td>29.0</td>\n",
       "      <td>1178.0</td>\n",
       "      <td>1</td>\n",
       "      <td>2</td>\n",
       "      <td>4</td>\n",
       "    </tr>\n",
       "    <tr>\n",
       "      <th>17684</th>\n",
       "      <td>Zero Dark Thirty</td>\n",
       "      <td>R</td>\n",
       "      <td>Drama</td>\n",
       "      <td>Kathryn Bigelow</td>\n",
       "      <td>Mark Boal</td>\n",
       "      <td>Jessica Chastain, Jason Clarke, Joel Edgerton,...</td>\n",
       "      <td>11/01/2013</td>\n",
       "      <td>07/09/2014</td>\n",
       "      <td>157.0</td>\n",
       "      <td>Columbia Pictures</td>\n",
       "      <td>Certified-Fresh</td>\n",
       "      <td>91.0</td>\n",
       "      <td>298.0</td>\n",
       "      <td>Upright</td>\n",
       "      <td>80.0</td>\n",
       "      <td>197142.0</td>\n",
       "      <td>58</td>\n",
       "      <td>272</td>\n",
       "      <td>26</td>\n",
       "    </tr>\n",
       "    <tr>\n",
       "      <th>17687</th>\n",
       "      <td>Zero Motivation</td>\n",
       "      <td>NR</td>\n",
       "      <td>Drama</td>\n",
       "      <td>Talya Lavie</td>\n",
       "      <td>Talya Lavie</td>\n",
       "      <td>Dana Ivgy, Nelly Tagar, Shani Klein, Heli Twit...</td>\n",
       "      <td>03/12/2014</td>\n",
       "      <td>20/03/2017</td>\n",
       "      <td>100.0</td>\n",
       "      <td>Zeitgeist Films</td>\n",
       "      <td>Certified-Fresh</td>\n",
       "      <td>88.0</td>\n",
       "      <td>49.0</td>\n",
       "      <td>Upright</td>\n",
       "      <td>77.0</td>\n",
       "      <td>1460.0</td>\n",
       "      <td>16</td>\n",
       "      <td>44</td>\n",
       "      <td>6</td>\n",
       "    </tr>\n",
       "  </tbody>\n",
       "</table>\n",
       "<p>1887 rows × 19 columns</p>\n",
       "</div>"
      ],
      "text/plain": [
       "                          movie_title content_rating genres  \\\n",
       "12                      The Lost City              R  Drama   \n",
       "13                 The Breaking Point             NR  Drama   \n",
       "55                              Dirty              R  Drama   \n",
       "58     All Quiet on the Western Front             NR  Drama   \n",
       "90                          Alexandra             NR  Drama   \n",
       "...                               ...            ...    ...   \n",
       "17655              Your Son (Tu Hijo)             NR  Drama   \n",
       "17657                  You're Not You              R  Drama   \n",
       "17674                        Zandalee              R  Drama   \n",
       "17684                Zero Dark Thirty              R  Drama   \n",
       "17687                 Zero Motivation             NR  Drama   \n",
       "\n",
       "                directors                                        authors  \\\n",
       "12            Andy Garcia  G. Cabrera Infante, Guillermo Cabrera Infante   \n",
       "13         Michael Curtiz                              Ranald MacDougall   \n",
       "55           Chris Fisher           Chris Fisher, Gil Reavill, Eric Saks   \n",
       "58           Delbert Mann                                    Paul Monash   \n",
       "90      Aleksandr Sokurov                              Aleksandr Sokurov   \n",
       "...                   ...                                            ...   \n",
       "17655  Miguel Ángel Vivas                                 Alberto Marini   \n",
       "17657     George C. Wolfe                    Jordan Roberts, Shana Feste   \n",
       "17674       Sam Pillsbury                                Mari Kornhauser   \n",
       "17684     Kathryn Bigelow                                      Mark Boal   \n",
       "17687         Talya Lavie                                    Talya Lavie   \n",
       "\n",
       "                                                  actors  \\\n",
       "12     Andy Garcia, Dustin Hoffman, Bill Murray, Inés...   \n",
       "13     John Garfield, Patricia Neal, Phyllis Thaxter,...   \n",
       "55     Cuba Gooding Jr., Wyclef Jean, Keith David, Cl...   \n",
       "58     Richard Thomas, Ernest Borgnine, Ian Holm, Don...   \n",
       "90     Galina Vishnevskaya, Vasily Shetvtsov, Vasily ...   \n",
       "...                                                  ...   \n",
       "17655  José Coronado, Ana Wagener, Asia Ortega, Pol M...   \n",
       "17657  Hilary Swank, Emmy Rossum, Josh Duhamel, Marci...   \n",
       "17674  Nicolas Cage, Judge Reinhold, Erika Anderson, ...   \n",
       "17684  Jessica Chastain, Jason Clarke, Joel Edgerton,...   \n",
       "17687  Dana Ivgy, Nelly Tagar, Shani Klein, Heli Twit...   \n",
       "\n",
       "      original_release_date streaming_release_date  runtime  \\\n",
       "12               03/09/2005             23/03/2017    143.0   \n",
       "13               06/10/1950             25/08/2016     97.0   \n",
       "55               24/02/2006             16/04/2012     97.0   \n",
       "58                      NaN             16/04/2018    156.0   \n",
       "90               25/05/2007             11/02/2015     95.0   \n",
       "...                     ...                    ...      ...   \n",
       "17655                   NaN             01/03/2019    103.0   \n",
       "17657            10/10/2014             21/06/2019    102.0   \n",
       "17674            09/05/1991             18/09/2015     94.0   \n",
       "17684            11/01/2013             07/09/2014    157.0   \n",
       "17687            03/12/2014             20/03/2017    100.0   \n",
       "\n",
       "            production_company tomatometer_status  tomatometer_rating  \\\n",
       "12           Magnolia Pictures             Rotten                25.0   \n",
       "13           Warner Home Video              Fresh               100.0   \n",
       "55                    SNP Inc.             Rotten                21.0   \n",
       "58                     Unknown              Fresh               100.0   \n",
       "90            The Cinema Guild    Certified-Fresh                88.0   \n",
       "...                        ...                ...                 ...   \n",
       "17655                  Netflix              Fresh               100.0   \n",
       "17657  Entertainment One Films             Rotten                48.0   \n",
       "17674          Live Home Video             Rotten                33.0   \n",
       "17684        Columbia Pictures    Certified-Fresh                91.0   \n",
       "17687          Zeitgeist Films    Certified-Fresh                88.0   \n",
       "\n",
       "       tomatometer_count audience_status  audience_rating  audience_count  \\\n",
       "12                  83.0         Upright             64.0         25944.0   \n",
       "13                  10.0         Upright             86.0           335.0   \n",
       "55                  28.0         Spilled             42.0          7326.0   \n",
       "58                   5.0         Upright             69.0          7588.0   \n",
       "90                  59.0         Upright             69.0          1333.0   \n",
       "...                  ...             ...              ...             ...   \n",
       "17655                5.0         Upright             60.0            35.0   \n",
       "17657               23.0         Upright             70.0          1636.0   \n",
       "17674                6.0         Spilled             29.0          1178.0   \n",
       "17684              298.0         Upright             80.0        197142.0   \n",
       "17687               49.0         Upright             77.0          1460.0   \n",
       "\n",
       "       tomatometer_top_critics_count  tomatometer_fresh_critics_count  \\\n",
       "12                                37                               21   \n",
       "13                                 1                               10   \n",
       "55                                10                                6   \n",
       "58                                 0                                5   \n",
       "90                                24                               52   \n",
       "...                              ...                              ...   \n",
       "17655                              0                                5   \n",
       "17657                             10                               11   \n",
       "17674                              1                                2   \n",
       "17684                             58                              272   \n",
       "17687                             16                               44   \n",
       "\n",
       "       tomatometer_rotten_critics_count  \n",
       "12                                   62  \n",
       "13                                    0  \n",
       "55                                   22  \n",
       "58                                    0  \n",
       "90                                    7  \n",
       "...                                 ...  \n",
       "17655                                 0  \n",
       "17657                                12  \n",
       "17674                                 4  \n",
       "17684                                26  \n",
       "17687                                 6  \n",
       "\n",
       "[1887 rows x 19 columns]"
      ]
     },
     "execution_count": 140,
     "metadata": {},
     "output_type": "execute_result"
    }
   ],
=======
   "execution_count": null,
   "metadata": {},
   "outputs": [],
>>>>>>> Stashed changes
   "source": [
    "Dr"
   ]
  },
  {
   "cell_type": "code",
   "execution_count": 161,
   "metadata": {},
   "outputs": [
    {
     "data": {
      "image/png": "iVBORw0KGgoAAAANSUhEUgAAAXQAAAEDCAYAAAAlRP8qAAAAOXRFWHRTb2Z0d2FyZQBNYXRwbG90bGliIHZlcnNpb24zLjUuMSwgaHR0cHM6Ly9tYXRwbG90bGliLm9yZy/YYfK9AAAACXBIWXMAAAsTAAALEwEAmpwYAABu3UlEQVR4nO2dd3iT1fuH75N00Q20lLJn2XtvZAgiCAoqQ8WFiop7ft36c++BA7eoiBNREWTvvffeq2V1AF3J+f3xJE3SpgPo7rmvq1fynvfkzXlLeXLyjM+jtNYYDAaDoeRjKeoFGAwGgyF/MAbdYDAYSgnGoBsMBkMpwRh0g8FgKCUYg24wGAylBGPQDQaDoZRQpAZdKfWVUipWKbUpH651mVJqndtPslJqSD4s02AwGEoEqijz0JVS3YEk4DutddN8vG4FYBdQTWt9Lr+uazAYDMWZIt2ha60XAKfcx5RSdZVS05VSq5VSC5VSDS/i0sOAf40xNxgMZYni6EOfAIzTWrcBHgE+vohrDAcm5euqDAaDoZjjU9QLcEcpFQx0Bn5RSjmH/R3nrgFe9PKyw1rrfm7XiAaaATMKdrUGg8FQvChWBh35xnBGa90y8wmt9e/A73m4xnXAH1rrtHxem8FgMBRripXLRWudAOxVSl0LoIQWF3iZERh3i8FgKIMUddriJGAp0EApdUgpdRswCrhNKbUe2AwMvoDr1QKqA/MLYLkGg8FQrCnStEWDwWAw5B/FyuViMBgMhounyIKiERERulatWkX19gaDwVAiWb169QmtdaS3c0Vm0GvVqsWqVauK6u0NBoOhRKKU2p/dOeNyMRgMhlKCMegGg8FQSjAG3WAwGEoJxqAbDAZDKcEYdIPBYCgl5GrQc2tC4SjP/0AptUsptUEp1Tr/l2kwGAyG3MjLDv0boH8O568A6jt+7gA+ufRlGQwGg+FCyTUPXWu9wKGRkh2DkY5DGlimlApXSkVrrY/m1yLLOlPWHuayBpUIC/TNds4faw/Rp1EUIQG+7D92gl3TP6FZz6s54VeD+PNpdKpbEYD1C6eS7lee1u274pQonrL2MLa9ixm6YQy6+6McOn0eds+l+rnNBXdTYTUg/oDruGI9SD0HrUbBoZWQFAtp56DZtbBjBoRVgyi3plaHV8HxLVCnJ4TX8Ly2tsHGX+H6iRCdSdstPQX2LYIzB6DNzeCSaQatYdNvEN0SIuq5xg8sh9gtUC4cmlwN26ZBpYZQoU7+/C6cxB+GXTOhcnOoWky/6GoNW/6E5DPy+zMUK/KjsKgqcNDt+JBjLItBV0rdgeziqVGjRubTBi/Y7JrHft3A8PbVeXGw9y59yWk2Hpy8HoB9r11J4uFt9N73FnzzFqdCOvJlfG8aP/4AYUF+sOBtKqce5LaN3/L4wJY0qBzCX+uP8OW+MQCoBW9SvTBuzN2YA5zcJY8L3vQcdx4f2wDbpwFOA+zQINrwU/bvMeUeGLsIEo/Bzv/kg2H3XEg7C76B0HQoBITK3LRk+Ot+uV7XB6HP8zJ+dAN8dbk8D6sOoVXhpxHQ6xno/shF3LgbWsPRdbB9utzbsQ0y3u724mfQtYbds2H2S7Lmau2g9WjPD0RDkVOolaJa6wlIRyLatm1rVMHygNWi6Ns4it9WH+KRfg0IDci6Sw/wtWY811oTXqMJKdqH1KAq1EzZwReWZZwcPwl6jeNYaHNanFxH00M/ccX7CQxvX4Mz59OYZmvPAOsKr2tI01ZW6xiGpz5DeRJYG3BXgd0vne6FpR+5joOjIOm4PA+rDrfNhNBoGN8RAitAw4GwaxbsXwzpyZ7XOr4RPushBgjA4gv2NPAPhZE/izHfNRtSk2DxB7LrB9l5xx+Gea/C2omu63V/FP5+SJ7X7n5x95eWDHsXiAHfMQMSj4CyQPUOENkQ4raJQS9OHFwBs16A/Yvkm9WQT6D59caYF0PyI8vlMHhs6qo5xgz5xIj2NTibauPXVYeyndMgKgSAfzYeJapCGBt1HRKs4Ry+ZRUPpd5F7DkNfz9Iv5PfAfAQ33Nnu/L8vPIgq/efZo69VbbX9lU2Gqn91IkI5DSh+XtzmXE35uAy5t0fg/On4YdrITkBkuPF8Ha6G278HcYu8X49pzGv3w+0HQIrwui/oGYn2DwFvr8Gfr5JXCqtbpC5a7+HD1rBhsmu60Q1g5RE+ZAIioSqbfJ+T0mxsGYi/DQK3qgNP14LG3+Bam1hyKfwyC4YORkSjkKjQVCpUd6vXZAc2wQ/Docv+8KJHXDFmzBuFbQcCRZr7q83FDr5sUOfCtyrlPoJ6ADEG/95/tK5bkWqVyjHd0v3cXPnWlgsWXdG71zfgis/WMS4SWvZ++qVbPdpSMukf7FGBLEgsC+/J3VjfJcU2h6bTNRh6c73+IYrGDV8Cl1/PMsWe02P68X5VCYy/VjGcZg6xysJT/KpZWDB3izIrnvb355je+eLP33tRPj5RjgbJ0b4067iDjjuNQkLgitD0jHY6ehImJYMW/+Cbf/Agjdc8278A368Tp4fXA4tRkKDK+S9AHo9Bb85ds71+2U1aHvmgW8QVG8n64nbJrvw7f/CoVWAhtBq0HIUNOgPtbqBj7/r9QvegpR46HaJbhx3bGnywZccD+fPiN87+YxrLDkBmgzJGmc4tQfmviJxCP9QcS91HAt+Qfm3NkOBkKtBdzSh6AlEKKUOAc8BvgBa60+BacAAYBdwDriloBZbVrFYFMPb1eDNGduZvyOOyxpWyjKnSZUwQGwJwKHgZvgkTIVjG+lQuwL/bDzK/20K57tbv2Tehzdwvc88AKr9PoT54Q2ZmOi540z0qeBh0AE6WrbS0W9r/t9gZjIbcxAja7dBi+GygwY4vNpzTteHoM1oeN/NQPkGgE85SD8PLW+Akzth4Vuer1NW+Kqf63jsUohqDJ/3luPQarJbT02S4wZXeL5ea/jlFvkG0GK4GPEzDv2kKq3gsv9BTH+o3My7myIlCZaOh/qXQ5WWntdNSfQ0wuedz89kOvYylnY263tlxmJ1GfSEIzD/DfnQtPhC1wegy/1Qrnzu1zEUC4qswUXbtm21UVvMO7EJyXR6bQ5d60Xw7a3tvc7p8eZc9p88x5ej2zJr5QZe3TMMGg9mrv9l3LJUPgReu6YZE6dO5x+fRzNed9yvBlGpB7xe064VFlUCwh3RLcWgOgOLmXlom/jed80WN8uF0OsZmPMSWHzE+D++V3ar50/Dzlmy0z+xQ+b6BEjmTUx/+SlX3mVwV38DPn5QqYmbkT4DSz6U1/oGQkR9NwMdL/eUGz4BWeMHzYdDxboQEA4BYfJTzvk8HGY+C1umwH1r5X0XvQMrPpcPzTY3S8A3pPKF/Z6cnD8t2UIV6kLdyy7uGoZsUUqt1lq39XrOGPSSwx3freK/LceZ/XAP6kYGZzm/5sBprvl4CYF+VkZ1qMHoFVdRTcWhLb70Pv8qe3QV6kQG4WdRfHX2HqqkS3LSe3UmsP/gAd5N+7/CvqWSg7JKOiRIAPPgcu/zopqBLdVlsDMb2pyo3sFlcJ0G2D8U0OIeid0K2//J/Tp+wXDrDKjsPSuKk7vho3bQYgSUrykfKCmJEui87EkoXyvva3aitfxOVn8Dm/+Q++4wFq547cKvZciRnAx6kemhGy6cEe1r8N+W40xcup/nr2qS5XzrGvLV+FyqjSrh5Vhlr081axzKnsaL/t9zp/0JGpycQ5I1lJl+7RnNQVAWBh3/lHF6bGHfTvEhvIbkpeeE05hD9sYcJIvmxHaIaCAB3SqtJGPmbKycH/gu1Ozq2i2v/hb+fVR868oC+5fAqd0yN7IRxOXBxeUXAjU6Qs3OUKurfFvx8ct+/uwX5X7WOVxXDQdCr6cvLhh77pS4o1Z/I3ED53oGvgqtb77w6xkuCWPQSxDdYyKpEhbAr6sP8fDlMYR4SWGsFOJPbGIKe+LOouz1GWKV7I+urGOg/3pG+0yjiu0I486PY7QfUKkJdY+v4SrLrEK+m2JEbsbcG0GR0OQaqNfbFUwNruwyaie2y+ORtZ6vm/2iuCQys+6HrGO5GfM+z0PtHlKIZM3Df2VbOsx6TlwtIKmXvZ+TbJsLQWs4sEyM+JYpnt9CYvrDle9AWNULu6YhXzAGvQRhtSiubVud92fv5LfVh7i5S+0sc94b3pKRny9n4rL9NFExMujYgd6T8gW2CvUJP7OTQZalpARXwz+oIif9qtI7NZu0P4N3zsbBis/kx0nSseznO/FmzC+Um6ZCnR55n2+3w9Y/Yc7LEhQGGPaVFFZdCOdOwfqfxJCf2A5Wf7ClyLnAinDFG3JNk59eZBi1xRLGde2qY1Hw3dL92O1Z4x+d60ZkPN+ma5BmCYDyYvhrWOKofUYM93U+80n0rQj7FrO48o3U9yj2NRQIne6Fh7bCg5uhbu+c5zYaJDvdG/+QFEeARlfBY3vzbsy1lqDt5z3hl5tdxrzbI3k35lrDvsXw2xh4uyHMeBL8QyRwGhIlc5pdB/eshGbDjDEvYswOvYRRNbwcPWIimbs9jgU74+jZIGsKY2iADwnJ6diwciSoMTVTEtDRLVBH12fMsWtFxGk5jkg5yEkdSkWVUGj3USZZ9XXWwikn0S2kQrRmFymYUgq2TJV0SFsqXPUhtLox7wbzwDJx7+xfLN/Qhnwq7pH9S6Hzvbm//twpWD/JsRvfIcHZ1jdJLcCWKbDsE5FBGPkLxFyex1+AoaAxBr0EMrx9DeZuj+PbJfu8GvT3R7Tilq9XArDNtzE1j/2E6vkkuBn0mfY29LNKllHn4z+wiTpUxBj0AsVbXvj9GyTTxJ3UszD9CVjznQQ4h37pKRaWE8c2it7KzhkQVAkGvCWaK8c3wY7pcNlT2eeVay0fAKu/EQEuW6potgz+WAqQDq6A32+XmEO728X/HlDAlcOGC8IY9BJIr4aViAzxZ+72OPaeOEvtCM8Kvp4xkRnPV9vr0c+eLjnJbsTqcI/jpmpPga3XkAPvN5ec8dY3Stri8U1SkXpytxT1XPZ0zhkrTk7ulurOTb9K9kzv56DDna7qzrkvQ7kK0MGLDs/Zk67d+Mmd4B8mLpXWoyX18fxpmPaYZMVUrAe3/CsZNQBp50X8LOm4PCYek1hC4nHJ++/9bH79poo36amQ4pCkSEmQNFNvjykJEpzu+UTWD/J8wBj0Eoiv1cJ1basxfu5uvlu6j+cGeaYwKqXwtSrSbJpfjlXmfwFA3HaPOTf6eMlqCawI504W4MrLMH4hYlyVRQS53NnwU1bVyFrdoPFgySDJyaAnHIH5r4tWjI+/VMt2uc9zF35guQiY9XnBtaPWWmSEV38DW6fKbrx6B+j2CTQeImmNicfEkLsHfis1lg+OpONitFPis67J4iOiak6jX9xJS3YzuvHZG2OP84me5y6k3iA4Km9ur4vAFBaVUA6cPEf3N+cS4u/D0v/1Jtjf87P5341HGfvDGgD2VnkWFRnjkJ/NniOBDahybnuOcwxFRHRLkQWoWF+qSQMrSjXmqq+kurPtLRLsdAYq3fl2EMRug/vXiQDYonddOehOIhvKDt65u/bmHvIJEGMUUjnTY7S8b3BlGStXASyFkG+htWjmZ+x+E3PfIWc+n5IoH2a54RcscYSAUHn0D3E9DwiVbzUBofKhemyjxCpit5Ah81y5uUhGxPSD6FaX9PsxhUWlkBoVA+laL4JFu07w+5pD3NSplsf5/k1dZdvnK7chcJ9jhzbruWyvaYx5PjBmjvyHXfiWuDlAMkqqtRNt9fU/Xtx1j65zKUdmJqqpNAdZ9K4YGv8QSSdMPC6qjslnZN4rVby/3i9YhLyURT44zs2GNMe5ur2g70vSYCQgLP+yWLQWbZzsDG5KYi47ZMcce3oub6QcvxM3YxwcJR+MHsY5zHNO5sec1CWTYh16+9NFbz81SfSDYvqLAY/pB6HZ/O7zGWPQSzDD21dn0a4TfLtkHzd0qOmhwqjc/uNtVA3ocG6yh6qeRpGmLfgpG4Z84rKnRFbXbvPUUQfY8DMcWZP9axsPEZdM5gKjqm1dOu3ZcXxT9mqT3uj+mOjNOHfY/g4ZiVN74e8HxKjW7AKDPvAejLXbITUPBteba8I5JyUxd50aZXEY4zCXYQ2tKhW0WQxvmPeds19I/n9b0Fp24TtmwI5/XSJxoVWh+XViyGt1A7/A/H3fPGBcLiWY1HQ7nV6dzcmzqXx3a3u6uwVDAV77dxufzt9NjDrIf/6PS+raFFdQbLL/UK5P+a2wl126iWp6YcY1v6neEc6dcHWA8ka5Cg5XSZQ8BkaI/orTt+8fBk2v9rJLTnTtjMnFblh8vBjckBx2wWFZx/2Cik9ee9p5R2OSf12NSVDyAe7ciWenppnPGHGuUswr07YyYcEeejesxJc3t/M4F38+jRYv/IfCzt6wu6HpUGz+4ViXvAvAQf/6VE/ZWRTLLlsEhMmu91JQVhj0PtTv6/Ibn9oNv96a+2sDI8TIXwwWX9GjCa6UyS2R2Thncln4lis+xvhiSTgibpQdM2DPfJFg9gsWBcmY/iJ3HJw1bbigMT70Usz17aozYcEe5myPZf/Js9Ss6EphDCsnWi8aC+cqtSLw0Eqsg94Hh0E3xryQuFRjDpJ1MvUiMyOcxrxCHWh4JYRUEZ34FZ87AndIkLVWN5E0OHMA4h2Vw/Y0OLRC2v9VrAcRQfIBEVFP/NChVQsnAFoY2O2ivbNjuvw4pZjDa0hRVUw/ET9zb0xSzDAGvYRjdeyCtBY5gGcGNnad/O8Z3vZdwwZ7XXYcT6Jl6ib5T2kom5zaA8s+FWEx/xDRY2l2HfR/DYIqes5NPSffAE7sFPfNiZ2So75ukvjPnfiUcxj6eq4MnIr15NE/pHDv72JISYI9cx1G/D9RxXT2eO3zPMRcAZENSsy3DWPQSzinzrlSrn5edZCH+sYQ5ExhTE3iautihloXgXPa6/lfzGAoQdjTxP/rtMlH1sB3gx2dnQLEVeLjL4ba2e3JN0B291GN5TglQXbw8Yfk59Ru6bWameDKnga+Yn0x/OE1i7Yn6en9joDmdNi3UNIW/cNEObPBFVCvjzQgL4EYg17CaVU9nLqRQeyOO0ticjq/rz3Mjc1DYNoj0O9V3k7sR8Tmr7jFZ0ZRL9VwIVRtI6mE7hkiuaboXQAWH3GzpKfK1zt7OqSnSMAzPVmCgOnJUnSTfj5vudqZSXJUje5b6Dlu9RMjP3g8VG2dP/eTE3YbHFrp8oc73UwV60H7O8QfXqMjWLPKUZc0jEEv4SiluKtHXR79Vfx93y7Zxw0xNVCbfoOIGAIqDeWF9aN5N30oGwLuKOLVGvJMj8clZdHpCtEazp6ACT0g4bDkhkc1zpo6uGKCy2dfsyvEH/Cu925Pl2rPzCirKy87uJIr+8QvWCpWrX4im2v1dTz383zurGpNT3H7UPDyqO3yjaCgSI6XdoM7ZkiO+PlT8iFWszP0e0UafedVH6cEYQx6KWBQiyoZBn1XbBKLT4bQtUIdWPcjHWsFs8DvPSqrU0W8SsMF4WyaUb62NKCIbgEL3hRDNXwSNByQ9TW2NNj4qwTx7lggzbanPSJGusv90OMx2a1mzgtPPpN9dWVyvHwgXEj+uHvKYlRTuP77wvFBn9wtu/Dt/8KBpfKhVa6CZKPE9JMiqXLhBb+OIsQY9BKAza6xWrL/DxHga2Vcr3p8OEdyj79Zso+u9frAiglEpx1gra7LfHsLelnXUlWdhHZjYOXnhbV8Q2ZajIRGA+Gnka6xkCpZNV4ATu+Vn42/uMYWvSM50dXayk94TTGY6yfJ3EHvwy+jRaOlcnMY9YtHURn+wRdfuZhR4elN8yRefOsrvpAd8flTElwsKGxpIhPszEpx5t5HNoLO48SVUq1d0frrCxmTh17MSUhO48oPFjK0dTVu61rba9s5gOMJyXR4ZTYg/7dXDLMR+deNAHyd3o/vw+/CfnIPc/0fzvLaBbZmtLHsIEilFNyNGIRy5WHkz/BlX9fYMyfEbfFhG9FaGfAmHN/sqADdnHsOuX8YXDNBduPxB8VdkpYsDZ873Vs4vuHzp2Hpx7D8UzHuDQeK2yi6ef6+z7lTsHOmGPBds+Vbg9VPUi5j+os2+8U0uS5BmDz0Esy5FBuNKofy3qydfLNkH3d0r8PNnWsR6Of5TxcVGsDljaP4b8txtIavD1flMasf2FK5xWcGDcOqMuKE9y45rS076ZXyNssDCkYBzuDG+dOexvypY2JwT++XHebl/wetRrnOL3xbGlVENpLxoxtg48+e10yJh0nXu46T4+HGKVLeX9CujnOnYNnHsPwzMeSNBokhr9wsf66vtSiF7nBUaB5cLi6foErQeJAY8TqXueQLyjhmh15C2Hgonndmbmfu9jgqBvkxtmddbuhYkwBf19fJdQfPMGT8YkC6Fq2tNR7rvvkZ5+fbmtPDusHr9ZfZG9HRkocO84b8p/lwEdPa/AeMW+PSrl/zHUwdJ12CujwgLpUNP0uudEAYVGkteuVLP5bCo8z4h0FUEwmeRjURf3alRvmTH37uFCwdL4Y8NVHa4/V4XNZzqaSnSKON7Q5Xypn9Ml65uWMX3l+qV0tLQdMFYkr/SxGr95/mnZnbWbzrJFGh/txzWT2ub1cdfx8x7DFP/0tqugStfm+xitbb3+G0Cqe8PlOEqzbkmfCaYhjtafDX/TJWqbGk2ll8xJi1GCGBvlO74c97XeJdV0+ABv0hdqvLXXN8izy6FwOF1xTj7m7oK9TJm6/53Clpo7d8glyz8WBZb1ST3F+bE14VCwPkW0ZMP8lKCat6ae9RSjAGvRSydPdJ3pm5nZX7TlM1vBzjetVjaJtq/LvpGPdNWgvA5REnmZA0rohXasgX+r0qSn5BEZI7vugdWPCWGPn081C7B4ye6v21WkumSuwWT0N/cqcrY8UnQDTRMxv6IEfT8bMnxZCvmCAt8poMEdXGqMbe3zM3PBQLpzsUC7UEh2P6SYFPESkWFndKnUE/m5LuqoYsw2itWbjzBG/P3MH6g2eoWTGQe3rW47HfnG4Vze6g27HazstRUCTqbFzG65MDIglIjvNyZUOuBEd5z+MuSMKqS7BxyxRIPCqumOAoMbS3zYTq7S/semnnxT8du8UtCLtFXDpOlNXTnVOxnvQ4rdLywtfvVCx0FvgkHJbxDMXC/oWmWFiSKVUGfeKy/Xw6bzdT7ulCZEjxFckpDL5buo9n/9zMG0ObUyHIj3dm7mDL0YSM8z6ksyvgpozjxNuWUO6rnvhoqfrTyoLKLafYkL/U7S3aIOdOimvkmPeYRp7oPA6WfAj1+sINv+bfGpNixfBOGeu9QlRZodvD0Oup3K+VcMSxC58Be+ZlVSys19d7lyVDtpSqLJfWNcI5eTaFe35Yw/e3d8DPp2wGRgBCHSmMzh35rId6sPN4Is/8uYkTSSm85PO1x/wzsQfx7fkkPnNfAEBpO3E6lEBSTMpiYVGzs6Quntwlu+IcUeSoO77kQ3ncNRN+Hg1NrxGfc0DYxa/v7AmHa+ULyfNuOgy6Pyo781N7xMgfXpW9bKzdDkfXigHf/m+JVCwsyZS4HTrAn+sOc/9P67ipU01eHJwPUfUSzMFT5+j2xtyM46ZVQ/npjk689+J9PO37A9+l92WkdTY+ys6xWkOofNNX8KKn8NAsWyu6WTZhxYaPMjv2QsOZO/1fHna6IK3srvlCKjs3/SZ5594IrwFtb5PAaaVGeXNhJMXBkg9g5RfiGmnmMOSRDVxzlnwka+1wlyg0Oq+bkiS77x3/ZlUsjOkn9xjZ0LhS8olS5XJx8n9/b+GLRXt5Y1hzrmtbPR9XVjL5Y+0hHpy8HoA+ltVM8HuH6bZ23JN2Hz/7vUg7yw7Oaz82XL+Cratmc/MeV4HRFFtnhliXcFRXINpIBBRPhnwi/T6tvhIInf+6pDHeOEX0UXZMh9XfeH9t65tEBrZ296z52klxsOR9WPmlXMe5I4+M8Zy38Vf47TbJahn2tags7vxPduGZFQtj+otiYWZJXkO+cMkGXSnVH3gfsAJfaK1fy3S+BvAtEO6Y84TWOscW85dq0NNtdkZ/vYKV+07zy52daFE9/KKvVVpIs9l55cvJPHL4fnbrKlyX+izJ+DPO+jsP+4qP9bG0MWyIGMT0+KuyvH67vRoNLIcKe9mGwqRqW3HNRLeE7dNg1VdiyJtdK4Y8on7W1+yZDxOvlh12+ztFP9xdsdDZgq1Gp1KhWFjcuSSDrpSyAjuAvsAhYCUwQmu9xW3OBGCt1voTpVRjYJrWulZO182PtMVTZ1MZ9OEibHbNX+O6lvkgKYnH4PNepNvsdD75NLGUB6C52s1U/2cAOBbeioFJT/Nayv/Rx7rW4+U77VWpbzlc6Msu9TS4UsrRy4XDvNe8FwFdLP1fl5z11LMw71XXuH8oDPtKqka3/iWZMdle4zVoc7NoobuTHA+LP4CFb7nGLD5iuJ1ZKaVQsbC4c6lB0fbALq31HsfFfgIGA1vc5mgg1PE8DPCiMpT/VAjyY8JNbRj6yRITJAX452FIOIzP0C+Z12AIjZ8VDfSNujYndQgVVSKVz6xl0V01eevDxlkMen3LYc7oIMLV2aJYfemkahvY/k/+X9c3EJ46KuqHq77yNObVO8At012VlM2GQfxhmDxKWqxlZvoT8vp7VkpBj1Psau8C15yaXaHdrZKlU8oVC0syedmhDwP6a61vdxzfCHTQWt/rNica+A8oDwQBfbTWq71c6w7gDoAaNWq02b9/f77chAmSOtjyJ0y9T3ZrXe5j6OZOrD4iaWfv+X7EEOsS7FqxPWYMUW2uosJPA4t4wYaLZswcySRZ/qlnz9LIRnDXQkCJ8uKeedkHT534BkHaWQmmOrXTgytLcwqAOxfmv8iW4aLJaYeeX9vZEcA3WutqwABgolIqy7W11hO01m211m0jIyPz6a1hcMuqjOlWm++W7ufnVQfz7brFAZtd0+uteXy5aG/ukxsPhntXyY5s4dt8efY+elpkRzbfJvKpJwklbMev9P7BM/iZqMtluZyhCKndQ7RasuPzXhIYzdyAOiURJvSElyrCR209jXnFetD5Pskhd+IfJsbc2UXoijfhnhVQobaMjf7bGPMSRF5cLocB9zSSao4xd24D+gNorZcqpQKACCCWQuLx/g3ZcjSBp//YRExUCC1LSZDUoiDQ38pLf2/Bz6q4sVOtnF8QHAlXfwotR+I/5QG+SXmTabb2jE8fDECcDqexZT+NbVtZrerTxrITAD/ysb2Z4dL431EpeT+9HybfILnc5WvB6X25vzbpGCS4BbYrNRZpXYuvq0LzwBLX+UaDRP+lTk8R7bLb4JebpUHEsK+hdrf8vTdDgZKXHfpKoL5SqrZSyg8YDmQWjTgA9AZQSjUCAoBCrSn3sVr4aERrKoX6c9fE1cQmJhfm2xcYSikevlxygZ/5czO/5PUbSO3u+N6zhPcZTi/LWib7vQSADckF/sHvVdbb62ZM/zg9a9aLoQh4aJsY5WmPwfvNXYU5eTHm1dpJFaeyQrPr4Mp3JFXxp1HwcQeY9ZzLmNfsAs+ehiHjxaj7h4i+yvQnpDFGv1clG8ZQosjVoGut04F7gRnAVuBnrfVmpdSLSimnFXgYGKOUWg9MAm7WRZDgXj7Ij89ubMOZ86nc88OaDNXBkk7PmEja1ZKMlcd/28DU9XmLOfv4BbCt3h30TX2DlXb5UGhm2ZdxPsot5/wIFdlor5VvazZcJO80hA9awYrPvJ+//P8gKBJ8ysG130KEW774oZUiw6ttkpL4z0OSm16pEQx8Fx7YKJ2LQqJh5OSs8rOL3xfxrU73Qqe7C+wWDQVHiS0syonSGCRdsfcU1322FACrRfHxqNb0a1I519f9tOIAT/y+EdA86zORW32me513SEdwVFegnWVHfi7bkJnAiNw7EGVH5eaijaJtYqA3T8k5HbFubylIcmqlrPxCMqGGfilxFnfWT4Y/7nBVo5ZRrfGSQKmsFM2Nl//ZwucLS1cl6eivVrB090lqVgxk38mzfH5TW3o2yEZTw8HR+PN0enUOIGJdO/xHY1FF829uyIY+L4iM7ewXXGP+odIBKK84FQtrdRNZ3FVfSYqib6AY78aD4ddb5UNh9F+eZfi758AP10p++Q2/GZ2VYk6pEufKK6UxSPrI5Q0Y9NEiutaPwM/Hwp0TV/P1Le3oXDci29dEh7myV9Lx4T97W5pa9lJNXeQu0XDxVO8IcVs9M1MCK4pv20mDK6H3M6J4mHBEhLc2/ZbzddvcLCX71dqBbwDU7CTl/ofXiGHf8It0PwKRvU0779IZP7oeJt8IEQ1g+A/GmJdwSu0OHeD02VQGfbSIdJtm6rguVAoJKND3KwzGfr+aBTvi+PPeroz9fjWHz5xn4m3taVOzQravueO7Vfy3RbS7R1hn86rvlxzT5amsTmeZ2yb5E1YHjC2w9RvyAb9gKQACyTs/sV12+D4BUlRUu7v8VGklpfg7Z8EPQ12vDwiDFiNFd+XPeyQ98bb/ILRK0dyP4YIojDz0Ykn5ID8m3Ni2VAVJH+obw/k0Gz+vOsgPYzoQFRrAzV+tZOOh+GxfM6pjzYznC2ySU5yO93Zjv/s953XcUMBUay/Byuyo2laCms/HQ9cHZGzUb3DPMnhsLwyfBG1vFZ31OS9JI+rXa8HEa1zG/IkDcPM00SBf/gn8MEyadLQcJb59Q4mnVBt0gMZVQnljWAtW7jvNS39vyf0FxZz6USFc3aoa3y7Zh90OP9zegbBAX278ajnbjnn3uXas49q9HyaSnfaqRHLG61xb6f+TKHz8Q7M/FxAuwcuj66ULkTfGLoExs6WS89QeaT3XeAjU7yPny4VDwwHQ/1UYuxge3S0ZMM2vh92zXdd5rzks+zhrI+f5r8G7TWD2i5L7biixlIn/vVe1qMId3eswcdl+fl5Z8itJH+hTH7vWfDhnJ1XCy/Hj7R0J8LFywxfL2RWblGW+s4G0k8X2Jvgr74VEj6bdWSBrLlNENIBRbh2EvHX9cZJ8Rkr06/eVRs2Z6f2cqwGz1pKlYvEV450dQRHS87Pnk+JeiYiRBtKNBsKRdTDredfcxkOkrV258rDoXXi/BfxwHWyfLkVGhhJFmTDoAI/1a0DXehE8PWUTaw9k9R2XJKpXCGR4uxpMXnmQ/SfPUqNiID+M6QDAqC+Wsf9k9uJa/qQywjon2/Mf+n2Y7+stc5zYLu4MJ+leitwq1oPLX5asklpdpYrz1B7POUGR0MHtA3bzH5KR0uvpvPm7Zz0vuj7Xfw8troerPpIPDpB89ObXw8HlsO1vWTMAGnbOgEnXw/st5dtAYiH3TjVcNGXGoPtYLXw4ohWVQv0Z+/2aEl9JOq5XPXysivdmSel+3chgvr+9AynpdkZ+vpwjZ85nzJ27XRQYQjjHd36vZbs7B6hiGlwUPI/slB183Db48XrJAa/RSc75h0KPJ+R51wfBL0ieJ8fD9CdFx7z9mNzf48ByWPc9dLrH1XVo4Vuw+mu57p0LRBLgoa2i/3PlO9DoKsm6cRJ/QPzx7zYWOYC9C+RbgqHYUmYMOpSuIGml0ABGd67FlHWH2XE8EYCGlUOZeGsHEs6nMfLzZcQmyIdWk+hQKhLPJL//o7XayX2p9zLPIdZlKGQ63i355h+2gQ0/S6u4IR/D0Q2icHjLNDGcIdES5HQy5/8kgDnwXbB4D2hnYLfBtIchpAp0f0zG1v4g12g+XNw4TpSSphbtboPrvoVHdsFdi0UjvcEAEe+yp8u3g28HwUftYOnHWUXBDMWCMmXQoXQFSe/qXpdgPx/e/m97xlizamF8c2s7YhNTGPXFck4mpVDJHsffwS9TTx1mTNpDTLV3ZruuVoQrLwP0/J/38WUfS154+zFw/3rJGZ8yVqo5b58p+ecHlogiorPhxOE1sOJzeU3VHBQYnaz6Co5thP6vSMu5nTNh6jiocxlc9WHOvT0tFgmadhwLIybB43thzFwpfqrbGxIOw4wn4Z9cJHkNRUKpzkPPiVembWXCgj28MbQ517UruZWkH8zeyTszd/DnPV082vAt3X2Sm79eQY8Kp/lUv4Ql8QiPpY0hitP0ta6muSUPcryGAiHp+t8JbtQbln8G/z4O1dvDiJ8kMPlFbzHq41ZLkY/dBp9fJn7se1dIkDPHi8fJ7r9qK+k3emQtfDMQKtaV3b9/yKUtPj1VrhkaLVk3hkKnTFaK5sZj/Rqw5UgCT0/ZRP2oYFrVKF/US7oobu1am2+W7OOt/7Yz8bYOGeOd6lbkxyv9qT39MSxKXDJv+H5eVMs0uJE0+Q6Cu4wSMayGA2HoF7Ib3/4vHF4tu2hnxeaKzyWlcdjXuRtzkKrTtHOia356L/x4nTRrHvXrpRtzAB8/qNEh93mGIqHMuVycOIOkUWH+3PV9yZPbPZGUwoZDZ9gTl0TXehEs3HmCCQt2s+HQGTYcOsPuFdNoOecGrAHB3JN6HwBHdQXuTH0g4ydO55AfbSgQfkrvid3qL8a87a1w3XdizO12mPsylK8NLUbI5IQj4veu2xuaXJ37xQ8sg3U/SCC0XHkpKrKnww2/uwS6DKWaMrtDB4fc7g1tueaTxdz9/Rp+HNOxxPQkvf6zpeyO80xPfGXaNgD6Wlbxke+H7NaVuDH1SeIIJ14HEq1OcUhHslnXBkCnKSb4vQvAdFs7+ltXFu5NlEGG+8wDG1C/Hwx426VquO0v8XtfPUHK9UGyWuxpcOVbOfu9AWzp4tcOrSoG/cfrpGn46KkS9DSUCUqG9SpAnEHSVftP8+Lfm4t6OXnmo5GtubVLbaqGe7aOu8aygM/83ye5YiOOXvM7r4y+nM9Ht2dfcEsAHvb5JWPuEnuTjOfGmBcMOigbNcydM6Q6c9pjktUy5/+kIMkpa7tzpkjjdn/Ee8FRZlZ9Ccc3Qt8XRZ/l6DoY9pX45w1lhjK9Q3dyVYsqbD4cz2cL9tCsahjXtyv+wZ5G0aE8O6gxzwxsxKbDCfy94Qipi8fznO9EFqU34RPrc/RM8KNfkxBqVAyEMwNhxhJ6WdfROn0Ha3QM1SpHsedUZepYjhX17ZRa1NkcujAmHpFGFs5mFgHhsHe+6Lb887BUeHa+L/c3SYqFOS9LG7k982Dnf5Le2HBAPtyBoSRhDLqDR/s1YPORBJ6ZspmYqJASEyRVStGsaijNdnwEvhP519aO8eWfRNv8eHnaVl6etpXG0aHcUKsmIx2vecTnZ0amPU1icjqbdG3qYAx6YXCaEMqTmP2E5DMw0c1X3u3hvMnZznQEQgMrwtqJknvunsNuKDOUeZeLkxIbJLXbYdqjsOAN7C1v4IPyT3HObuXPe7qw8LHLePrKRgT6WXl6meaMDiJdW+hs3UIny2YSz8RxlXVpUd9B6cEne3nmjdfMoVXyZ0wbuk16eV77jeeEwIrSnMKdhW9nlQPIzP6lsP5HyWDZ9Bu0vAEuyyYH3lDqMQbdDWeQNP58Gnd/XwIqSW1p0jZs5efQeRyWwR/xYL9G7Dlxlt/XHKZ6hUBu71aHX8d2ZtmTfUmMak8s4RzWFXnMZzLv+n5S1HdQOhg8XrTHvWm2APR/nf+OBWO1KLpGnIV/HoTf3Mr3AyuKQuLov6R5s38ojJkDdy+TrJfssKXDNEeBz/lTULuHSOvmFkA1lFqMQc9EiQmSpp6Tbu4bf5FS7r4vgVL0bRxFi+rhvDdrBynpLrW8SqEBVG91OVXUKX619aCVZRe9rWuL8AZKMNXaeR7PeVmKbbKj5Qh2blnLl6FfEjqhPaz7UToKdX1Qzl89QYzwuh9h/2JpBF21jTR3zsk4r/wCjm+S52HVRQv9ky5i6A1lEmPQvXBViyrc2b0O3y87wOSVB4p6OVk5fwa+v8YV/Or2UMZ/fKUUj17egCPxyfy4PNPaa8tX+kM6ghNuOehG1+UCOZQpI0jn/E3O9ml3Pj59F11SF4p64v3rod8rIspVvYN0Djp3Cv57WtrUtbox9zUkHofpj7uOz8aJce/2EFhNaKysYgx6NjzWvyHd6kfwzJTNrClOcrtJsfDtQDEqw770GvzqUq8inepUZPzcXZxLddutVWpCim8obdUOrLiMUIg6VxgrL/lUaZV1TFlEjyUHrGf28ZltILtGLhUd89AqonqYeESkcJWCmc9KU+iB77hy03NiSqY2genJ0iTaKcZlKJMYg54NVovKCJKOLS5B0tP74at+cGIXjJgMTYd6naaU4pF+DTiRlMrXi/e5TlgsnIvuyPU+8yivXI0w2lh2FvDCSwnubpUhn8CTh6T12+Y/cnxZsirHl/6jaVDHkU+eehYWviNB0NrdYf8SyU7pdI+rmUVO7Jzp2YkIxNd+9Wd5+zAwlFrMv34OhAeK3G7C+fSiD5LGboOv+ouf9KYprvZj2dCmZnn6NKrEZ/N3E38uLWPct3bnjOf/s99VUKst/UQ2AN9AUn6/O9epAfo8N1aPxWJx+MNXfA5nY2V3np4Kfz8kPvAej+d8IYC0857NMwB8A6WJRbnwC78PQ6nCGPRcaBQdyhvDmhdtkPTQavi6v+hy3DwNanTM08sevrwBCcnpTFi4O2Ms6IzIA/xna8OPqd3YZK9VECsu/XzeG16sgH/KyaznfAOzDF2f/LM8SUkUHZd6feTfcdl4iNsKA950NbPIDq3h5cquY6ufPF71YdY+oYYyiTHoeWBQUQZJ98yTxgL+oXDbjAv6j9soOpRBLarw9eJ9xCWmwJkDqM1/AhCvgwDFW+nXFsy6SyvNroUnDgBeZKcf2SUqh2lZYxKVj82DRe/Bko8kxfCyp8SFNu91UVxscEXu7/2ZW556o6ukV2nHe1xyAYYyjzHoeaRIgqRb/4IfrhXd6Vtn5E3TIxMP9qlPSrqdj+fuFPEmZWGDvTYdLFsBmGdvySp7TH6vvPSy8Rd4LRtpiOOboPFgj6Evgu5wHcx6Dua/BuVrSYB12qMSVL3i9dzf99tBIt4F0O0R8aPX7AJ9X7i4+zCUSoxBzyOFHiRdMxF+vkma+d4yTRoKXAR1IoO5tk01/li+E717NkTU4y9bJ2pY4qhKHKB42+zSL51yFWDiEJjiGZf493QV4v0zNXQ+vQ8+6SwCXZf9D8Jy6B6lNXzaTQS8ABpcKR8q5cKl2tSpzGgwYAz6BVFoQdIlH8LUe6Xy78YpEFjhki53X+/6nCOAn6Mfg6PrGeE7H4COjl36UnseMisM2dP9MWm23PtZ2D3H41QddYQTPV91DdTqJkY51tH+sGqb7K+bek4UGY9tkGPfIOnlmXAErpsIwdkoORrKLMagXyCNokN581oJkr7wVz4HSbWG2S9KgUnjwTBysvSEvESqhJdjVMca/G9vM052foY6HAagk1WMSnhOglGG3Nn2t/y7hVUXPXI3HvL9ndrtr3IN1OsN5Wu6jr++QnTPUz217Uk4Am/Wkx6eTsrXgv2LxEVTPVO1qsFAHg26Uqq/Umq7UmqXUuqJbOZcp5TaopTarJT6MX+XWbwY2LwKd/aoww/LD/DTinwKktpt8PeDIsjU+iZpOZYXpb08cnfPevj7WHj+ZG/mVpSOOMOs8jX+dp9p+fY+pR271R9qZCokit0ieuS/j/E0wEA0J7B84taybdbzsPxTKQh74iC0u00aR3/cSQLgIG3o3mkEaZmMfOxmEd8ySoqGbMjVoCulrMB44AqgMTBCKdU405z6wJNAF611E+CB/F9q8eKxfhIkffbPfAiSpqfCb7dL9WCXB2DQB2Cx5ss6nUSG+HNrl9r8tf4IXwSMzhh/0edr7vWRzJd19gsPupY1LLYUqOT251/J4a7q8TgMeEueB2dq93Zih+extot7JiAUrnxbUlEtPvDdYHilKnzeyzU3ooHreXTLvHUvMpRZ8rJDbw/s0lrv0VqnAj8BgzPNGQOM11qfBtBa56DqXzpwD5LeNXE1sQkXGSRNPQs/jYDNv0OfFyRroYD+w47pXofQAB8W7z7FsJRnAbjJZ2bG+ZaWXKRaDcKqL+WxywNwx1xoPARmvyDKhxZfGLeaLzrNAiC50TXer1HOTW+/Vhe4a5E8T3VV8NLtYTix3TG/Alw/UfqPGgzZkBeDXhU46HZ8yDHmTgwQo5RarJRappTq7+1CSqk7lFKrlFKr4uLiLm7FxQhnkDQxOZ27f7iIIOn509LQYPcc2ZV3faBA1klKIuxbTNi6Cfxa6Wtm+T3Cr/4vFsx7lSU63StusWFfQXtHeqI9Daz+TN+TxmrfNgRs/V2M/O2zs79O6ln4486s4wvfdj0f9qWkrxoMOZBfQVEfoD7QExgBfK6UCs88SWs9QWvdVmvdNjIyMp/eumi56CBp4nH4ZiAcXiP+8jajc39NXkhOgH2LpIDlt9vhw7bwanX4ZgDM+B/1zq1lr47mnbSsxSi77ReXGllmGJ4pNBTs+Bu2WD382mkTh7HpQCypUQ4xr8rNYNknUtkZ3UJ2206J2/hDIumw9S/JSQfo+T+Z4ySyEdS5rIBuylCayIvO5mGguttxNceYO4eA5VrrNGCvUmoHYuDLROfhgc2rsPFwPJ/Nl56kw9vnspM6vQ++GwJJx2HUz1C3V87zsyM5QVLajqyTpsBH1sHJXWRUMYZUgSotpbqxSkuIboklJIq7n5pGus3GQ76/elyuruXoxa2jLOAbKP9u7qz9AVqNkufb/pHHqm3w3T+f6lxJQ4sjYH5mPxxZAz2ekErfyTfAvoXSZWjSCNFnqXuZfFNrd7sExee94nqfuK1SYDbwXQivjsGQHXkx6CuB+kqp2oghHw4Z7SmdTEF25l8rpSIQF0yZcsg+1q8hW44k8Oyfm4mpHELr7HqSHt8ibpb0ZLjpz7x3ZU9OgKPrXYb76DqH8XYQWlWCZs2vk8cqLbPNUx7RvgaHlnsqBL6eNpzHfX/K21rKImnnYIajtVv7OyBuu2QlVWoEVVvDdkem0OE1LC0/mHKn/Qk/KH50zp2UKt+uDwIa/ILFkGu7FIy1uw3mvSYSAFe8IVWhIIHSR3fDhskw6wX4uCP0eR7a3mZUFQ1eydWga63TlVL3AjMAK/CV1nqzUupFYJXWeqrj3OVKqS2ADXhUa+1Ftaj04gySXvXRYu6auJq/x3WlUmimHpMHV4pSnk8A3PIvRDX2frHkeDi6wWG814oBP+US2HIZ7+tzNd7e8LNaGOszlcO6IlWV/DNFqVMXcLdlnK4PiftkQg+YfCOM/ElSDQFdsS6Px1/H2yFfoZIDxI2SmgQtRoJvgPSAdQY+q3cQP/xvt8nzoV/AnrnStQhg7FKpCO1wp2id/3W/BF43/Q5XfQAR9Yvm/g3FFqW1F5GhQqBt27Z61apVRfLeBcm2YwlcPX4JjauEMmlMR/x8HDup3XPgpxvE73rjFKjg6BWZHC87b3e3iYfxrpbhLsl4DL60+MO3kyYxevtdPJc2mhd8vwUgQQeywt6APqYtXe4M+UTEtJz69G69RPdc/Q93/bSJGf5PoBpeKUVHAB3GilzuH3e6xno/J4JdIVGi1eMfAi9FyLlrPpdvW+5oLW3qZjwJacnQ72VoPwZD2UIptVpr3dbrOWPQ85+/Nxzh3h/XMrJDDV65uhlsniIBypBoyT9OPOIy4O5d3QvAeHtjx7sDiDyzgV4pb7I2wKU9ssVek4bqADYs+CpbDlcowyiLuEosPlCnp0gaOwuCej/LJ7Yh1Jx9F/3LbcFSoTacPiDa6YdWSM563FZxm8yUtFGCK8PtMyWDZXwHiNsGkQ3hnuXZr2HzH/DLzRJsdaY7GsoMORl003ywABjYvAqbDifw6fzdDGQRnTf8T4xA/AH4/XaZFFZdMh5ajoToVmLAgyIKfnHHNxMTv5iP9LWcJpR+Ka8xw1+Kfxtb9vN9em9u8Mkhxa6sMfIX+NEhXtb2VrjyHclM2jJFfs64VQqXr8W+eUsYa10BQbVFHfHKd8RIH1ohlZ43/AZV27oM+ogfxZhvmybzAMYuyX49O2bAH3dBxfrSLclgcMMY9ALi0X4N2Hwknj1rvqZNaDT+1R1Gu0or2XkXhvH2xuL3SbWU40d7PwB8cO3Ej+nyNLHsL5p1FUcGj5cMFSddHc24q7WRn97PwUsVM06nHN1Kv9jZkgyccEQMt48/rJggE+r0FHGuiW7FRmdPwtkTUlwGcPuc7KuE10+WXqLRzWHUr0X3N2QothiDXkC4gqT38EGqjb8HeAmSFjan98PGX1lT6Vrij4bQsHIgo064duOV1Wkqq2LUELuoaXatq0NQ65uypgwuetf1/JmTrFk0m16WN+XYliI+8T/vkb6hAMc2iett/yIY/LH4wjf+Aj86fOUx/eWDwhvLPoXpj8sHwohJcm2DIRMm96kACQ/0Y8JNbUhMTmfsxVSS5jdLx4NSrIgaDkCPWgGM9JmTZdqVKS8X9sqKJ8s+FlcZSBm+O4dWw9z/k+ctRoLVh4iVb3rO2TNXUgxv+F3cNedOwNap0PclyV9vOAg2/kxG3cC132Rdg9Yw9xUx5g0Hys7cGHNDNhiDXsA0rCyVpKv3n+b5/JbbvRDOnoA130Hz60nwE/GowSzMMq1V8qds1rULe3XFk1nPy2PLG0S61klKkisWAtBwAHrfIuonZaqjG/AWDHxHmlCc2Oka7zxOHt0le0b8lFWnxW6XrkbzX4dWN8K130rqo8GQDcagFwIDm1fhrh51+XH5ASbll9zuhbL8M0g/D13udwxoGq/z1HP5y9aR04QW/tqKO90z7c5n/A9O7YXKzaWmoG4vzs/IpI1z4xRXSuHGX2Gu41tPuQoilRy7DdZ+75qfuadoeqrI8a78HDrfJ42grcZDasgZY9ALiUf7NaB7TCTP/rmJ1fsL2U+dkiiBuYYDJYUOeER97zHlX1s72lh24LX5cVnHvZfr1r9hzbfywZh8RgKdB1cQeNQtzfDe1VLKD7BnvmSl1OwCQ7+UBtHb/4HJozzfI+2867lTgXPTr6LAeflLRjLXkCeMQS8krBbFB8NbEh1WjrHfr+b4xcrtXgyrvxXj0+UB0Jo2sb9xi5LilkRdjgbJ37DI3owq6hQ1VKlXPr5wjqyTx8RjMHWcpJs2HiwpizH9pJeok7sWQUQ9eX5so+i2VKwHw3+QD1TfIOkV65RtqN5RHnc5ZAIKS4HTUCoxBr0QcQZJk1LSGfv9alLSC6F4Jz1VgqE1u4ow1J/3cMWBtzJOd0gZTwp+LLM3AqCTZUvBr6mkMaGH+LOn3C076Wu+cBngvx/MmDav2l1S7ANi7L8fJgHMG34T/XPfAM8uROE15VxgRSkWSjwGXw8QuYdrv80/BU5DmcEY9EKmYeVQ3hzWgjUHzvDCX4VgPDf+LJWpzYaKTOu6H1znbp7GOSTItltXIU6H0dGyhastWYOlZZFk7es6eLEC7J4N/f4PImNg6Ucec3fbo/Hv/oAcnDslxjztvGSlhDnaB+zKVLB1xRvSM7bRVbDpN/isu3wQjPoFGl+FwXChGINeBFzZPLpwgqR2u2iFWHxh9ksiMzB8Eif9a7BWx0CtLrSoHu6YrFhmb8TV1sW86ftZwa2phLDRXpuGKd/SIc1RFISGgDBJQ1w/WTR43HiWu2hTJ0qM+KQRcHqvVIE6BdhO7xMRLj+3pt8NHH1gImLkMek4jJ4qfnmD4SIwBr2IKJQg6fZ/4ORO6aITXAnGzAX/YCqmHGCy7gt2O5dV1TRXu+lnWcEg6zIAfFQR58sXA+p0GcZTAxpRp5pbf9DkePj3MfjjDo+5/1h7Ua5uV/wsWjJTDi6Hqz+DWl1lQuo58aVru6dCYnoK7F/qyoCp1BiqZlNYZDDkAWPQi4hCCZIu+VAeGw+G22dBRD0OzPoEgPvVT/ByFA+su5Kp/s/wmd97+f/+JZigY8sZ070Ok+rM9DzhLON346mz19MzJgL+fVw6D/V/FZo6yvu1hn8ekgBpqxvFP16tnZyb/qQEQEOipUr01F7JcDEYLhJj0IuQAg+SRsTA5f8nATZHdeHqs5VYaY9hhb0BdBzLtlbPcnvqwzyWNoZ99qhcLliG2LtAVBSXfiS55tmwsPHznCGEgYk/O3LGx0HHsa4JK7+A9ZOk0nTnf1KgdKOjuciqLyWN9Nbp8rr087BjeoHelqF0Ywx6EeMeJH1+aj4HSQd/JIbCLYfZt9fjXJv6PPen3Qt9XyS97e3MsrfhZ9tl9Ex9l6m2ThzT5XkpbVQOFy7FuPu4vxssj+nZf3v6PLEzd4avIHzJy9B0GPRxKzA6sBymPyG7b79gOLFDAqHr3FQSnSJbNTqJlO7mP7K+icGQR4xBLwZc2TyasT3rMmnFAX5cXrCVpH0bu3bhB0+do3KY5+5zqb0xldXpjE5GZQ5bmvfx0X/BfZ7NP1LuWILPvrk8lvKhCHAN+djVGi7xuOSbh1UXVcYFb0HMFSK9+++jko8O4m8HUVhsPBh2zpRCMIPhIjAGvZjwyOUN6BETyXNTN7F6f8G1g/P3cUmzvjFjOxUC/TzOL7NLVsZlljLauciW4nkc2RDuXy8GO8xNbdHqx4b9sXxgeZfzYfXh+u9FKhfkQ+GX0ZCSIOPzX5fAtLbD/NdEG+axPY78899d12x6jXwb2G7cLoaLwxj0YoIESVtRJbwcd32/pkArSbvHSBekv9YfYeNhz/S7vboyp3UwtS3HC+z9SxQjJrmEudz92yGVaTT7VuIJxuem3ySl0cl/T8OBpaK/cjZOGmHYUmHnDHGBDf5IiowaXSXGO/WcvK5aewipYtwuhovGGPRiRFigLxNubMvZfA6S7j1xlmembCI5Ta4XU8nlJ35l2tZMsxXlVVK+vG+JI7pl1jFnezmQ1EMnZw4QnH6K8VVfI6BCNdf4+smw/FPoeI8Y7D/vdZ3r87wEqZ0xjabXSOXozv/k2GKBJkNg10xITsifezKUKYxBL2Y0qByS70HS3bFJTFy2n783HM1ybvnerO6dvWU12+XoOs/jCnVhy5/y/Ngm17izvB9o0MQtb/zYRvjrfhHi6vsCzHsFEg7JuUHvQ1eXTAAg84Iqebpdmlwju/nt0y79fgxlDmPQiyH5HSRtU7M8AN8u2Yd7U/AgP++tzm5Ne+yS37NEE+hoK1cuHPYuFC35T7u4zh/bxP6oPgAM0A6ZhHOn4KdR8pprv4GjG1wdja79FtrcnPV9nIHQHf+JxjpAtbbiqzduF8NFYAx6MSU/g6Tlg/xoWDmEjYfjWXvwDCDGfGDzKl7nt1C7L+n9SjTV2kHPJ+X54dWgbfDj9Z5zBrzJiwGPsd1Sl8gVb0gx0O9jpI/odRPl+IteMnfQB+JGyY6m13jmnyslRn7XbDh/Jr/vzlDKMQa9mJLfQdL2tSsAskt3Uq18uSzzAknmPb+PL+m9SjSHVopAljuHV7med32I5Fa3smTPaZbWfVBcKq/XEvXFK16XrkMftJS5MVfkrphYvaNUirrvyJteI1kx2/7JjzsylCGMQS/GuAdJ77rEIKnToE/beJS4JEnN23wka+Dtbd9PLvo9Sg1LPsj+XO9nWbnvFOfTbNRs00/GbKlivKOawJd9XXO99QjNjMUCjYdI/rkzEFqlNYTXMG4XwwVjDHoxp0HlEN66tgVrD5zh+akX35PUadDTbJo/1x3hbKqN/7Yc85hTRx3hCqv0xXwp7YYs1yj95NIV6O7loBTztsfh52OhU/gZ17ljG+G7IZDmSEEc9Vve+382uVry37f/61iGkrE9c8U3bzDkEWPQSwADmkVzd8+6TFpxkB+W77+oa1QKCaBORJDHmNWimP5At4zjOf6PAPB1ej9m2Vtf/IJLKlVa5nz+0ApIT2H+jji61yxHwG83SY9QENdLuqONXMOBUL9P3t+3WjsIrea5I29yDdjTYdvfF3QLhrKNMeglhIcdQdLnp27ONUh6IimFUV8sY8KC3SQku0rZnbt0J1e3qoqvVf4ErrfOzRh/If0meljW5+PqSwhpucQppo4j/b0WJMQe5H/p4+HEdqjZ2XOOTzlRW7wQMvLPZ7kCodEtoHxt43YxXBDGoJcQLiRI6u9jYf/Jc7wybRudX53Dy/9s4ciZ83So42nQO9WtyLWfLsWKjUd9JstY8of4k8aLvt8W6P0US+K2ulIWs+Gc9mOkz2zqHP9PVBi3/Q0NrnQVJdXqKv7vC6VJpkCoUhIc3TMfzpZRXR3DBWMMegkir0HSkABfJo3pSNXwciSlpPP5wr10f2Muk5Yf9Jj34OT1pKXbWdFjAxEqgbGp93OUitxmLcNFLecyGc+K9T0Ovwu+jft8HLvmtHPQchQM/Vy6DQGcjRUN9AulamvpMerhdrla0ia3Tr3w6xnKJMaglzDyGiStXiGQn+4Qow7QoU4FNh+JzzovdRdhy0U29197Bypzksd8fy6w9Zc4Tu70OLz72HNYcBjsTvfCVR/Bsk8g8ajkjx9d76ouvRC8BUKjmkLFesbtYsgzeTLoSqn+SqntSqldSqkncpg3VCmllVJt82+JhszkNUhavUIgk8Z0JDosgC1HEvhidDuP876k82G5CZzSwTybdjMAT/pO8nKlMk77O0WvHLAohzHv/azosiQcFmncRoNg2NfSRm7W85CeeuHv0+RqCYRu/UuOlRJXzL6FkBSbP/diKNXkatCVUlZgPHAF0BgYoZRq7GVeCHA/sDy/F2nIysOXN6BnAwmSrtqXfZC0RkUx6v4+VkZ8vszj3H0+v1PXvo8n027jDCG0VdsYbF0CwFntX6DrL1H0fRGsvhmHKf3fkQ5ESsEMR1Vpv1ellL/vi9IgetWXF/4+0S2gQh0vbhe7cbsY8kRedujtgV1a6z1a61TgJ2Cwl3kvAa8DBaf7asjAalG8f70EScf+kHOQtFZEEJPu6OgxVpmT3O0zlVRt5UbrLN72/YRf/V3ddu5Ju6/A1l6c2Fj5mtwnTX9CWtI58K/WUsS6po6T3XT3RyDcoZVerw/U7iEa6Bdauu90u+xdIPoxIEVLvoGmatSQJ/Ji0KsC7tG0Q46xDJRSrYHqWusc/+qUUncopVYppVbFxcVd8GINnlxIJemRM+c9jhMI4kD90SywN6eCSmCodaHH+W/83iyQNRc3mh37PfdJq78G4Kf0nnL8RS8R69rwM7S5RTTOnSglrpjzZ2DROxe+oCbXSCB0/usi1zuhB1j9pL2dwZALlxwUVUpZgHeAh3Obq7WeoLVuq7VuGxkZealvbUCCpG/nIUj66fzdRIb48+/9Ukh0jgDS+rzE7WmPckPqk5z3cTVo+M3WLbvLlAkmBI/1Oj7cZ57roPVoeGgrDHrP1anISXRzaDEcln2aVRcmN5zXWjFBUhZ7PAEPbIBWZbTHq+GCyItBPwy49d6immPMSQjQFJinlNoHdASmmsBo4XFFs2juuSz7IOnmI/Es3HmCW7vUplF0aMb45e+KG+FBn98oly4ZMAfskQyxLCqchRdTFiVVzX3SsY0QWCH7872elt367Jfy9qan9sIfY2F8e9fYbTPhsic9uyEZDDmQF4O+EqivlKqtlPIDhgMZERqtdbzWOkJrXUtrXQtYBlyltV7l/XKGguChvtkHSScs2EOQn5WRHaTgxdmCDqCBOsCN1pkZxzUscVjVReRRlyK+4+ksY7E6nClVH3INHFkD7zaFtd977y4UVg06joWNP8ORHPqzxh+SphgftZVGFx3vhtGOcv99C7N/ncHghVwNutY6HbgXmAFsBX7WWm9WSr2olLqqoBdoyBvZBUkPnjrH3xuOMrJDDcLKSaZG/YwWdJrnfL7DR9kzrrPPHkWSDmCHvSqHdERh30axZGtQOyoST1jLwfCs24dl/EH48x54qz78eivsmCENop10fVAqT/97JmuxUeIxmPYofNAK1v4gvvj71kG/l6F2N0l/3JQH/77B4EaefOha62la6xitdV2t9cuOsWe11llyqbTWPc3uvGjwFiT9ctFeFHBr19oZ85yagv0tK+lsdbW5O6lD2KOjCSCVh9LGEqfDC3X9xY7gygBE2k9gVZpOCf9KamK7Ma4513wBrW6A3XPgx+vg7Ybw7+PSHMM/VHzg+xa6+oaePQEznoL3W8DKL6HFCLhvLVz5FoRGu67b5GppNJ1wpBBv2FDSMZWipQz3IOl9k9YyeeVBBresSnSYZzOLAFJ42vd7j7F30q+ll3Ud421D2KTrkIpPYS69+JEk8sIR5/cCELDwNVj9DfgFuubsWwBXvg0P74Dhk6BWF1j1NXzeCz5qJ1ICFl9JcZz5LLzXHJZ9LAZ73Cq46gNXyqM7Ta4G9MVVnRrKLGX8f2zpxBkkHT9XWsnd0b2Ox/njiSncaf2baupExtjtqQ/zmu/nbLLX4qP0IQCka+89R8s0f93vebzuR7jiTdE+bzhAfs6fgS1TJK1x/msyL+k4LH4f6vaG/q9BZEzO7xNRH6Kaidulo/esG4MhM2aHXkq5u2e9jOeJbhK6AGvWr2esj8tbputcxlDrAkI4x8Npd5Hm+JzvYr34hhqlgs7jsFn8eTVthGssqhnc+h8EOQLL/V7JmrZYLhyaXQv1+5KF3bNhzktSKJSbPEDTq0WD/czBnOcZDA6MQS+l/L7WlVl61/drOBYvQVKtNU/6/kiAchn505U6cIV1Je+mD2O7lkwYfy5Ci6Sk02iQ57HdhtWewoJyvdFOAx67ReRxhzpK+0MqS3qik7TzsHS8+MhnPQ/1L4c75sFts1xz9i+Bn0bC2zHw90NwcIV3hcYmV8vjlin5dIOG0o4x6KUQm13z+YI9tKwezn8Pdud8qitIum3pNAZaXXI7823NCVo1njX2ekywDcwYH22dURRLL1oyVWPaj8s3lJ61yqG6PiiD2gbrvoeaXSSDZfMUGU9PgRWfS9bKjP9JlsptM2HUL1ClFVRvJ71DfQPFwI/8Ber2gnU/SB/SD1vDvNfg1B7XAirUEZ11k+1iyCPGoJdCpm86xoFT57irRx1iokJ4+7oWrDt4huf+3AxL3idRl2O5vSFaWaiuYtHpKTycNha7488hlCTu9smSwFS6qdtbpGv9QqDH4wBY9s4HoFsVO7S9NSPrhdXfgbLIjn7bP7B8AnzYBqY9Il2Gbv4HRk+F6u0936PPc5LWuOANiLkchn0Fj+yEweMlb33ea/KB8EVfWPmFyOg2vUZy3k/vK8RfhqGkYgx6KUNrzafzd1M7Ioi+jcUA9W8qQdKfVh7kfycHcHvqIzRTkrlRx3KMV9NGsFe7UubG+vxFuDpbJOsvMpKOS5Pmer2h6VCPUy3CU8G3nCgsAsQfkHZx6SnS3PnfRyG4EtzwO9wyTboWeaNCHWg/RoqRYrfKWECopD2O/gse3AR9noeURPjnYXgrxpXlYjTRDXnAGPRSxtI9J9l4OJ4x3epgtbh8uw/1bQDAWl2fHtb1BKoUlLaz1tqM72yu4F1lTnKLdTr77ZUKfe1FRpNr4PgmMeoNr4TIBh6ng3AIm7W+ydWi7sdrYb1DO94/FG6fLR8G7v50b3R/VL4FzHw267mwalKMdPdSuHMhdLhTKkkBds2+hBs0lBWMQS9lTFiwh4hgP65p7alHYrUo6kYGEUYSN1mlyEX7BTHu3O1otz+DB3x+Q6E9duylnivfdj2v39fVMchJo0EStNw927NF3YC3ZHettezW80JgBej+sBQa7ZnnfY5SIvDV72V4cAvc+Af0eeGCbslQNjEGvRSx9WgC87bHcUuX2gT4euaQ7zyeyO64s7xdfTHBSjJevg6+g0PapesSSDLXWudzmhB6WtcX6tqLEtsRt3td8Tl80sVzwqGV8Pllkpni3gA6OV4yUVITpVI0r7S/E8JqiCSA3Z7zXKuPBE+rtcn79Q1lFmPQSxGfL9hDoJ+VGzrUzHLu51UHKW85R68E8cXOtbXgxSNtaVbVpeR3jgBeTL+Jyup0oa25OHBi8beug7kvg2853q75qWvsh2GyMx/8MYxbC1d9KONzXoJa3SAg/MJSC30DpIXdsQ0i3mUw5BPGoJcSDp85z9T1RxjRvgZhgb4e51LT7fy+5jDPRy3CkpJAvA7i8bQ7AMXhTI0vvrX1Y7GtSSGuvOiJ2usZcLS3vIHu+z90DTQYAPeuFk1yq4/orzjZtwgaDpSAal7dLiCB1+iWIq+bdj7X6QZDXjAGvZTw1aK9aDxFuJzM2RZL8tl4BpwVw/VM2s3EUp5u9SM4ddazgCiUJNpatvOnrXNhLLt40eYWACxzXqCWPkRcRAcZP7kbfPxc86y+MPA9ef7DtdBkCKQkwO65eX8vi8XRZPoQLPskX5ZvMBiDXgqIP5fGpBUHuKpFFaqGl8ty/udVBxkbOAff1Hhm0oGpdjHWH41snWXuQOty/FU6E9KvLPB1FzscreYAbk57HOtNjp37ie1Z57a6UR61DSIbShOKCxXSqt0NYvrDonddPUQNhkvAGPRSwPfL93Mu1ZZFhAvgeEIyy7cf4Gb1D6cJ4zXLHfRrUpkgPyv+Pln/+YdYF7HTXpVEArOcK/X0ehruW0sKfjwYOpcKoUGuc0mZeuBafTIKkJh8AzS4ErbnQZ8lM31fhNSzMP+NS1u7wYAx6CWe5DQbXy/eS4+YSI/2ck5+XX2IjmozwbYzPG27jTdG96Z6eTHWu2KTAAj0k4yYaiqW9pbt/GHryne+rxXeTRQDntJ3k9zpIc4EVGNS+mVcljJHRLE63ycT5r2S9UVOg350neSvJ8eDo7o0z0Q2kPz2VV+Ka8dguASMQS/h/L7mMCeSUrmzR9bdudaaX1YdZL69BVemvMzlQ2+nTc3yGed3xiYCcGsX8btf7eglOs3enorKS1u1Ukxj23YW7Ihj4c4TTEi/EgsKln4khUAAq77K+iKLVXbmIO4W/1CXtsuF0PNJsPrDrOcuev0GAxiDXqKx2TWfL9xD82phdKpTMcv5FXtPse/kOdLxoW/vyxnc0rPYaPuxJHytisgQf0AzxLqYZfZG9LSsJ0Sd55f07oV0J0WA1c/jsJfPOv7ZcIR52+M4HxiNbn4drP7WM3PFW8740C/kcePPoqy47W/PNnR5ISQKuj4AW/+CA8su7LUGgxvGoJdgZm45xt4TZ7mze12Ul5LzyatER3twyyrc37t+lvM7jidSNzKYlHQbLdRu6lqOMt3Wjnt8prDE1phfbT0K/B6KjH6eLpRoTrJ36yr+23yMbvUjsXR9ENKTYfknULWtTNrsRfXQL9BVbJRwGJLPXLjbBaDTPSL+5a3/qMGQR4xBL6Forflk/h5qVAikf9PKXucs33OKNjXL8/rQ5l4N/o7jicREhZCUYuNq6yKStS+R6gyRKoG30q+jiirFmRd75oFPgMdQJ9saElPS6RETKR2FGg2CFV/AZf+TCf887P1aIx3FQQeWyjUvxu3iFwS9npKGFqbtnOEiMQa9hLJi7ynWHzzDmO6eIlzu/HB7B76/rUMWGQCAlHQ7h06fp36lYKatO8Ag61KW2xsxyjqbObaWrNExtLLsKujbKDq2/S07cDdG+ksMoXuMQw6h20OQEi9BT5Ddt7fdc6VGrufpyRfndgFoOUp01Gc9f+HZMgYDxqCXWD5bsIeKQX5c26ZatnNqRQRRzs97X9B0uximt2fuoMbppVRUiZRXiYSrs7ydfi0AA9waYZRaRv2W8bSm/SBdo22OmALSmKJub8/CH6fsbWaGuEkFnD8N+xZe+FosVuj7EpzeK1kvBsMFYgx6CWTH8UTmbItldOdaXnffOaG15r8txz3GrrEuwqYVMeoQ02zt2awl6yWiLGS6HN8IyvU7nHj6Js/gZ7eH4WwchDv0cea+7P06TYZ4Hl+s26Reb6jTE+a/Ls2mDYYLwBj0EsiEBXso52vlxo5ZRbiyw27XTN90lAEfLOLAqXMZ4zue7kw/nzVYlcaPdN5NH5bDVUohs56Xak8HCg1zXnSdr9kZqneApFg53va39+v4lhMVRSdb/wJb+oWvRynZpZ8/A4veufDXG8o0xqCXMI7Gn+fPdYe5vl11ygf55TrfbtdM23iUAR8s5K7v15CSZqOi43XNqobht+NvfLX4a/+0d2andrpwSlGmRWRD7+P3b4B7V0GNTLo1i96Fv+4Xf7lSsktPdxPQOnPQ+/U63ePSLT93EvYvvrj1RjeHFsNh2adw5sDFXcNQJjEGvYTx9eJ92DXc5kWEyx27XfP3hiNc8f5C7v5hDak2O+9d35KZD/Xg6laSj14/Khg2TAZAKyvvpbtar4WTVHA3UdjEbfM+7lsOIuqjb/6bk4R7nlv9DbwQDgvfgaim8uNk4y/er1e+puST1+omxxciqZuZXk/Lh8nsly7+GoYyhzHoJYj482n8uPwAVzaLpnoF71orNrtm6voj9HtvAff+uJZ0u533h7dk5oM9GNKqqkdGTJuwpIzgXWqzEezXrvTHqqU5ZdFJ4jEAtsee5a90t4bODtVFAGa/AO81lRZ17mM50fNJedz6F9htOc/NjrBq0PFuKVg6svbirmEocxiDXoL4cfkBklLSvYpw2eyaP9cdpt97C7hvkhiAD0a04r8HezC4ZVWvqY0dzznkXq1+HGk+zuNcPXU4/2+guJEkweF52+P419bBNR67BR7YCEGOvqqtb4KQTC35tv+bfQFQrS4S2DwbB/uXXPz6uj4gPUxNsZEhjxiDXkJISbfx1eK9dKsfQVO3LkM2u2bK2sNc/u587v9pHRYFH41sxYwHunNViyrZ5qiDpsbBqfK0zS0cVREeZ6+xLiqgOylGOHbo87fHkVipjcuAH1oJfsEw8ifwKQfHN8O41dKUwsmk4fBRW1jwlquRszuXPSWPl1IkFBAGPZ6Qb1E7Zlz8dQxlBmPQSwhT1h4mLjGFO7vXBSDdZuf3NYfo+858Hpi8Dl+rhY9HtWb6/d0Z2LwKlmwNOVQM9qdHyBF8T+0Qg9XtYQ6d9uya08O6oUDvp1iQeIyklHRW7T9F94bRUhkKoO3SI7RqG7hmAhxaBX/eIy3o3HfqwVHShu7dpvDdENjwM6Q6MoiqtxfhrhM7Lm2NbW+BCnVh5rMXlzVjKFPkyaArpforpbYrpXYppZ7wcv4hpdQWpdQGpdRspVTe8+kMuWK3az5bsIcmVULpUKcCv64+RN93F/DQz+vx97Xy6Q2tmXZfNwY0i87RkDsZ0602n7dwVIF2uANCotgdW4qCoHkl6RhLdp0gzaal3L/xYNe5nf/JY+OrRLN88x+SG97ZzTU1cjLctxZ6PAandsPvY+CtGJg6DvYvhWu/gRGTLm2NVl/o+4I02Vg78dKuZSj15GrQlVJWYDxwBdAYGKGUapxp2lqgrda6OfArYNT685FZW4+zJ+4s0WHl6PPOfB75ZT3lfK18dmMb/hnXlf5N82bInfhgx2/rH+AXAl0eAFza6DnxVXr/i72F4smpvczbEUewvw9ta5WHml2gfC05t3uOq8Co8zhoc7PkhVvc+rXumgUV6ojWy33rYfTfssvf+Bt83R8+7gBLP7701MOGA6F6R5j7CqSUwQ9eQ57Jyw69PbBLa71Ha50K/AQMdp+gtZ6rtXZWqywDsq9HN1wwny3YA4hhD/b3YcKNbfjnvq70a1L5ggx5BnvmwdlYyZsOrADArrjcDUUSAbnOKREo+bPXexcwf3scXepVxNdqkS5EY5fC/evh7mXS9xMkfXDAW1DnMpjxJFz/A5SrAFvdiowsFmkpd/Un8MgOGPIJhFaFuf8H7zWDbwfB+p+kO9EFr1dJ/9GzsbDkg3z4BRhKK3kx6FUB90qKQ46x7LgN+NfbCaXUHUqpVUqpVXFxcd6mGDKRmm5ny5EEmlUN44ub2vL3uK5c3qSyV/XEPHN6L4RUgU53ZwztP+mqHvXHuzCULi0hF4evXNnTOHzmPD1iKrnO+QXKLj3IM0iM1Reu+xYq1oc/74aK9cQt401Eyz8YWo6Em/+WD4ee/4PT++GPO8UlM+Ue2Lf4wjJXqreDJlfDkg8h4eiF37OhTJCv/0OVUjcAbYE3vZ3XWk/QWrfVWreNjIzMz7cutfj5WFj1dB+m3tuFPo2jLs2QO2l3u/h+A8K8nnbmoMfrQD5MH5IxfkhHeJ1fooiIgfr93AY0PRrk8W8xIEz85lY/kblNSYC9C3J+Tfla0PNxuG8d3DxNNF+2TIFvBsAHLWHea3B6X97ev/dzouLorR2ewUDeDPphoLrbcTXHmAdKqT7AU8BVWuuUzOcNF0+Qv0/+GHInSoGvy32iM+0Um6h9ACyzN2aUdVbG+FWWS8ipLi6c2CF9PB20jtBUDS+X99eXrwkjJru01Lf9lbfXWSySnz54vLhkrv5MBL/mvQbvt4BvBsLaH3L2kVeoDe3HwNrv4fiWvK/ZUGbIi0FfCdRXStVWSvkBw4Gp7hOUUq2AzxBjHpv/yzQUJNM3HfM47mgRidhtugYVlMvAdLNuosTReVzWsfmvZzztfzH5WNUc6YwA26ZdeDWoX5BotYyeCg9sgMuelm5Hf94tLpk/xsrO31vLu+6PSjB75rMXsXBDaSdXg661TgfuBWYAW4GftdablVIvKqWuckx7EwgGflFKrVNKTc3mcoZiyNT1RzyOO1pk93dKh2SMnde5C4EVS9yLgZw4UxKBbhUuUiK48WAJVKYnQ9r53OdnR3gN6PEojFsDt86AZkNFMuDbQbJzn/sKnNrjmh9YAbo/ArtmSnDbYHAjTz50rfU0rXWM1rqu1vplx9izWuupjud9tNZRWuuWjp+rcr6ioThxbVvPpKS6Fgm6zbG3zBgrKRkuf+pMja0DwqBSE8+xqz/LeBpzbvXFv1nncfDYXgmCXipKQY2OcNWH4pK55guoWBfmvwEftIKvroA1EyElEdrfAWE1RBLA2y7eUGYpJWkLhkuhnK+P1/GDOirjeWQJaXZxNLS550BaMsRu9hjSjYdkPLcmZCOFm1es3n93l4RfIDS/Fm6aAg9ugt7PSsri1HvFJfPXfVD3Mji2QcS7DAYHxqAbOJFUemLYcafOsNvuKs9/+ZMvAPi4sksh8e2/1/BS2g1yEBBemMu7cMKqiR77vavgtpnQ/DrYPh3WfCvnZ794aS4fQ6nCGHSDh0FXuH+FL3kKf+GWc5yKcjWs6GZbwQF7JH+ea5UxtnfVdA5YHYlbW0tIuEcp0YcZ9D48sh2Gfgn1+khno7OmpsMgGINu8DDoVTgJwGkdTCRnimhFF0/bgCO0a9cp47i7dSMz7W1pV6dCxth43/f55P7hcpCeXNhLvHR8y0GzYXDDb/DUEQmsGgwYg24AYhNcBr2NRdQBl9kbUUOVvAzUTmnLOGn1LBQKaDqQ75cdYIVvu4wxH9xSDU0zZkMpwRh0g0fZvzNlcZm9cYk06ADbdu3yOB51xWV8Obotv6V1cQ0uft/1PLsWdQZDCcMYdIOHMJezqMi5Q7drV4XqUV0hy2uLI122ZurDufEXejeK4qFRgzKGbGu+Rzu1zWO3FuLqDIaCwxh0A6fOugSm6likanSnrkYNSyynceVYd0r5iG/T+xb6+nKlz/M5n187EbQmqqLrA8mKDe3oWMTRdQW2NIOhMDEGvYyTWcfFiR0L1VUsJ3VoxpgP6TSyXKK2dz6z2l6fR3c0xoYVgL3+DTzOH2n9CJzcRfyOhaT7BHmcsziyeFI2/Y3BUBowBr2Mk5CcfVuzGiqWk9qlyFhXHaG9ZXthLCtPnNX+DE19gfXxASxWkpZ4S8IdfOCmEHnv0mCSdAAzJr5F01cWe7zejriT/FNO8Pp040c3lHyMQS/jZFdU5E8qldVpTuLaofe2rM14Ps/WosDXlhtBKoWZEe/xX8fNdO8t/vFZg1I4EHNrxpzn+kRzouaVXO2/gvt61kLjigksC+iW8Xzzrr3ZflsxGEoKxqCXcU4kugx6FKcAOKlDqKakWOWEm8tlqNWl/X1z2uOFtMKcCU09Jl2EZj0HgM9//+O2GsfplvIuAC2CE6jV5058bee5u9ImlL9LcKzz0Psynn83MDR/JYoNhiLAGPQyTpzbDj2eIE7rYB5KuzsjZfGUm0F3inbdn3o3xYHN9po8U+1r6Qo04K2M8UbzxjDb/1E5mPEklCsvjS3WTBTpWifHN0ODK+V5rNEXN5R8CkBZyFCScN+hJ+NPqxTR+R5tnQGQ4XLZbY+mruUoJ3UI/9g7Fv5CvdDEsp/hx9+ChY4Wcq1HQ3oKHFiCn7Mxsz0dxrfzfGFoVdEfX/gOPLEfXqthctENpQJj0Ms4J5K89w+toWI5q/1Jduig79FVqMtRZtrakI4PgRSPkvkmSUuxbfdHKVCoDA95ckAk8efT0PX6UrlhR1j3Ixx2SOUmOBpupcQ7Ohg1hFhj0A0lH2PQyzjZBUVrqFgO6EqUU3K+iqPP6EZdB4DK6lThLNBBgi5H85Qv2eY/mgCVxpNptzHJ1ltOOm7Bz2ohPNCXCkF+BAZaWXPmDDeF1uTFdk2lj+r3w6QxhDvj2wNK3DJaiwiWwVBCMQa9jJOdQa/uMOhBjp14bSVFOKmOP5nCNujHrdHc3LkW8auDCOAMd3WtxqT5cu6NYc05fTaV0+fSOH02lVPnUjlzLpW6kUFULx/ouki728WgR7eUzj+750D1jhBYESzWQr0fg6EgMAa9jBPn1eWiqaFiWWRvSqASgx7o2Kk3UNIQojKFa9Dr2/dw8mwqiQQRxRn8sFEhyA8FXNe2eq6vB0RuNrgypCZB3xfFoJ8/BbfNKNC1GwyFhclyKeO4B0WdRJBAoErx2KHbtSJWhxOjDgGFv0MH2HQ4njSr7LhPhDcjJiqYs6nZF0ZlweoDvZ6C+v2gpkOo68SOAlipwVA0mB16GUZrzfGErMHNGuo4AAd0JRqr/QAssjcllvJ0t2wAILoIDPrcR3rCB3aoMpRmnfoTE7uJZXtOYbNrrJY8+r5b35R1zJZeMK3kDIZCxuzQyzCJKemk27NWR1Z35KAf1JXoYRUD/rutG9vs1amkzlCeBKLVyUJdKwApSeIiKVcegMEtqzCkZRXyasuz4GwevW9BzvMMhhKCMehlmMzulm71IwAyiooO6ciMnfgMe1t26GoAxKjD9LGupSD4OP2q7E/u/E+aUZQT1cQ2NSvw3vBWF1/h2e0heVz07sW93mAoZhiDXobJnIPetZ7LoGfWPj9PANvtEnxsbtldIOtZZm9ET8v67Ces+Q7QGTv0S6aRQx99r9mhG0oHxqCXYTKnLDaKlqrQGhZJWexnWQVAivYF4DjlOaODeMr3x3xfS7L2JaLlABpb9mc/ac9ceQzMp0YbPv6u50aYy1AKMAa9DJPZoPtYxXVRXcVyUFfiGutCAObYWzpmKE7pEAqCAJVGzWbdcp8I+bdDhwz3jdFyMZQGjEEvw8S5+dBrVQzEqpTI5nKaZO1LN0dGS5IulzHP2dGoQPAJcD13Biy9US6fdujg8qO79xg1GEooxqCXYdx36Fe3qobVoqiqTmBRmlaWXViVuCGSEIPeWO0rmHU4FB2ti99xDXZ/xHPSZU9Bs+ug6VCo1Cj/3rz1aHncMDn/rmkwFBEm+bYME5foCop2qVcRq0VlZLg0UgdYa69HE7WXc/gDmmd8vi+QdRzUlYhQCVh2/ecatKV5TqpzGfR4LP/fPCA09zkGQwnB7NDLMO5a6NHh5bBaVEYOukVp/rJ1wk/ZOKsDuNyyik7WLbyUdkO+r+OkN7/85j88j5Pj8/19s5BYgO4kg6EQMAa9DLP+4JmM55VC/LEo1w49VVuZbZc+nelY+Z/Pj+ywV+UbWz/+tbXzdrk88VjamCxj2tuf4e7ZnscpBWjQO90rj0vHF9x7GAyFgDHoZZTM/TN9rRZ8rC6DPtvemjQtHrlrrIuoZTnO/6XfgA0rvSzrLuo9D9gjWW7P6v9ub9nqcbyh6vVgyyQaVpA79E73yOOSDwruPQyGQiBPBl0p1V8ptV0ptUsp9YSX8/5KqcmO88uVUrXyfaWGfCUpxSVq1bxaGADbjyVmGPTfbd0ylBYbWg4yx9aSBXZpDO2vMvm3M5GmvUvR6qpt2a+jSNCBHuNh6lzG8932aLZUvtp1snJzeSxIgx5apeCubTAUIrkadKWUFRgPXAE0BkYopRpnmnYbcFprXQ94F3g9vxdqyF9i3VIWo8MC0Frz2rStVFexnNLBzLO3zFBaTNcWXk4fBYAFe67X/tJ2hdfxsNqtAMUme60s5w4jbeSW2JtwMqgehDiMbLNh8lgYPnSA1LOF8z4GQwGQlx16e2CX1nqP1joV+AkYnGnOYOBbx/Nfgd7KtFAv1qzY61JLnLH5OLWfnMb5hBMEq2T+tHUhDZ8MDfSJtr7s1lUBl3BXTqy2x3gdf3OtuHA26toe46d9IvnaOhSAxfam0jWofh852XgwKCskJ1zYDV4oTR0fHNumFez7GAwFSF7SFqsCB92ODwEdspujtU5XSsUDFYET7pOUUncAdwDUqFHjIpdsyA+cQlzuxBPEJ+mD+Db9cgA222sxIf1KPkp3fX4f1LKT/i69L8d1ebpbN9DBso35tuYZyozzHa6ZrfYabNE12GGvTttIG0kVO8Hp0/xg60OViPIcOhHPsE4NOV2+OQ1ttdBnrTRmKJc3jgLrfdLMObwmDHgj50Kj/GDQexBeHer3Ldj3MRgKEJU5OJZlglLDgP5a69sdxzcCHbTW97rN2eSYc8hxvNsx54S3awK0bdtWr1q1Kh9uwWAwGMoOSqnVWuu23s7lxeVyGHDv8VXNMeZ1jlLKBwgDikAw22AwGMoueTHoK4H6SqnaSik/YDgwNdOcqYCjhpphwByd29bfYDAYDPlKrj50h0/8XmAGYAW+0lpvVkq9CKzSWk8FvgQmKqV2AacQo28wGAyGQiRPWi5a62nAtExjz7o9Twauzd+lGQwGg+FCMJWiBoPBUEowBt1gMBhKCcagGwwGQynBGHSDwWAoJeRaWFRgb6xUHJBDR+BSTQSZqmjLGOb+zf2X5fuHS/sd1NRaR3o7UWQGvSyjlFqVXaVXWcDcv7n/snz/UHC/A+NyMRgMhlKCMegGg8FQSjAGvWiYUNQLKGLM/Zdtyvr9QwH9DowP3WAwGEoJZoduMBgMpQRj0A0Gg6GUYAx6AaOU2qeU2qiUWqeUWuUYq6CUmqmU2ul4LF/U68xPlFJfKaViHY1PnGNe71kJHzgajG9QSrUuupXnD9nc//NKqcOOv4N1SqkBbueedNz/dqVUv6JZdf6hlKqulJqrlNqilNqslLrfMV4m/gZyuP+C/xvQWpufAvwB9gERmcbeAJ5wPH8CeL2o15nP99wdaA1syu2egQHAv4ACOgLLi3r9BXT/zwOPeJnbGFgP+AO1gd2Atajv4RLvPxpo7XgeAuxw3GeZ+BvI4f4L/G/A7NCLBvem2t8CQ4puKfmP1noBoovvTnb3PBj4TgvLgHClVHShLLSAyOb+s2Mw8JPWOkVrvRfYhTRmL7ForY9qrdc4nicCW5G+w2XibyCH+8+OfPsbMAa94NHAf0qp1Y4m2QBRWuujjufHgKiiWVqhkt09e2tCntMff0nmXodL4Ss3N1upvn+lVC2gFbCcMvg3kOn+oYD/BoxBL3i6aq1bA1cA9yiluruf1PKdq0zljpbFewY+AeoCLYGjwNtFuppCQCkVDPwGPKC1TnA/Vxb+Brzcf4H/DRiDXsBorQ87HmOBP5CvUsedXykdj7FFt8JCI7t7zksT8hKP1vq41tqmtbYDn+P6Sl0q718p5YsYsx+01r87hsvM34C3+y+MvwFj0AsQpVSQUirE+Ry4HNiEZ1Pt0cCfRbPCQiW7e54K3OTIdOgIxLt9LS81ZPIJX438HYDc/3CllL9SqjZQH1hR2OvLT5RSCukzvFVr/Y7bqTLxN5Dd/RfK30BRR4RL8w9QB4lerwc2A085xisCs4GdwCygQlGvNZ/vexLylTIN8Qfelt09I5kN45HI/kagbVGvv4Duf6Lj/jY4/gNHu81/ynH/24Erinr9+XD/XRF3ygZgneNnQFn5G8jh/gv8b8CU/hsMBkMpwbhcDAaDoZRgDLrBYDCUEoxBNxgMhlKCMegGg8FQSjAG3WAwGEoJxqAbDAZDKcEYdIPBYCgl/D/yRelNMEV2XQAAAABJRU5ErkJggg==",
      "text/plain": [
       "<Figure size 432x288 with 1 Axes>"
      ]
     },
     "metadata": {
      "needs_background": "light"
     },
     "output_type": "display_data"
    }
   ],
   "source": [
    "plt.plot(Co.runtime, Co.tomatometer_rating\t/10**9)\n",
    "plt.plot(Dr.runtime, Dr.tomatometer_rating\t/10**9)\n",
    "\n",
    "plt.show()"
   ]
  },
  {
   "cell_type": "code",
   "execution_count": 153,
   "metadata": {},
   "outputs": [
    {
     "data": {
      "text/plain": [
       "1        Catherine Keener, Amanda Peet, Oliver Platt, R...\n",
       "23       Matthew Hennessey, Kevin Corrigan, Steve Parla...\n",
       "27       Vincent Pastore, Vincent Sassone, Frank Vincen...\n",
       "29       Christopher Jacot, Shawn Roberts, Ryan Bellevi...\n",
       "53       Michael Lerner, Lesley Ann Warren, Jack Klugma...\n",
       "                               ...                        \n",
       "17624    Owen Wilson, Kate Hudson, Matt Dillon, Michael...\n",
       "17636    Yahoo Serious, Odile Le Clezio, John Howard (I...\n",
       "17651    Danny McBride (IV), James Franco, Rasmus Hardi...\n",
       "17683    Sam Eidson, Anne Gee Byrd, Garrett Graham, Bro...\n",
       "17705    Ben Stiller, Owen Wilson, Will Ferrell, Penelo...\n",
       "Name: actors, Length: 1263, dtype: object"
      ]
     },
     "execution_count": 153,
     "metadata": {},
     "output_type": "execute_result"
    }
   ],
   "source": [
    "Co.actors"
   ]
  },
  {
   "cell_type": "code",
   "execution_count": 155,
   "metadata": {},
   "outputs": [
    {
     "data": {
      "text/plain": [
       "1         19\n",
       "23         1\n",
       "27         5\n",
       "29         5\n",
       "53        22\n",
       "        ... \n",
       "17624    135\n",
       "17636     21\n",
       "17651    131\n",
       "17683      6\n",
       "17705    181\n",
       "Name: tomatometer_rotten_critics_count, Length: 1263, dtype: int64"
      ]
     },
     "execution_count": 155,
     "metadata": {},
     "output_type": "execute_result"
    }
   ],
   "source": [
    "Co.tomatometer_rotten_critics_count"
   ]
  },
  {
   "cell_type": "code",
   "execution_count": 143,
   "metadata": {},
   "outputs": [
    {
     "ename": "AttributeError",
     "evalue": "module 'matplotlib.pyplot' has no attribute 'plo'",
     "output_type": "error",
     "traceback": [
      "\u001b[1;31m---------------------------------------------------------------------------\u001b[0m",
      "\u001b[1;31mAttributeError\u001b[0m                            Traceback (most recent call last)",
      "\u001b[1;32mc:\\Users\\alialkirzam\\OneDrive - Liverpool John Moores University\\Documents\\GitHub\\Coursework\\Coursework-3\\ali.ipynb Cell 14'\u001b[0m in \u001b[0;36m<module>\u001b[1;34m\u001b[0m\n\u001b[1;32m----> <a href='vscode-notebook-cell:/c%3A/Users/alialkirzam/OneDrive%20-%20Liverpool%20John%20Moores%20University/Documents/GitHub/Coursework/Coursework-3/ali.ipynb#ch0000014?line=0'>1</a>\u001b[0m plt\u001b[39m.\u001b[39;49mplo(Co\u001b[39m.\u001b[39mruntime, Co\u001b[39m.\u001b[39maudience_count\u001b[39m/\u001b[39mCo\u001b[39m.\u001b[39maudience\u001b[39m.\u001b[39miloc[\u001b[39m0\u001b[39m]\u001b[39m*\u001b[39m\u001b[39m100\u001b[39m)\n\u001b[0;32m      <a href='vscode-notebook-cell:/c%3A/Users/alialkirzam/OneDrive%20-%20Liverpool%20John%20Moores%20University/Documents/GitHub/Coursework/Coursework-3/ali.ipynb#ch0000014?line=1'>2</a>\u001b[0m plt\u001b[39m.\u001b[39mplo(Dr\u001b[39m.\u001b[39mruntime, Dr\u001b[39m.\u001b[39maudience_count\u001b[39m/\u001b[39mDr\u001b[39m.\u001b[39maudience\u001b[39m.\u001b[39miloc[\u001b[39m0\u001b[39m]\u001b[39m*\u001b[39m\u001b[39m100\u001b[39m)\n\u001b[0;32m      <a href='vscode-notebook-cell:/c%3A/Users/alialkirzam/OneDrive%20-%20Liverpool%20John%20Moores%20University/Documents/GitHub/Coursework/Coursework-3/ali.ipynb#ch0000014?line=2'>3</a>\u001b[0m plt\u001b[39m.\u001b[39mshow\n",
      "\u001b[1;31mAttributeError\u001b[0m: module 'matplotlib.pyplot' has no attribute 'plo'"
     ]
    }
   ],
   "source": [
    "plt.plo(Co.runtime, Co.audience_count/Co.audience.iloc[0]*100)\n",
    "plt.plo(Dr.runtime, Dr.audience_count/Dr.audience.iloc[0]*100)\n",
    "plt.show"
   ]
  },
  {
   "cell_type": "code",
   "execution_count": 10,
   "metadata": {},
   "outputs": [
    {
     "data": {
      "image/png": "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",
      "text/plain": [
       "<Figure size 432x288 with 1 Axes>"
      ]
     },
     "metadata": {
      "needs_background": "light"
     },
     "output_type": "display_data"
    }
   ],
   "source": [
    "x= [1,2,3]\n",
    "y=[1,4,9]\n",
    "z=[0,2,3]\n",
    "plt.plot(x,y)\n",
    "plt.plot(x,z)\n",
    "plt.title(\"test plot\")\n",
    "plt.xlabel(\"x\")\n",
    "plt.ylabel(\"y and z\")\n",
    "plt.legend([\"this y\", \"this z\"])\n",
    "plt.show()"
   ]
  }
 ],
 "metadata": {
  "interpreter": {
   "hash": "6beb2e9681e0e9a4403d6ad4a1b29b2f116269149ae109e3537cd17bac79b06b"
  },
  "kernelspec": {
   "display_name": "Python 3.9.7 ('base')",
   "language": "python",
   "name": "python3"
  },
  "language_info": {
   "codemirror_mode": {
    "name": "ipython",
    "version": 3
   },
   "file_extension": ".py",
   "mimetype": "text/x-python",
   "name": "python",
   "nbconvert_exporter": "python",
   "pygments_lexer": "ipython3",
   "version": "3.9.7"
  },
  "orig_nbformat": 4
 },
 "nbformat": 4,
 "nbformat_minor": 2
}
