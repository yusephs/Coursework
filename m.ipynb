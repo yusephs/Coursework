{
 "cells": [
  {
   "cell_type": "code",
   "execution_count": 13,
   "metadata": {},
   "outputs": [
    {
     "name": "stdout",
     "output_type": "stream",
     "text": [
      "\n",
      "percentage of certified fresh is: 26.13\n",
      "percentage of fresh is: 36.72\n",
      "percentage of rotten is: 36.99\n",
      "\n",
      "percentage of certified fresh is: 11.80\n",
      "percentage of fresh is: 23.04\n",
      "percentage of rotten is: 64.85\n"
     ]
    },
    {
     "data": {
      "image/png": "[encoded data removed]",
      "text/plain": [
       "<Figure size 432x288 with 1 Axes>"
      ]
     },
     "metadata": {
      "needs_background": "light"
     },
     "output_type": "display_data"
    }
   ],
   "source": [
    "import csv\n",
    "import pandas as pd\n",
    "from matplotlib import pyplot as plt\n",
    "\n",
    "df = pd.read_csv('data2.csv', sep = '|')\n",
    "\n",
    "\n",
    "a = input(\"What is the first genre you would like to compare\\n\").title()\n",
    "print(\"\")\n",
    "b = input(\"What is the second genre you would like to compare\\n\").title()\n",
    "\n",
    "\n",
    "acf =len(df[(df['genres']==a)&(df['tomatometer_status']=='Certified-Fresh')])\n",
    "af =len(df[(df['genres']==a)&(df['tomatometer_status']=='Fresh')])\n",
    "ar =len(df[(df['genres']==a)&(df['tomatometer_status']=='Rotten')])\n",
    "ag =len(df[(df['genres']==a)])\n",
    "\n",
    "\n",
    "\n",
    "bcf =len(df[(df['genres']==b)&(df['tomatometer_status']=='Certified-Fresh')])\n",
    "bf =len(df[(df['genres']==b)&(df['tomatometer_status']=='Fresh')])\n",
    "br =len(df[(df['genres']==b)&(df['tomatometer_status']=='Rotten')])\n",
    "bg =len(df[(df['genres']==b)])\n",
    "\n",
    "\n",
    "pacf = 100*acf/ag\n",
    "paf = 100*af/ag\n",
    "par = 100*ar/ag\n",
    "\n",
    "pbcf = 100*bcf/bg\n",
    "pbf = 100*bf/bg\n",
    "pbr = 100*br/bg\n",
    "\n",
    "\n",
    "print(\"percentage of certified fresh is: \" + \"%.2f\" % pacf)\n",
    "print(\"percentage of fresh is: \" + \"%.2f\" % paf)\n",
    "print(\"percentage of rotten is: \" + \"%.2f\" % par + \"\\n\")\n",
    "\n",
    "print(\"percentage of certified fresh is: \" + \"%.2f\" % pbcf)\n",
    "print(\"percentage of fresh is: \" + \"%.2f\" % pbf)\n",
    "print(\"percentage of rotten is: \" + \"%.2f\" % pbr)\n",
    "plt.plot(pbcf, pbf)\n",
    "plt.plot(pacf, paf)\n",
    "\n",
    "plt.show()"
   ]
  }
 ],
 "metadata": {
  "interpreter": {
   "hash": "6beb2e9681e0e9a4403d6ad4a1b29b2f116269149ae109e3537cd17bac79b06b"
  },
  "kernelspec": {
   "display_name": "Python 3.9.7 ('base')",
   "language": "python",
   "name": "python3"
  },
  "language_info": {
   "name": "python",
   "version": "3.9.7"
  },
  "orig_nbformat": 4
 },
 "nbformat": 4,
 "nbformat_minor": 2
}
